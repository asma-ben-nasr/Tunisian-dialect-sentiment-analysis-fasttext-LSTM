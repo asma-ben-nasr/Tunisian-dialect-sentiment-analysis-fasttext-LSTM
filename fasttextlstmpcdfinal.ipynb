{
  "nbformat": 4,
  "nbformat_minor": 0,
  "metadata": {
    "colab": {
      "name": "fasttextlstmpcdfinal.ipynb",
      "provenance": [],
      "collapsed_sections": []
    },
    "kernelspec": {
      "name": "python3",
      "display_name": "Python 3"
    },
    "language_info": {
      "name": "python"
    },
    "accelerator": "GPU",
    "widgets": {
      "application/vnd.jupyter.widget-state+json": {
        "4f1d924f442d47fbb49fa4bee27b29b4": {
          "model_module": "@jupyter-widgets/controls",
          "model_name": "HBoxModel",
          "state": {
            "_view_name": "HBoxView",
            "_dom_classes": [],
            "_model_name": "HBoxModel",
            "_view_module": "@jupyter-widgets/controls",
            "_model_module_version": "1.5.0",
            "_view_count": null,
            "_view_module_version": "1.5.0",
            "box_style": "",
            "layout": "IPY_MODEL_b22f18d7d460499e96d36e9795453104",
            "_model_module": "@jupyter-widgets/controls",
            "children": [
              "IPY_MODEL_1548fc0c91e64f56b2bbc72465e574b5",
              "IPY_MODEL_63259c8733994995aa7418ea47997f74"
            ]
          }
        },
        "b22f18d7d460499e96d36e9795453104": {
          "model_module": "@jupyter-widgets/base",
          "model_name": "LayoutModel",
          "state": {
            "_view_name": "LayoutView",
            "grid_template_rows": null,
            "right": null,
            "justify_content": null,
            "_view_module": "@jupyter-widgets/base",
            "overflow": null,
            "_model_module_version": "1.2.0",
            "_view_count": null,
            "flex_flow": null,
            "width": null,
            "min_width": null,
            "border": null,
            "align_items": null,
            "bottom": null,
            "_model_module": "@jupyter-widgets/base",
            "top": null,
            "grid_column": null,
            "overflow_y": null,
            "overflow_x": null,
            "grid_auto_flow": null,
            "grid_area": null,
            "grid_template_columns": null,
            "flex": null,
            "_model_name": "LayoutModel",
            "justify_items": null,
            "grid_row": null,
            "max_height": null,
            "align_content": null,
            "visibility": null,
            "align_self": null,
            "height": null,
            "min_height": null,
            "padding": null,
            "grid_auto_rows": null,
            "grid_gap": null,
            "max_width": null,
            "order": null,
            "_view_module_version": "1.2.0",
            "grid_template_areas": null,
            "object_position": null,
            "object_fit": null,
            "grid_auto_columns": null,
            "margin": null,
            "display": null,
            "left": null
          }
        },
        "1548fc0c91e64f56b2bbc72465e574b5": {
          "model_module": "@jupyter-widgets/controls",
          "model_name": "FloatProgressModel",
          "state": {
            "_view_name": "ProgressView",
            "style": "IPY_MODEL_394d323d19d54fb58c951a156c2c7263",
            "_dom_classes": [],
            "description": "",
            "_model_name": "FloatProgressModel",
            "bar_style": "success",
            "max": 1,
            "_view_module": "@jupyter-widgets/controls",
            "_model_module_version": "1.5.0",
            "value": 1,
            "_view_count": null,
            "_view_module_version": "1.5.0",
            "orientation": "horizontal",
            "min": 0,
            "description_tooltip": null,
            "_model_module": "@jupyter-widgets/controls",
            "layout": "IPY_MODEL_20533a30133a4f97b4640e3928f3f6bf"
          }
        },
        "63259c8733994995aa7418ea47997f74": {
          "model_module": "@jupyter-widgets/controls",
          "model_name": "HTMLModel",
          "state": {
            "_view_name": "HTMLView",
            "style": "IPY_MODEL_813bd4b7f84649f9832064f849161b75",
            "_dom_classes": [],
            "description": "",
            "_model_name": "HTMLModel",
            "placeholder": "​",
            "_view_module": "@jupyter-widgets/controls",
            "_model_module_version": "1.5.0",
            "value": " 13376/? [00:01&lt;00:00, 10275.54it/s]",
            "_view_count": null,
            "_view_module_version": "1.5.0",
            "description_tooltip": null,
            "_model_module": "@jupyter-widgets/controls",
            "layout": "IPY_MODEL_d6e24c81215a4772b875403c196ae80b"
          }
        },
        "394d323d19d54fb58c951a156c2c7263": {
          "model_module": "@jupyter-widgets/controls",
          "model_name": "ProgressStyleModel",
          "state": {
            "_view_name": "StyleView",
            "_model_name": "ProgressStyleModel",
            "description_width": "initial",
            "_view_module": "@jupyter-widgets/base",
            "_model_module_version": "1.5.0",
            "_view_count": null,
            "_view_module_version": "1.2.0",
            "bar_color": null,
            "_model_module": "@jupyter-widgets/controls"
          }
        },
        "20533a30133a4f97b4640e3928f3f6bf": {
          "model_module": "@jupyter-widgets/base",
          "model_name": "LayoutModel",
          "state": {
            "_view_name": "LayoutView",
            "grid_template_rows": null,
            "right": null,
            "justify_content": null,
            "_view_module": "@jupyter-widgets/base",
            "overflow": null,
            "_model_module_version": "1.2.0",
            "_view_count": null,
            "flex_flow": null,
            "width": null,
            "min_width": null,
            "border": null,
            "align_items": null,
            "bottom": null,
            "_model_module": "@jupyter-widgets/base",
            "top": null,
            "grid_column": null,
            "overflow_y": null,
            "overflow_x": null,
            "grid_auto_flow": null,
            "grid_area": null,
            "grid_template_columns": null,
            "flex": null,
            "_model_name": "LayoutModel",
            "justify_items": null,
            "grid_row": null,
            "max_height": null,
            "align_content": null,
            "visibility": null,
            "align_self": null,
            "height": null,
            "min_height": null,
            "padding": null,
            "grid_auto_rows": null,
            "grid_gap": null,
            "max_width": null,
            "order": null,
            "_view_module_version": "1.2.0",
            "grid_template_areas": null,
            "object_position": null,
            "object_fit": null,
            "grid_auto_columns": null,
            "margin": null,
            "display": null,
            "left": null
          }
        },
        "813bd4b7f84649f9832064f849161b75": {
          "model_module": "@jupyter-widgets/controls",
          "model_name": "DescriptionStyleModel",
          "state": {
            "_view_name": "StyleView",
            "_model_name": "DescriptionStyleModel",
            "description_width": "",
            "_view_module": "@jupyter-widgets/base",
            "_model_module_version": "1.5.0",
            "_view_count": null,
            "_view_module_version": "1.2.0",
            "_model_module": "@jupyter-widgets/controls"
          }
        },
        "d6e24c81215a4772b875403c196ae80b": {
          "model_module": "@jupyter-widgets/base",
          "model_name": "LayoutModel",
          "state": {
            "_view_name": "LayoutView",
            "grid_template_rows": null,
            "right": null,
            "justify_content": null,
            "_view_module": "@jupyter-widgets/base",
            "overflow": null,
            "_model_module_version": "1.2.0",
            "_view_count": null,
            "flex_flow": null,
            "width": null,
            "min_width": null,
            "border": null,
            "align_items": null,
            "bottom": null,
            "_model_module": "@jupyter-widgets/base",
            "top": null,
            "grid_column": null,
            "overflow_y": null,
            "overflow_x": null,
            "grid_auto_flow": null,
            "grid_area": null,
            "grid_template_columns": null,
            "flex": null,
            "_model_name": "LayoutModel",
            "justify_items": null,
            "grid_row": null,
            "max_height": null,
            "align_content": null,
            "visibility": null,
            "align_self": null,
            "height": null,
            "min_height": null,
            "padding": null,
            "grid_auto_rows": null,
            "grid_gap": null,
            "max_width": null,
            "order": null,
            "_view_module_version": "1.2.0",
            "grid_template_areas": null,
            "object_position": null,
            "object_fit": null,
            "grid_auto_columns": null,
            "margin": null,
            "display": null,
            "left": null
          }
        }
      }
    }
  },
  "cells": [
    {
      "cell_type": "code",
      "metadata": {
        "colab": {
          "base_uri": "https://localhost:8080/"
        },
        "id": "Dd2UeXfuG4Om",
        "outputId": "092786ae-56e2-4c6d-f5eb-af5bde2206d4"
      },
      "source": [
        "!pip install fasttext"
      ],
      "execution_count": null,
      "outputs": [
        {
          "output_type": "stream",
          "text": [
            "Collecting fasttext\n",
            "\u001b[?25l  Downloading https://files.pythonhosted.org/packages/f8/85/e2b368ab6d3528827b147fdb814f8189acc981a4bc2f99ab894650e05c40/fasttext-0.9.2.tar.gz (68kB)\n",
            "\r\u001b[K     |████▊                           | 10kB 21.8MB/s eta 0:00:01\r\u001b[K     |█████████▌                      | 20kB 27.8MB/s eta 0:00:01\r\u001b[K     |██████████████▎                 | 30kB 32.7MB/s eta 0:00:01\r\u001b[K     |███████████████████             | 40kB 31.1MB/s eta 0:00:01\r\u001b[K     |███████████████████████▉        | 51kB 33.5MB/s eta 0:00:01\r\u001b[K     |████████████████████████████▋   | 61kB 34.7MB/s eta 0:00:01\r\u001b[K     |████████████████████████████████| 71kB 10.4MB/s \n",
            "\u001b[?25hRequirement already satisfied: pybind11>=2.2 in /usr/local/lib/python3.7/dist-packages (from fasttext) (2.6.2)\n",
            "Requirement already satisfied: setuptools>=0.7.0 in /usr/local/lib/python3.7/dist-packages (from fasttext) (56.1.0)\n",
            "Requirement already satisfied: numpy in /usr/local/lib/python3.7/dist-packages (from fasttext) (1.19.5)\n",
            "Building wheels for collected packages: fasttext\n",
            "  Building wheel for fasttext (setup.py) ... \u001b[?25l\u001b[?25hdone\n",
            "  Created wheel for fasttext: filename=fasttext-0.9.2-cp37-cp37m-linux_x86_64.whl size=3095961 sha256=44a20867895549a22703a82eb1ec96a4261b4a7c5f56d3b107ed7561fdded210\n",
            "  Stored in directory: /root/.cache/pip/wheels/98/ba/7f/b154944a1cf5a8cee91c154b75231136cc3a3321ab0e30f592\n",
            "Successfully built fasttext\n",
            "Installing collected packages: fasttext\n",
            "Successfully installed fasttext-0.9.2\n"
          ],
          "name": "stdout"
        }
      ]
    },
    {
      "cell_type": "code",
      "metadata": {
        "id": "OFQdtNeqEvgo"
      },
      "source": [
        "import pandas as pd\n",
        "import numpy as np\n",
        "import torchvision\n",
        "import os\n",
        "from sklearn.model_selection import train_test_split\n",
        "import torch\n",
        "from torch.utils.data import Dataset, DataLoader, WeightedRandomSampler"
      ],
      "execution_count": null,
      "outputs": []
    },
    {
      "cell_type": "code",
      "metadata": {
        "colab": {
          "base_uri": "https://localhost:8080/"
        },
        "id": "UbULMDygEVgw",
        "outputId": "2d5a073c-7f21-4ac1-db9e-b33c52178132"
      },
      "source": [
        "from google.colab import drive\n",
        "drive.mount('/content/drive')"
      ],
      "execution_count": null,
      "outputs": [
        {
          "output_type": "stream",
          "text": [
            "Mounted at /content/drive\n"
          ],
          "name": "stdout"
        }
      ]
    },
    {
      "cell_type": "code",
      "metadata": {
        "id": "O2gbTZdJEa3X"
      },
      "source": [
        "def removeDuplicates(S): \n",
        "          \n",
        "    n = len(S)  \n",
        "      \n",
        "    # We don't need to do anything for  \n",
        "    # empty or single character string.  \n",
        "    if (n < 2) : \n",
        "        return\n",
        "          \n",
        "    # j is used to store index is result  \n",
        "    # string (or index of current distinct  \n",
        "    # character)  \n",
        "    j = 0\n",
        "      \n",
        "    # Traversing string  \n",
        "    for i in range(n):  \n",
        "          \n",
        "        # If current character S[i]  \n",
        "        # is different from S[j]  \n",
        "        if (S[j] != S[i]): \n",
        "            j += 1\n",
        "            S[j] = S[i]  \n",
        "      \n",
        "    # Putting string termination  \n",
        "    # character.  \n",
        "    j += 1\n",
        "    S = S[:j] \n",
        "    return \"\".join(S) "
      ],
      "execution_count": null,
      "outputs": []
    },
    {
      "cell_type": "code",
      "metadata": {
        "colab": {
          "base_uri": "https://localhost:8080/",
          "height": 195
        },
        "id": "JfyEMV4EEcgN",
        "outputId": "9ed1ae70-0d1c-4037-e2f4-7c2011dfb1e4"
      },
      "source": [
        "train=pd.read_csv(\"/content/drive/MyDrive/pcd/Train.csv\")\n",
        "test=pd.read_csv(\"/content/drive/MyDrive/pcd/Test.csv\")\n",
        "\n",
        "train.head()"
      ],
      "execution_count": null,
      "outputs": [
        {
          "output_type": "execute_result",
          "data": {
            "text/html": [
              "<div>\n",
              "<style scoped>\n",
              "    .dataframe tbody tr th:only-of-type {\n",
              "        vertical-align: middle;\n",
              "    }\n",
              "\n",
              "    .dataframe tbody tr th {\n",
              "        vertical-align: top;\n",
              "    }\n",
              "\n",
              "    .dataframe thead th {\n",
              "        text-align: right;\n",
              "    }\n",
              "</style>\n",
              "<table border=\"1\" class=\"dataframe\">\n",
              "  <thead>\n",
              "    <tr style=\"text-align: right;\">\n",
              "      <th></th>\n",
              "      <th>ID</th>\n",
              "      <th>text</th>\n",
              "      <th>label</th>\n",
              "    </tr>\n",
              "  </thead>\n",
              "  <tbody>\n",
              "    <tr>\n",
              "      <th>0</th>\n",
              "      <td>SKCLXCJ</td>\n",
              "      <td>cha3eb fey9elkoum menghir ta7ayoul ou kressi</td>\n",
              "      <td>-1</td>\n",
              "    </tr>\n",
              "    <tr>\n",
              "      <th>1</th>\n",
              "      <td>V1TVXIJ</td>\n",
              "      <td>bereau degage nathef ya slim walahi ya7chiw fi...</td>\n",
              "      <td>-1</td>\n",
              "    </tr>\n",
              "    <tr>\n",
              "      <th>2</th>\n",
              "      <td>U0TTYY8</td>\n",
              "      <td>ak slouma</td>\n",
              "      <td>1</td>\n",
              "    </tr>\n",
              "    <tr>\n",
              "      <th>3</th>\n",
              "      <td>68DX797</td>\n",
              "      <td>entom titmanou lina a7na 3iid moubarik a7na ch...</td>\n",
              "      <td>-1</td>\n",
              "    </tr>\n",
              "    <tr>\n",
              "      <th>4</th>\n",
              "      <td>OSTX8NX</td>\n",
              "      <td>hhhhhhhh blidaa minik ba3d doussieet athika il...</td>\n",
              "      <td>1</td>\n",
              "    </tr>\n",
              "  </tbody>\n",
              "</table>\n",
              "</div>"
            ],
            "text/plain": [
              "        ID                                               text  label\n",
              "0  SKCLXCJ       cha3eb fey9elkoum menghir ta7ayoul ou kressi     -1\n",
              "1  V1TVXIJ  bereau degage nathef ya slim walahi ya7chiw fi...     -1\n",
              "2  U0TTYY8                                          ak slouma      1\n",
              "3  68DX797  entom titmanou lina a7na 3iid moubarik a7na ch...     -1\n",
              "4  OSTX8NX  hhhhhhhh blidaa minik ba3d doussieet athika il...      1"
            ]
          },
          "metadata": {
            "tags": []
          },
          "execution_count": 6
        }
      ]
    },
    {
      "cell_type": "code",
      "metadata": {
        "id": "Ayg_UaZ8EeAP"
      },
      "source": [
        "train[\"text\"]=train['text'].apply(lambda x :removeDuplicates(list(x.rstrip())) )"
      ],
      "execution_count": null,
      "outputs": []
    },
    {
      "cell_type": "code",
      "metadata": {
        "colab": {
          "base_uri": "https://localhost:8080/"
        },
        "id": "V4wIHQydEz_V",
        "outputId": "b353e6c0-83ac-46cb-965b-f79e1d84cf01"
      },
      "source": [
        "train.shape"
      ],
      "execution_count": null,
      "outputs": [
        {
          "output_type": "execute_result",
          "data": {
            "text/plain": [
              "(70000, 3)"
            ]
          },
          "metadata": {
            "tags": []
          },
          "execution_count": 8
        }
      ]
    },
    {
      "cell_type": "code",
      "metadata": {
        "colab": {
          "base_uri": "https://localhost:8080/",
          "height": 336
        },
        "id": "hkFDlrJAF-2k",
        "outputId": "8a7d953f-270b-45f1-b859-8db5aecb1b91"
      },
      "source": [
        "labels_count = train.label.value_counts()\n",
        "labels_count.plot(kind=\"bar\")\n",
        "print(train.label.value_counts())"
      ],
      "execution_count": null,
      "outputs": [
        {
          "output_type": "stream",
          "text": [
            " 1    38239\n",
            "-1    29295\n",
            " 0     2466\n",
            "Name: label, dtype: int64\n"
          ],
          "name": "stdout"
        },
        {
          "output_type": "display_data",
          "data": {
            "image/png": "[encoded data removed]",
            "text/plain": [
              "<Figure size 432x288 with 1 Axes>"
            ]
          },
          "metadata": {
            "tags": [],
            "needs_background": "light"
          }
        }
      ]
    },
    {
      "cell_type": "code",
      "metadata": {
        "colab": {
          "base_uri": "https://localhost:8080/"
        },
        "id": "CSBvKJx0E582",
        "outputId": "3548864c-2ca2-48c9-a29a-f6b99b983c12"
      },
      "source": [
        "train.label.value_counts()"
      ],
      "execution_count": null,
      "outputs": [
        {
          "output_type": "execute_result",
          "data": {
            "text/plain": [
              " 1    38239\n",
              "-1    29295\n",
              " 0     2466\n",
              "Name: label, dtype: int64"
            ]
          },
          "metadata": {
            "tags": []
          },
          "execution_count": 10
        }
      ]
    },
    {
      "cell_type": "code",
      "metadata": {
        "colab": {
          "base_uri": "https://localhost:8080/"
        },
        "id": "scTrgtgyE79c",
        "outputId": "f60e6409-e241-4c80-da01-acb0b772b8e1"
      },
      "source": [
        "train['text'].apply(lambda x: len(x)).describe()"
      ],
      "execution_count": null,
      "outputs": [
        {
          "output_type": "execute_result",
          "data": {
            "text/plain": [
              "count    70000.000000\n",
              "mean        54.924743\n",
              "std         84.292720\n",
              "min          3.000000\n",
              "25%         19.000000\n",
              "50%         33.000000\n",
              "75%         62.000000\n",
              "max       9629.000000\n",
              "Name: text, dtype: float64"
            ]
          },
          "metadata": {
            "tags": []
          },
          "execution_count": 11
        }
      ]
    },
    {
      "cell_type": "code",
      "metadata": {
        "colab": {
          "base_uri": "https://localhost:8080/"
        },
        "id": "-G6jL9gRE-wl",
        "outputId": "1becff46-0e35-4a87-c068-3b46a5c80cc6"
      },
      "source": [
        "train.isnull().sum()"
      ],
      "execution_count": null,
      "outputs": [
        {
          "output_type": "execute_result",
          "data": {
            "text/plain": [
              "ID       0\n",
              "text     0\n",
              "label    0\n",
              "dtype: int64"
            ]
          },
          "metadata": {
            "tags": []
          },
          "execution_count": 12
        }
      ]
    },
    {
      "cell_type": "code",
      "metadata": {
        "colab": {
          "base_uri": "https://localhost:8080/"
        },
        "id": "okYRMfEbFFQg",
        "outputId": "27058a49-4b39-4cdb-86e0-1c470c349f2e"
      },
      "source": [
        "test['text'].apply(lambda x: len(x)).describe()"
      ],
      "execution_count": null,
      "outputs": [
        {
          "output_type": "execute_result",
          "data": {
            "text/plain": [
              "count    30000.000000\n",
              "mean        60.031067\n",
              "std         92.991510\n",
              "min          3.000000\n",
              "25%         21.000000\n",
              "50%         36.000000\n",
              "75%         67.000000\n",
              "max       6270.000000\n",
              "Name: text, dtype: float64"
            ]
          },
          "metadata": {
            "tags": []
          },
          "execution_count": 13
        }
      ]
    },
    {
      "cell_type": "code",
      "metadata": {
        "id": "ln_uFuqQFQC-"
      },
      "source": [
        "test[\"text\"]=test['text'].apply(lambda x :removeDuplicates(list(x.rstrip())))"
      ],
      "execution_count": null,
      "outputs": []
    },
    {
      "cell_type": "code",
      "metadata": {
        "colab": {
          "base_uri": "https://localhost:8080/",
          "height": 195
        },
        "id": "oNgWQEalFR5s",
        "outputId": "e9c31bdd-9185-4a23-8c5c-df562f3f7094"
      },
      "source": [
        "test.head()"
      ],
      "execution_count": null,
      "outputs": [
        {
          "output_type": "execute_result",
          "data": {
            "text/html": [
              "<div>\n",
              "<style scoped>\n",
              "    .dataframe tbody tr th:only-of-type {\n",
              "        vertical-align: middle;\n",
              "    }\n",
              "\n",
              "    .dataframe tbody tr th {\n",
              "        vertical-align: top;\n",
              "    }\n",
              "\n",
              "    .dataframe thead th {\n",
              "        text-align: right;\n",
              "    }\n",
              "</style>\n",
              "<table border=\"1\" class=\"dataframe\">\n",
              "  <thead>\n",
              "    <tr style=\"text-align: right;\">\n",
              "      <th></th>\n",
              "      <th>ID</th>\n",
              "      <th>text</th>\n",
              "    </tr>\n",
              "  </thead>\n",
              "  <tbody>\n",
              "    <tr>\n",
              "      <th>0</th>\n",
              "      <td>2DDHQW9</td>\n",
              "      <td>barcha aindou fiha hak w barcha teflim kadhalik</td>\n",
              "    </tr>\n",
              "    <tr>\n",
              "      <th>1</th>\n",
              "      <td>5HY6UEY</td>\n",
              "      <td>ye gernabou ye 9a7ba</td>\n",
              "    </tr>\n",
              "    <tr>\n",
              "      <th>2</th>\n",
              "      <td>ATNVUJX</td>\n",
              "      <td>saber w bara rabi m3ak 5ouya</td>\n",
              "    </tr>\n",
              "    <tr>\n",
              "      <th>3</th>\n",
              "      <td>Q9XYVOQ</td>\n",
              "      <td>cha3éb ta7an tfouh</td>\n",
              "    </tr>\n",
              "    <tr>\n",
              "      <th>4</th>\n",
              "      <td>TOAHLRH</td>\n",
              "      <td>rabi y5alihoulek w yfar7ek bih w inchalah itch...</td>\n",
              "    </tr>\n",
              "  </tbody>\n",
              "</table>\n",
              "</div>"
            ],
            "text/plain": [
              "        ID                                               text\n",
              "0  2DDHQW9    barcha aindou fiha hak w barcha teflim kadhalik\n",
              "1  5HY6UEY                               ye gernabou ye 9a7ba\n",
              "2  ATNVUJX                       saber w bara rabi m3ak 5ouya\n",
              "3  Q9XYVOQ                                 cha3éb ta7an tfouh\n",
              "4  TOAHLRH  rabi y5alihoulek w yfar7ek bih w inchalah itch..."
            ]
          },
          "metadata": {
            "tags": []
          },
          "execution_count": 15
        }
      ]
    },
    {
      "cell_type": "code",
      "metadata": {
        "colab": {
          "base_uri": "https://localhost:8080/"
        },
        "id": "58_DwhUvFj_N",
        "outputId": "15642315-b875-45ce-ddf1-151f2ef3c2e8"
      },
      "source": [
        "\n",
        "if torch.cuda.is_available():       \n",
        "    device = torch.device(\"cuda\")\n",
        "    print(f'There are {torch.cuda.device_count()} GPU(s) available.')\n",
        "    print('Device name:', torch.cuda.get_device_name(0))\n",
        "\n",
        "else:\n",
        "    print('No GPU available, using the CPU instead.')\n",
        "    device = torch.device(\"cpu\")"
      ],
      "execution_count": null,
      "outputs": [
        {
          "output_type": "stream",
          "text": [
            "There are 1 GPU(s) available.\n",
            "Device name: Tesla T4\n"
          ],
          "name": "stdout"
        }
      ]
    },
    {
      "cell_type": "code",
      "metadata": {
        "id": "7FlyYUrIGeK9"
      },
      "source": [
        "import fasttext\n",
        "f=open('/content/drive/MyDrive/pcd/testing.txt', 'w+')\n",
        "for i in train.index :\n",
        "  f.write(str (train.text[i])+'\\n')\n",
        "f.close() "
      ],
      "execution_count": null,
      "outputs": []
    },
    {
      "cell_type": "code",
      "metadata": {
        "colab": {
          "base_uri": "https://localhost:8080/"
        },
        "id": "44yp4ze2GjLL",
        "outputId": "ee508ae9-92b6-4ac3-a07c-e7d57db0df36"
      },
      "source": [
        "fasttext_model = fasttext.train_unsupervised(input='/content/drive/MyDrive/pcd/testing.txt', model='skipgram', dim=50,thread=4)\n",
        "print(fasttext_model.words)   # list of words in dictionary\n",
        "fasttext_model.get_word_vector(\"the\")\n",
        "fasttext_model.save_model('/content/drive/MyDrive/pcd/model.bin')"
      ],
      "execution_count": null,
      "outputs": [
        {
          "output_type": "stream",
          "text": [
            "['</s>', 'w', 'ya', 'fi', 'rabi', 'el', 'slim', 'h', 'si', 'bravo', 'kol', 'eli', 'alah', 'l', 'ca', 'bech', 'm3ak', 'ma', '3la', 'ken', 'la', 'slouma', 'men', 'il', 'ou', 'a', 'le', 'ama', 'barcha', 'b', 'mabrouk', 'et', 'ili', 'mala', 'enti', 'tounes', 'min', '3ala', 'brabi', 'dima', 'fih', 'tawa', 'ki', 'm3alem', 'f', 'wa', 'nchalah', 'fil', 'we', 'wala', 'li', 'riahi', 'y', 'ena', 'les', 'chay', 'bara', 'mouch', 'walah', 'de', '3lik', 'c', 'ti', 'club', 'ana', 'ala', 'inchalah', '3am', 'ye', 'm3a', 'fel', 'taw', '5ir', '7ata', 'chkoun', 'kan', 'kima', 'rajel', 'haka', 'kif', 'en', 'al', '3al', 'wlh', 'inti', 'o', 'nes', 'bel', 'a7na', 'mta3', 'fama', 'lkol', 'wel', 'j', '7aja', 'fik', 'est', 'cha3b', 'mel', 'flous', 'ben', 'howa', '10', 'm', 'lel', 'd', 'hal', 'bon', 'mais', 'tunis', 'mak', 'merci', 'rak', 'je', 'fiha', 'hata', '3lina', 'n', 'tounis', 'jam3iya', 'belehi', 'bled', 'rana', '3lih', 'dawla', 'un', 'khir', 'bien', 't', '5ater', 'pas', 'hedha', 'wela', 'bi', 'haja', 'mara', 'president', 'lil', 'ech', 'ha', 'me', 'pour', 'wenti', 'houwa', 'mr', 'i', 'mn', 'haw', 'bih', 'nchala', 'ahna', 'vive', 'mech', 'ali', '2', 'jam3ia', 'patron', 'rahou', 'bone', 'klem', 'des', 'houma', 'ok', 'moch', 'vous', 'chwaya', '9bal', 'win', 'kbir', 'tu', 'walahi', 'lik', 'mela', 'on', 'm3ana', 'weld', 'rais', 'e', 'enchalah', 'aime', 'nhar', 'alik', '7ad', 'you', 's7i7', 'rahi', 'sami', 'lol', 'jomhour', 'hedhi', 'chouf', 'enta', 'bil', 'bik', 'hiya', 'mil', 'a7la', 'marzouki', 'zeda', 'bch', 'bos', 'zebi', 'ay', 'wa7ed', 'bach', 'oui', 'raw', 'ila', 'yeser', 'ra2is', 'feha', 'tunisie', 'taraji', 'page', '1', 'svp', 'kifech', 'nik', 'omek', 'raby', '3lech', 'akber', 'top', '3bed', 'président', 'kbira', 'vraiment', 'behi', 'hetha', 'tounsi', 'tfouh', 't7eb', 'saha', 'elkol', 'ba3d', 'belahi', 'degage', '3asba', 'plus', '5ali', 'm3ah', 'mte3', 'koura', 'hak', '3andou', 'man', 'nchlh', 'avec', 'weli', 'rjel', 'akther', 'fihom', 'mch', 'donc', 'klay', 'courage', 'africain', 'cha3eb', 'ta7ki', 'que', 'dit', 'rani', 'lefri9i', 'tkoun', 'zid', 'rab', 'fe', 'sa7a', 'lebled', 'ah', 'awel', 'ta3mel', 'à', 'koul', 'had', 'jdid', 'snin', 'hadha', 'alf', 'kolna', 'love', 'ema', 'lé', 'enes', 'ach', 'sayeb', 'biha', 'bla', 'rou7ek', '3likom', 'labes', 'fikom', '9alou', 'yezi', 'une', 'hethi', 'e5dem', 'ya3mel', 'wil', '3andi', 'bravobravo', 'au', 'lotfi', 'far5', 'chnowa', '3lihom', 'fl', 'wi', '5', 'twali', 'nas', 'hatha', 'big', 'enty', 'inchala', 'ya3tik', 'ai', 'aya', 'king', '3ana', 'a9wa', '7a9', 'lazem', 'inta', 'kamel', 'pf', 'ye5i', '3andek', 'hada', 'o5ra', '9al', 't9oul', 'machalah', 'wled', 'la3bed', 'yar7mou', '3ad', '0', 'hay', 'ça', 'mazel', 'fina', 'winti', 'tayara', 'ta7an', 'am', '8', '5edma', 'lclub', '4', 'chiboub', 'forza', '7al', '9a7ba', 'ahla', 'tv', 'akbar', 'walh', 'yé', 'sur', 'non', '7ay', 'wrabi', 'm3alim', 'kifek', 'ce', 'n7eb', 'moncef', 'chômage', 'a7sen', 'kalb', 'yarhmou', 'sanfara', 'ans', 'echa3b', 'kont', 'du', 'we7ed', 'oi', 'lah', 'es', 'god', 's', 'za3ma', 'berasmi', 'adore', 'joueur', 'nayek', 'hia', 'wa7dek', 'wa9t', 'ey', 'amin', 'rap', 'lina', '7it', 'y7eb', 'b1', 'chance', 'raja3', 'erajel', 'yji', 'ta', 'cpr', 'like', 'bou', 'alexis', 'khater', 'rouhek', 'boutoula', 'bin', 'k', 'kleb', 'bro', 'toi', 'bele', 'fin', 'zouz', 'tji', 'bouk', 'zok', 'ta7ana', 'tous', '5ouya', 'rahom', 'normal', 'wasel', 'u', 'miboun', 'chbik', 'ba3ed', 'm3ek', 'continuation', 'ykoun', 'lezem', 'wahed', 'match', 'twensa', 'thawra', 'titre', 'the', 'om', '3leh', 'nabara', 'joumhour', '7ram', 'ya7ki', 'ja', 'wla', '3liha', 'clip', 'denya', 'up', 'marbou7a', 'djabou', 'ina', 'jam3eya', 'mahouch', 'so', 'lifri9i', 'jam3ya', 'ye5dem', 'menek', 'be', 'clubiste', '20', 'meli', 'lyoum', 'of', 'sa7bi', '3andha', 'jit', 'bras', 'houa', 'entouma', 'ta3ref', 'wa7na', 'come', 'hedi', 'wa7da', 'film', 'menou', 'heka', 'b5ir', '7ala', '3ar', 'a3mel', 'ma3adech', 'bina', 'aman', 'tofla', 'baba', 'grand', 'malem', 'aka', 'kolha', '3idek', 'kn', 'hadi', 'in', 'contre', 'hathi', 'rajil', 'notre', 'and', 'hadhi', 'rou7ou', 'it', '3ib', 'as', 'qui', '3and', 'basem', 'na7na', 'lifriki', 'sanfour', 'kifeh', 'm3akom', 'jdida', 'amine', 'sidi', 'nheb', 'enchala', 'raho', 'chey', 'mich', 'kep', '3le', 'tout', 'youm', 'barka', 'alih', 'dislike', 'chy', 'ela', 'yemchi', 'nesma', '9anet', 'walit', 'yechfih', 'bihom', '3a', 'nahdha', 'khouya', 'hmd', 'akid', 'mnin', 'bilahi', 'bsara7a', 'ne', 'ma7lek', 'mahlek', 'yelzem', 'kén', 'wa9tech', '9adech', 'tahki', 'menha', 'm3alam', 'zayed', 'très', 'ataquant', 'honte', 'sloma', 'waw', 'equipe', 'dégage', 'vrai', '3adi', 'nchalh', '9a3ed', 'shih', 'bn', 'fech', 'heya', 'fi9', 'bilehi', 'trop', 'ras', 'sahbi', 'alh', 'quoi', 'ele', 'tnajem', 'louled', 'nous', 'alina', 'cab', 'ahsen', 'yetraba', 'rya7i', 'menhom', 'omha', 'blad', 'hana', 'video', 'ham', 'va', 'ria7i', 'mon', 'sar', 'mé', 'maw', 'theb', 'signaler', 'bjeh', 'eni', 'beb', 'wehed', 'sbe7', 'par', 'te5dem', 'beha', 'said', 'yaser', 'ta7ya', 'toul', 'kamcha', 'erjel', 'em3ak', 'sa', 'weldi', 'surtout', 'fy', 'leclub', 'walet', '7keya', 'bkhir', 'marzou9i', 'te', 'jey', 'jamais', '3', '3id', 'm3ahom', 'parc', 'jenjon', 'awled', 'ywaf9ek', 'montasar', 'kolou', 'zina', 'zeyed', 'wakil', 'mra', 'wo', 'juste', 'rye7i', 'oh', 'zabour', 'hahaha', 'chniya', 'thama', 'mta', 'jaw', 'yar7em', 'n7ebou', '9ad', 'din', 'just', 'ched', 'twansa', 'dr', 'zeby', 'fait', 'jib', 'chnia', 'respect', '3mal', 'wahdek', 'chkon', 'chnouwa', 'bhim', 'yekhi', 'wahra', 'saber', 'wal', 'mahich', 'kelma', 'vu', 'beji', 'politique', 'jet', 'wa7id', 'winou', 'mahou', 'rakom', 'behya', 'fadina', 'tjib', 'joueurs', 'ghir', 'waldik', 'bich', 'manich', 'ta3', 'dandouk', 'iji', 'bahi', 'a3la', 'mohamed', 'meskina', 'khali', 'temchi', 'salem', 'a3lik', 'tbarkalah', 'joueret', 'yezina', 'anta', 'wini', 't3ich', 'chab', 'jemla', 'flousek', 'leflous', 'beli', 'tchouf', 'dam', 'aidek', '3leha', 'ml', '7', 'se', 'saybou', 'tarja3', '6', 'hani', 'sid', 'kora', '9', 'bl', '3maltou', 'ya5i', 'touns', 'max', 'béch', 'fot', '3ali', 'kil', 'tla3', 'toz', 'dayma', 'tres', 'sna', 'ya3mlou', 'hya', 'wisem', '9aleb', 'wenta', 'capo', 'stade', 'kouki', 'enahdha', 't7in', 'libya', 'ya3ref', 'ywali', 'hand', 'to', 'enas', 'e5er', 'benzarti', 'wrak', 'sebsi', 'chbih', 'cs', 'mafamech', 'wahda', 'viva', 'tab9a', 'blasa', 'baya', 'nafs', 'ma3ak', 'law', '30', 'rades', 'omk', 'kafon', 'ija', 'bel7a9', 'homa', 'from', 's7i7a', 'm3alm', 'zanatir', 'ty', 'ma3neha', 'amana', 'kais', 'alors', '3amlou', 'ryahi', 'lih', 'kir', 'mina', 'etounsi', 'ka', 'ejam3iya', 'tw', 'korsi', 'omou', 'mnayek', 'ensen', 'home', 'wou', 'gati', 'enfin', 'no', 'ma3a', 'klam', 'wow', 'ikoun', 'ghali', 'coupe', '5sara', 'chokran', 'na3ref', 'kifou', 'dar', 'yar7am', 'aw', 'hram', 'nmout', '3alik', 'ya3tek', 'cete', 'mdr', 'nidhal', 'mechi', 'an', '3ada', 'for', 'wl', 'hapy', 'mte3ek', '3li', 'beaucoup', '9rib', 'france', 'omkom', 'meme', '9anoun', 'wé', 'rod', 'bas', 'ray', 'jaime', 'dans', 'libled', 'marbouha', 'barnamej', 'ma3k', 'zboubna', 'yheb', 'veut', 'ausi', 'yara7mou', 'zin', 'le5er', 'heda', 'job', 'lbled', 'famile', 'nchoufou', 'koun', 'style', 'jabri', 'lebes', 'blech', 'belek', 'niveau', 'faut', 'samir', 'haya', 'hel', 'suis', 'moi', 'char', 'ani', 'plz', 'besh', 'ejam3ia', 'mezel', 'hasbouna', 'n9oul', 'nice', 'alech', 'tir', 'ya3ni', 'famech', 'karim', 'wild', 'toujours', 'oficiel', 'akthar', 'fou9', 'l7a9', 'avant', '3malt', 'kbal', 'na3ma', 'travailer', 'bureau', 'im3ak', 'ilkol', 'rouhou', 'msg', 'hala', 'hom', 'twa', 'mi', 'kolhom', 'bledi', 'tahya', '9albi', 'okhra', 'wena', 'yab9a', 'deja', 'nchouf', 'akahaw', 'fort', 'choufou', 'boy', 'mabrok', 'monsieur', 'sare9', 'a9al', 'weldik', 'chway', 'yarja3', 'hiwar', 'makech', 'nar', 'za7', 'bledna', 'aniversaire', 'barnemej', 'fema', 'enou', 'saison', '5it', 'sousa', 'anti', 'wili', 'y7ebou', 'jay', 'fa', 'yonsrek', 'zada', 'yahki', 'khedma', 'machrou3', 'i7eb', 'idara', 'my', 'sfax', 'met', 'leklem', 'are', 'a5er', 'mridh', 'rebi', 'note', 'maya', 'tahana', 'ely', 'nos', 'tefhem', 'yeziw', 'wahna', 'ta3mlou', 'is', 'b10', 'point', 'él', 'deyma', 'flousou', 'death', 'haha', 'ghalia', 'mezyena', 'mchit', 'rien', 'v', 'chnwa', 'mesage', '9a3da', 'batal', '3omri', 'la7keya', 'machi', 'm3aha', 'salah', 'zawali', 'sayed', 'alahou', 'raji3oun', 'mal', 'chaine', 'saif', '9a3din', '3omrou', 'kolkom', 'wa9tha', 'tnik', 'moins', 'hamdi', '7keyet', 'zab', 'rou7ik', 'kaleb', 'fi9ou', 'son', 'fan', '3amla', 'zantour', '3lach', 'sidek', 'aleh', 'faha', 'yched', 'sans', 'hamza', 'rayou', 'tit', 'm3lem', 'mafama', 'kel', 'chalah', 'minhom', 'khawla', 'ya3tikom', 'rasek', 'retour', 'b3id', 'wila', 't7ib', 'ro7ek', '9olt', 'minha', 'ynajem', 'wenchalah', 'medeb', 'bsaraha', '9odem', 'lkolna', '3sal', '3ando', 'meskin', 'faire', '3an', 'ni', 'bnet', '3in', 'chmeta', 'ataw', 'kemla', 'tartour', 'fekra', 'ahmed', 'andou', 'rou7', '3andhom', 'salouma', 'nour', 'masa5', 'jami3', 'omik', 'yed', 'y5alik', 'ta3mil', 'martou', '9ahba', 'rjal', '50', 'youtube', 'chneya', 'idha', 'tahan', 'zaweli', 'bent', 'yefhem', 'bouzid', 'moufida', 'na3mlou', 'fehri', 'mout', 'mariem', 'rit', 'mte3ou', 'likom', 'asba', 'm3além', 'ysir', 'projet', 'rachwa', 'zgaw', 'pub', '3alem', 'wen', 'cv', 'mena', 'lfri9i', 'travail', 'ci', 'car', 'tfih', 'chapeau', 'chabeb', 'wra', 'siyasa', 'rbi', 'manel', 'basket', 'walid', 'intouma', 'mili', 'ilayhi', 'tzid', 'minou', 'klemek', 'tounsia', '7or', '5alina', 'kona', 'mis', 'wa9et', 'wlad', 'entraineur', 'thi9a', 'efriki', 'lkolha', 'y9oul', 'ma39oul', '9oul', 'bikom', 'mta3ek', 'lotf', 'andek', '9alek', 'bad', 'fehri1', 'mazal', 'b9odret', 'semi', 'hor', 'jana', 'mehri', 'lin', 'qu', 'nés', 'may', 'omok', 'slm', 'omhom', 'tfou', 'équipe', '7oukouma', 'vidéo', 'mochkla', 'fare5', 'ma7leha', 'es7i7', 'madem', 'nahna', 'tared', 'tsir', 'dhaher', '3ayla', 'yehdik', 'ghodwa', 'minek', 'jibelna', 'wiw', 'comentaire', 'domage', 'ton', 'djabo', 'tal9a', '5arej', '3morha', 'ntouma', 'alikom', 'nhebou', 'sout', '3omra', 'hamdoulah', 'mcha', 'batala', '7ajet', 'fehom', 'yarham', 'yousef', 'ryehi', 'votre', 'omo', 'tahiya', 'kenet', 'yechfik', 'nul', 'wkol', 'much', '7lowa', 'vie', '3amel', 'na3rfou', 'going', 'winchalah', 'ne3ma', 'cheb', 'nafti', 'chnawa', 'yatik', 'wejhek', 'salam', '3awra', 'mkacha5', 'bouh', 'sbab', 'samara', 'ji3an', 'sport', 'fb', '9alo', 'upl', 't7ebou', 'selim', 'ltawa', 'ghalta', 'tunisien', 'bdit', 'karti', 'forsa', 'fransa', 'anif', 'mla', 'belhi', 'yar7mo', 'bachir', 'enabara', 'manoula', 'rayes', 'sore9', 'ma3lem', 'nestana', 'insen', 'entom', 'rcd', '5alik', 'yehdi', 'ane', '3andna', 'jeb', 'a3lina', 'masta', 'hab', 'jeya', 'yarhem', 'chad', 'kemel', 'barsha', 'wach', '5ra', 'entreneur', 'hahahaha', 'echa3eb', 'mashalah', 'même', 'jmal', 'mois', 'inti5abet', 'esmou', '3alina', 'cas', 'z', 'machari3', 'yatla3', 'pivot', 'tunes', 'raw3a', 'maryoul', 'amar', 'wentouma', 'bj', 'chnya', 'ma7la', 'tunisia', 'hna', 'nabil', 'hwa', 'fawzi', 'mai', 's3ib', 'dz', 'importe', 'wa9teh', 'salim', 'admin', 'birthday', 'brcha', '3idkom', 'yal', 'be9i', 'gafsa', 'zah', 'riyahi', 'bonjour', 'ahlou', 'wtf', 'ka3ba', 'normalement', 'malyoun', 'khoya', '3andik', 'ghneya', 'etoile', 'aid', 'safi', 'hakeka', 'é', 'tasir', 'yakhi', 'amena', 'frou5', 'grave', 'bayouta', 'behia', 'm3adhebhom', 'n7ebek', 'mnayka', 'ha9', 'virage', 'thez', 'stp', 'amal', 'siyesa', 'alihom', 'hez', '3l', 'yarahmou', 'l5ir', 'jboura', 'this', 'bjah', 'leblad', 'aboné', 'n9olek', 'mana', 'a3tina', 'lawled', 'franca', '97ab', 'edawla', 'tfoh', 'jem3a', '3omrek', 'maset', 'echab', 'best', 'bajbouj', 'éli', 'barch', 'tousel', 'lazim', 'go', 'snine', '9wiya', 'but', 'play', 'wana', 'raison', '3bad', 'beleh', 'na7i', 'esa7a', 'lui', 'bark', 'zinek', 'riehi', 'lila', 'ya3mil', 'yar7mek', 'mawjoud', 'alahoma', 'clubistes', 'andi', 'l3ar', 'het', 'a3az', 'chanson', 'hob', 'alex', 'sbeh', 'nsit', 'lem3alem', 'fois', 'a3mlou', 'makch', 'akeka', 'tra', 'wnchalah', 'yahdik', 'chnoua', 'klab', '5ayeb', 'yali', 'labed', 'tari5', 'ymout', 'dhawedi', 'music', 'wahid', 'o5rej', 'ja3four', 'winta', 'tla3t', 'chmata', 'nida', 'sel3a', 'by', 'tekhdem', 'ni3ma', '3andkom', 'beya', '7al9a', 'tfol', '14', 'kilma', '40', 'techri', 'buz', '3ini', 'alaho', 'mte3kom', '9adeh', 'rasi', 'partie', 'mahma', 'ya3tih', 'wa7dou', 'kef', 'sere9', 'kolo', 'terba7', 'derby', 'ifri9i', 'nty', 'mazelt', 'efri9i', 'lobna', 'kalba', 'public', 'slime', '90', 'baz', 'ma7soub', 'manech', 'amel', 'sah', 'jme3a', 'ya3ti', 'mte3na', 'kifach', 'netmana', 'leli', 'rasou', 'g', 'kaf', 'mele5er', '7ezb', '3ezkom', 'besif', 'sayer', 'fe9ou', 'tabda', 'confiance', 'bekri', 'rwe7kom', '5idma', 'hahahahaha', 'rajl', 'nrml', '3arbi', 'benesba', 'media', 'fomek', 'abed', 'recrutement', 'sala7', 'imed', 'winek', 'ysaber', 'docteur', 'laken', 'tanbir', 'wali', '7kayet', 'mah', 'kal', 'ke', 'moin', 'yjib', 'beche', 'kbar', 'mta3kom', 'ils', 'fehem', 'yelzemna', 'n7ebouk', 'arja3', '7ab', 'tanba7', 'ghaleb', 'r', 'ra7a', 'sadi', 'y3inek', 'chbikom', 'saker', 'znatir', 'monde', 'afrique', 'bjr', 'contrat', 'deux', 'alef', 'choix', 'magnifique', 'edenya', 'kanet', 'alo', 'faza', 'madam', 'boul', 'eb', 'mnaykin', 'esmha', '3ezek', 'fuck', 'ekhdem', 'blastou', 'libia', 'berjoulia', 'aliha', 'jé', 'ghadi', 'mli7', 'maroc', 'choufelna', 'cute', 'fok', 'erais', 'iheb', 'l9a7ba', 'miliard', 'pr', 'el3ar', 'yarhamha', 'se3a', 'jour', 'yal3ab', 'mes', 'tetfarej', '5atir', 'ouh', 'taswira', 'la7asa', 'bra', 'e7na', 'barou', 'moush', 'mta3na', 'feme', 'bac', 'inty', 'dhahra', '9wi', 'mayjich', 'incha', 'ri9', 'lili', 'tamel', 'sinon', 'fachel', 'kenou', 'nahtha', '3inik', 'med', 'beautiful', 'kedheb', 'pense', 'bourjoulia', 'a7ki', 'slemtek', 'louhichi', 'gj', 'fsed', 'seif', 'mostawa', 'lok', 'ta7', 'liflous', 'tones', 'rohek', 'asl', 'yahya', 'taba3', 'mami', 'nadi', 'wlah', 'we7id', 'menkom', 'photo', 'jabou', 'lan', 'mba3ed', 'tarajit', 'haded', 'saye', 'tjibou', 'comentaires', 'chaîne', 'eta7ana', 'mba3d', 'tched', 'tkoul', 'na3mel', 'a7san', 'ma3adch', 'ya3rfou', 'baratli', 'yarabi', 'zibi', 'bayrem', 'chtar', '7asbi', 'mchet', '9bel', '9alb', 'hedheka', 'y9oulou', 'mortaz9a', 'ndhif', 'bay', 'tarachi', 'bilel', 'dire', 'x', 'yal3eb', 'corona', 'fechel', '3ayeltou', 'clubistiya', 'blhi', 'ahsan', '3lah', 'bar', 'blida', 'clubistia', 'wakt', 'yè', 'lefriki', 'ahl', 'kadheb', '3ayech', 'yekhdem', 'iwali', 'bkit', 'solta', 'terain', 'ya39oubi', 'mahomch', 'dsl', 'a5tana', 'kane', 'jaded', 'yarhmo', 'hit', 'erya7i', 'championat', '5atr', 'libiya', 'fased', 'encore', 'jma3a', 'le3bed', '9arar', 'rou7i', 'mahla', 'cher', 'lahkeya', 'hadhaka', 'nhebek', 'biya', 'soit', 'netsawer', 'sné', 'el5ir', 'hâta', 'walhi', 'chai', 'etaraji', 'kifk', 'libi', '7at', '7acha', 'yzid', 'kalou', 'he', '7asilou', 'centre', 'to93ed', 'ethawra', 'bourguiba', 'clubisti', 'lakin', 'meno', 'rasoul', 'fesed', 'watani', 'pa', '8ir', 'final', 'mziya', 'tmout', 'houkouma', 'esm', 'da5el', 'walina', 'ma3rouf', 'blhy', 'ta3ti', 'bnj', '2020', 'moez', 'bahya', 'tala', 'omi', 'wken', 'yar7amhom', 'ekher', 'bladna', 'mama', 'sont', 'elf', 'rou7k', '7kaya', 'quel', 'mouche', 'minik', 'erye7i', 'madame', 'sa3id', 'najem', '5er', 'maher', 'ines', 'jeune', 'programe', 'm3aya', '9ima', 'lmara', 'bye', 'la7ram', 'droit', 'parti', 'khra', 'anou', '15', 'kelb', 'bayna', 'rouhik', 'belehy', 'galbi', 'ta7iya', 'hedhy', 'kertha', 'mahdi', 'lbara', '5atrou', 'dinya', 'presedent', 'dinar', '2019', '7ob', 'nshalah', 'cardi', 'lehi', 'lekleb', 'émision', '16', 'kifi', 'rajol', 'bledou', 'ltounes', 'enahda', 'ta3ml', 'lihom', 'yousel', 'your', 'baldi', 'jahel', 'a7zeb', 'yfarej', 'samba', 'jmhour', 'ja3fer', 'gandoura', 'tes', '9oli', 'lflous', 'enour', 'sama7ni', '13', 'majles', 'itha', '3alih', 'ghalya', 'yousr', 'rou7ha', 'ahawka', 'frère', '3amar', 'algérie', 'ad', 'make', 'hat', '3andk', 'lekbir', '7okouma', 'nta', 'mla3bi', '9alet', '7amla', 'ch', 'hamdelah', 'mahleha', '3ami', 'machakel', 'mwabna', 'lè', 'jen', 'meriem', '8ali', 'bena', 'ghanouchi', 'yarab', 'inik', 'thib', 'samahni', 'tahia', 'macha', 'choft', 'coment', 'chokri', 'echkoun', 'chkoune', 'lazemna', 'i5alik', 'abir', 'lougha', 'kahaw', 'idik', 'houni', 'na', 'merde', 'krima', 'tfarej', 'mte3k', 'part', 'tnayek', '7ot', 'kifkom', 'emchi', 'melyarat', 'bilah', '3abd', '3lehom', 'bazoula', '23', 'nahda', 'waldek', 'yoster', 'koli', 'ia', '3zouza', 'gauche', 'me3ak', 'tounsiya', 'batel', 'fisa3', 'hama', 'wiou', 'klemou', 'abone', '3ale5er', 'ow', 'baby', 'milions', 'ont', 'akbir', 'yestana', 'sghar', 'khit', 'com', 'aham', '3alami', 'ces', 'netfarej', 'etwensa', 'kad', 'yosr', 'ak', '3awen', 'arjel', 'nawfel', 'parole', 'algeria', 'zaboura', 'clase', '9albek', 'a3lech', 'weled', 'fari9', 'bab', 'cha3ib', 'taref', 'balek', 'bcp', 'ltaw', 'tjr', 'étoile', 'liha', 'trah', 'mach', 'hasen', 'raja', 'amazing', 'yetkalem', 'loula', 'migalo', 'etounsia', '7kouma', 'gadafi', 'jamel', 'sba7', '9loubna', 'karl', 'mat', 'milion', 'rouh', '70', 'nhbk', '60', 'yna3mou', 'inshalah', 'jma3et', 'jibou', 'wejh', 'ib', 'veux', 'e3lem', 'tatla3', 'jeunes', 'ghoul', 'one', 'ykhalik', 'fdhaya7', 'ms', 'dabegh', '17', 'ne9sa', 'la79i9a', '3amlin', 'galou', '3afat', 'sada9ni', 'mordha', 'tala3', 'hkeya', 'blid', 'chwya', '9owa', '5ayba', 'menk', 'lam', 'masla7t', 'meileur', 'enek', 'ahlem', 'nhib', 'kèn', 'behy', 'jendouba', 'whouma', 'bari', 'besoin', 'jebt', 'yo5rej', 'takila', '1920', 'miled', 'wasil', 'baraka', 'peuple', 'khsara', 'wzid', 'mt3', 'heki', 'winhom', 'bda', 'jme3et', 'ale', '3sba', 'etc', 'tel', 'tal3eb', 'enti5abet', 'janoub', 'berjouliya', 'lidara', 'etwansa', 'waktech', 'yabda', 'gardien', 'i3lem', 'liblad', 'inchalh', 'mekech', 'please', 'a5tak', 'yezik', 'ta7t', 'zwawla', 'sow', 'bladi', 'sidkom', 'vue', '8alta', 'beau', 't7ot', 'kole', 'walitou', 'fahem', '9dar', 'el7a9', 'lkolhom', 'tunisiens', 'ye7ki', 'botola', '3lé', 'sayé', 'pase', 'galb', 'raj3elna', 'walaw', 'hethom', 'mafhemtech', 'na9es', 'vs', 'nifa9', 'awal', 'pro', '7abit', 'nhezou', 'kelmet', 'wa7d', 'ih', 'sera9', 'shiha', 'denia', 'lmra', 'derbi', 'jsk', 'm3k', 'jamia', 'eriahi', 'makom', 'trés', 'alha', 'gadefi', 'bhayem', 'ya7ya', 'rasmi', '5ouh', 'oumour', 'farkh', 'ykawer', 'jaziri', 'mahboul', 'cha3ab', 'jahl', 'ye5dmou', 'ifriki', 'mazelna', 'nike', 'ya3ml', 'bravou', 'laka', 'esaha', 'wech', 'riya7i', 'mafia', 'yhanikom', 'bourjouliya', 'malgré', 'badel', 'birasmi', 'esna', 'pourquoi', 'yo93ed', 'nti', 'coup', 'ui', '3alam', '9sar', 'to9tel', 'sghir', 'yhebou', 'kifhom', '3a9liya', 'barvo', 'ijam3iya', 'cho', '25', 'asma3', 'wenty', 'yetfarej', '7ta', 'watania', 'maryouma', '7ezeb', '9afila', 'castro', 'ene', 'wine', 'ta9ra', 'ma3na', 'ta7chi', 'hedhom', 'maha', 'mè', 'jam3iti', 'facebok', 'feli', 'hajet', 'bechir', 'ta3mal', 'tkalem', 'atention', 'louken', '3ale', 'nhebouk', 'hahah', 'khaoula', 'rajél', 'rah', 'new', 'hta', 'najeh', 'super', 'marzougui', 'ya3raf', 'ma3andouch', 'a9ra', 'bheyem', 'surt', 'lkoul', 'tkawer', 'te7ki', 'ma7leh', 'testana', 'hlel', 'kamil', 'hasilou', 'nedi', 'ma3loul', 'wa7dik', 'ynik', 'chala', 'leken', 'kana', 'zou', '5oya', '2013', 'mche', 'flouse', '5amej', 'presque', 'nemchi', 'rouhi', 'nari', 'mlayen', 'youfa', 'toute', 'sera', '9ofa', 'groupe', 'ba3id', 'tal7is', 'ya7kiw', 'tahbet', 'trabelsi', 'bal', 'ifa', 'virus', 'fergha', 'mridha', 'darou', 'zied', 'dine', 'sana', 'ma3ach', 'yar7amha', 'demain', 'la7as', 'blh', 'balf', 'mawjouda', 'rojla', 'blehi', 'lo5ra', 'mourad', 'avez', 'fazet', 'omak', 'flen', 'ehna', 'fake', 'dieu', 'wbara', 'sahby', 'rouge', 'khalik', 'sayib', 'yechri', 'flos', 'miskina', 'lezm', 'bnina', 'esid', 'ezawali', 'masoud', 'luck', 'vamos', 'fard', 'kraheb', 'habet', 'achkoun', 'jaya', 'iched', 'fa9r', 'ghriba', 'dalil', '9elet', '3aychin', 'saba', '3jebni', 'l3asba', 'fg', 'tsawer', 'saybouna', 'alger', 'yesir', 'siliana', 'btala', 'madech', 'sayebna', 'hek', '3omro', 'lkoura', 'sa7a7', 'wma', 'place', 'kenek', 'dhawadi', 'meni', '3amil', 'tseb', 'mta3ou', 'ta3raf', 'elkoura', 'vos', '7awi', 'fire', 'mte3i', 'raje3', 'asel', '5omej', 'ma3andou', 'peut', 'wino', '18', 'cheda', 'klém', 'mieux', 'n7ib', 'ri7', 'tebda', 'blastek', 'i5dem', 'wfi', 'bidha', '5atrek', 'somes', 'mleyen', 'wjouh', 'omra', 'ma3ad', 'borjouliya', '3ajbou', '7ora', '7asra', 'erjal', 'a3lih', 'kamla', 'êtes', 'mesi', 'l3am', 'chibob', '7abou', 'lkolkom', 'makich', 'chabab', 'marat', 'gharbia', '8oul', 'fa9ou', 'akter', 'nharek', 'cha', 'chkounou', 'fr', 'zed', '5bar', 'ma3', 'sorm', 'tafi', 'bkolna', 'ma3naha', 'we7d', '201', 'algerie', 'walou', 'y3ich', 'raj3ou', 'ses', 'degag', '7abs', 'antom', 'msata', 'a3mal', 'homes', 'park', 'tal3et', 'persone', 'ada', 'sne', 'timchi', 'pays', 'chahid', 'nkounou', '4lfa', 'fili', 'ejdid', 'i5dim', 'nahdi', 'rajal', '7iwar', 'gabes', '2m1', 'malade', 'netfarjou', 'islem', 'de5la', 'nestanew', 'idek', 'temps', 'kon', 'paris', '5alih', 'ketheb', 'insan', 'ravi', 'erheb', 'haj', 'liya', 'direct', 'yamel', 'chof', 'mahlekom', 'gara', 'telha', 'lilah', 'ezouz', 'bèch', 'déjà', 'kes', 'lezim', 'nasma3', 'm6', 'libre', 'minkom', '7awel', 'ghalet', 'dc', 'mawdhou3', 'jouweret', 'ta3mlo', 'aslan', 'omg', 're', 'marina', 'lkalb', 'esebsi', '3ame', 'chou', 'ons', 'eshih', 'garçon', 'stop', 'qatar', 'ousema', 'autres', 'télé', 'yebda', 'tunisiene', 'silm', '7akem', 'thana', 'taya7', 'radio', 'hot', 'da5la', 'katheb', 'saret', 'adi', 'amen', 'zwewla', 'teli', 'lklem', 'inou', 'fre', 'lo5rin', 'autre', 'taher', 'blach', 'bkir', 'kola', 'mehdi', 'jat', 'jouer', 'bén', 'sir', 'frank', 'that', 'nife9', 'wentom', 'bel3id', 'ejam3eya', 'with', 'najla', 'wahdou', 'wejha', 'y7ib', 'bache', '12', 'yarbi', 'fm', 'klamek', 'how', 'souti', 'akher', '3abed', 'raisna', 'dez', 'andha', 'yahmik', 'hkeyet', 'lwakil', 'tchoufou', 'amir', 'i9oul', 'jerba', 'ybarek', 'njibou', 'lazemha', 'bkolha', 'ya9ra', 'rie7i', 'ma5yeb', 'tama3', 'yebki', 'imposible', 'jafer', 'sa7afa', 'inajem', 'kedhb', 'mile', 'monsef', 'to5rej', 'ta3rfou', 'sbah', 'syesa', 'ezebi', 'arbitre', 'yjibou', '9olna', 'mot', 'n9olik', 'ta3rif', 'bacha', 'tarek', 'hmdl', 'belah', 'grande', 'work', 'blasetha', 'masr', 'jam3itou', 'm3ake', 'elyoum', 'vrais', 'maryem', 'song', 'français', 'vas', 'bsh', 'fri9i', 'thebou', 'bdet', 'bkol', 'tnajim', 'rjél', 'yjik', 'daima', 'chab3an', 'sara', 'siasa', 'tor7', 'compte', 'besm', 'tfo', 'very', '3liya', 'oma', 'papa', 'na9sin', 'nam', 'koi', 'ism', 'tgoul', 'wabna', 'eryahi', 'm3amer', 'thabet', 'mas5a', 'nzid', '3ach', 'joueuret', 'mekch', 'hédha', 'ma3adich', 'a3tini', 'recrutements', 'far7anin', 'b3adhna', 'borjoulia', 'telement', 'amina', 'cha3be', 'sif', 'woh', 'n9oulou', 'kifik', 'o5ti', 'wlhi', 'arabe', 'tkamel', 'na3tik', 'lybia', 'national', 'cha3ra', 'mén', 'ybi3', 'sob7an', 'siyasi', '7a9ek', 'thezou', 'gali', 'dzayer', '8odwa', 'chbi', 'resultat', 'num', 'mahom', 'wakahaw', 'traja3', 'wildi', 'elghalia', 'kene', 'lama', 'salut', 'ba3dou', 'wenchala', 'ydik', 'paroles', 'yare7mou', 'rahma', 'zbar', 'khormo', 'chebi', '80', 'habit', 'voila', 'bledek', 'metou', 'ble', 'milieu', 'letoile', 'chicha', 'siyesi', 'intom', 'nal3bou', '5aliw', 'vipa', 'continue', 'caf', 'alg', 'bes', 's7a7', 'forca', 'ser9a', 'jew', 'wadha7', 'ykounou', 'chams', 'real', 'wataniya', 'tal3ab', 'mkache5', 'pauvre', 'darja', 'hetheka', '9olou', 'b3adhom', 'aymen', 'yehlek', 'mazelou', 'rayis', 'shkoun', 'exemple', 'kent', 'sraft', 'live', 'mer6', 'clash', 'n3ichou', 'lezmou', 'najah', '3ina', 'tekseb', 'nthif', 'mta3ha', 'wle', 'gal', 'ta7founa', 'zardi', 'ifarej', 'gbal', 'star', 'alez', 'hey', 'zeb', 'na7ki', 'awla', 'nchl', 'kil3ada', 'wa3lik', 'takrah', 'marsa', 'blaset', 'jamila', 'hawka', 'mte3ik', 'isir', 'sala', 'manadher', 'mzeya', 'juin', 'enchalh', 'chiheb', 'yizi', '9alik', 'okhrej', 'vile', 'viv', 'labas', 'hahahah', 'betawfi9', 'tari9a', 'titres', '5rit', 't5ali', 't3awen', 'nadhef', 'emta3', 'bzaf', 'rousna', 'bali', 'slamtek', 'z3am', 'not', 'aleha', 'bizerte', 'seul', 'elkhir', 'akwa', '8alya', 'african', 'fachal', 'kadech', 'lazmou', 'yelzmou', 'sa3a', 'dis', 'vote', 'meak', 'europe', 'danadik', '3inek', 'raha', 'ba9i', 'yahia', 'ame', 'mandher', 'a3mil', 'yahdi', 'chadit', 'mlih', 'b3adha', '3mel', 'sayb', 'tbarkala', 'out', 'maho', 'fara5', 'di', '8alet', 'sahel', 'daoula', '5alihom', 'ro7ou', 'zero', 'hi', 'fadit', '9aher', 'botoula', 'maek', 'warina', 'na9sou', 'ases', 'statut', '5ayef', 's3iba', '3alouch', 'wnchala', 'mo5ou', 'sloum', '7aded', 'nayk', 'tekteb', 'manach', 'rwa7kom', 'wa9teli', 'mezelt', 'jebou', 'sawt', 'normale', 'ram', 'rayi', 'm3adhabhom', 'd9i9a', 'version', '9imet', 'anglais', 'rapeur', 't5amem', 'sidna', 'ghirou', 'sormek', 'ghoneya', 'nord', '7eta', 'to93od', 'chef', 'tenja7', 'se7li', 'ejey', 'mibouna', 'rabe', 'watan', 'yal3bou', 'wtaw', 'nafes', 'fol', 'ma7lekom', 'rouha', 'jam3iyetna', 'i7ib', 'anis', 'rayek', 'toufa', 'atawa', 'ma9boula', 'lemra', 'tasma3', 'zarzis', 'mta3hom', 'tafeh', 'amn', 'youslou', 'great', 'yourid', 'ezab', 'msiba', 'sara9', 'ta7anet', 'tabka', 'kifna', 'kouya', 'fyh', 'na3mou', '3imed', 'hadhika', 'casoni', 'leklam', 'tahkiw', 'adel', '9alha', 'la3ba', '5ayfin', 'flousik', 'ly', 'feat', 'welou', 'semaine', 'dhed', 'cest', 'ra', 'cha3bha', 'hlowa', 'ghaliya', 'tol', '5dem', '7ouma', 'naykou', 'mal9it', 'zaza', 'blé', 'elhiwar', 'voté', 'chbiha', 'me3alem', 'pop', 'rja3', '5amja', 'le5ra', 'avance', 'ya3koubi', 'mochkel', 'hijab', 'bhema', 'tnajmou', 'noum', 'icha3b', 'moustawa', '3tit', 'hadedi', 'lezemna', 'fihe', 'irheb', 'tbi3', 'abda', 'kifch', 'franchement', 'etre', 'nerb7ou', 'a3ref', '5ales', 'latif', 'kl', 'tet3ada', 'jibilna', 'yatek', 'moubarek', '9atar', 'wahret', 'baji', 'yelzmek', '7yeti', 'kresi', 'ft', 'taleb', 'mohem', 'moutou', 'eh', 'dridi', 'après', 'tunsi', 'résultat', 'yarhmek', 'yasir', 'mo5ek', 'kanzari', 'bayen', 'etofla', 'éna', 'machekel', 'mél', 'bilél', 'ensan', 'tneket', 'ro7k', 'saybo', 'tant', 'hkaya', 'formation', 'staf', 'dhekra', 'zidou', 'tekdheb', 'khyr', 'y3awen', '3aych', 'najmou', '5itab', 'tejri', '7a9ou', 'eyh', 'afaire', 'section', 't7el', 'ward', 'azber', 'cadeau', 'nzidou', 'bzf', 'l3bed', 'beja', '3atrous', 'thabti', 'na3mlo', '5raj', 'chi', 'mêla', 'la3b', 't5af', 'loumour', 'soum', 'marka', 'tarf', 'fikra', 'masla7et', 'menich', 'jamahir', 'n7bk', 'tayer', 'mine', 'bezaf', 'ily', 'fini', 'machin', '7louwa', 'yala', 'wcha3b', 'lboutoula', 'ismou', 'chose', 'y3awnek', 'walo', 'sujet', '9ahwa', '7el', '3amaliya', 'twari', 'profil', 'yes', 'kifah', 'karakouz', '5ire', '9ouwa', 'khawa', 'karhba', 'benti', 'layem', 'lha9', 'yasine', 'iwaf9ek', 'sali', 'wa9tou', 'wtawa', 'preuve', 'sardina', 'votez', 'hka', 'ma3ana', 'zine', 'ekbes', 'hadheka', 'ychafiha', 'anime', 'hédhi', 'edanadik', 'zink', 'machala', 'barek', '3malna', 'nenta5eb', 'chfama', 'lekher', 'hamla', 'em3alem', 'wfe', 'yelzemha', '9ays', 'yedek', 'imchi', 'avanti', 'tebki', 'là', 'sauf', 'ya7mik', 'être', 'hathaka', 'elila', 'beki', 'mosta9bel', 'islam', 'zouhair', 'lom', 'mta3ik', 'tarbiya', '3béd', 'bok', 'awil', 'chbihom', 'mta3i', 'tbandir', 'terbe7', 'miskin', 'yetfarjou', 'basam', 'mali', 'hatheka', 'barnemij', 'sora9', 'nabar', 'ynajmou', 'malam', 'benour', '3malet', 'wahf', 'mkach5a', 'nse', 'surtou', '7seb', 'kilab', 'fomha', 'a3ml', 'malheureusement', 'chid', 'mortadha', '7amra', 'ch3b', 'kabir', 'hrab', 'abou', 'elkoul', 'thabel', '8oneya', '3ich', 'bachar', 'what', 'jbeli', 'korza', 't9oli', '9anat', 'armasta', 'anée', 'or', 'jab', '5asa', 'ndhaf', 'nchla', 'chez', 'te3jebni', 'jabo', 'hakom', 'lek', 'm3athebhom', 'ne9fou', 'ma3roufa', 'a3lihom', 'wintouma', 'selimi', '3likoum', 'gens', 'chrif', 'belou', 'nra', 'basas', 'migalou', 'girl', 'zama', 'west', 'yo93od', 'yo7kom', 'mercato', 'cujet', 'l3alem', 'lien', 'b7ar', 'tamthil', 'azma', 'daher', 'ra7ma', 't3ani', 'can', 'hichem', 'm3lm', 'mani', 'lzem', 'binetna', 'ymoutou', 'naik', 'ryé7i', 'nsa', '7abina', 'fomou', 'wenes', 'fechla', 'yet3ada', 'aytem', 'plateau', 'baraw', 'b3adhkom', '5mis', '3laha', 'nebki', 'waldih', '3amal', 'wkan', 'don', 'question', 'zbi', 'nami', 'bil7a9', 'rou7o', 'betawfik', 'edin', 'tou', 'kater', 'belik', 'achref', 'weslet', 'hkayet', 'etes', 'tkarkira', 'hahahahah', 'rawa7', 'nahki', 'zahrouni', 'clubist', 'lahi', 'aslou', 'ramzi', 'fhemt', 'tetkalem', 'termtek', 'usa', 'crois', 'narj3ou', 'et7in', 'yarhamhom', 'darek', 'o5rin', '9aherhom', 'makboula', 'dinars', 'marek', 'wecha3b', 'béhi', '3alamiya', 'tjrs', 'maneha', 'mnawer', 'sma3t', 'mehouch', 'no9ta', 'nahi', 'hamami', 'siesa', 'félicitations', 'halouma', 'rous', 'ismha', 'lou8a', 'lahou', 'site', 'as7ab', 'eryehi', 'milyarat', 'mibon', 'sale', 'em', 'enadi', 'tn', 'wele', '5arjou', 'najmo', 'te3', 'ezaweli', 'kaml', 'chweya', 'bléd', 'technique', '7adedi', '8adi', 'ra2isna', 'amam', 'dubai', 'r5is', 'thika', 'i9oulou', 'ytir', '3amlet', 'déja', 'profesionel', 'awlad', 'janvier', 'yà', 'esayed', 'chrit', 'abd', 'mrith', 'mr6', 'kifh', 'poste', 'lou7ichi', 'maghir', '7abes', 'level', 'l9anet', 'yesr', 'some', 'taxi', 'n7ebouha', 'wrah', 'ta3wi', '8neya', 'd5alt', 'mkachakh', 'mesh', 'lakom', 'kléb', 'nkoul', 'ab', 'yerhmou', 'nsitou', 'bomaye', 'barnemj', 'amour', 'italia', 'lilahi', 'ijib', 'yechfi', 'frere', 'jadid', 'baha', 'jimla', '3ejbetni', 'saidi', 'yimchi', 'ne9sin', 'hathika', 'jem3iya', 'end', 'mamstek', 'khalina', 'zeyd', 'kontou', 'wld', 'walew', 'koulou', 'lotef', 'ayna', 'depuis', '3endi', 'makhyeb', '3oud', 'eno', 'soutek', 'bouha', 'weni', 'stad', 'yeah', 'mort', 'konet', 'lo3ba', 'slt', 'zeyid', 'tfarjou', 'naje7', 'fdhi7a', 'ji', 'tbib', 'hobi', 'wléd', '7asan', 'quele', 'saleh', 'irajil', 'kahba', 'nefhem', 'teri5', 'dharbet', 'milyar', 'irjel', 'matech', '5aliha', '3morna', 'rouho', 'war9a', 'yeziou', 'letoil', 'yasma3', 'enhar', 'hahahahahah', 'joyeux', 'bitawfi9', 'jdod', 'tunisian', 'zebla', 'wehd', 'episode', 'baramej', '3aychou', 'eleh', 'ejam3ya', '5asatan', 'mamset', 'sa7eb', 'la3bad', 'enfants', 'brojla', 'hbat', 'masakh', 'eme', 'na7kiw', 'wa7ad', 'mas2oul', 'nestanou', 'fad', '3amlo', 'face', 'urgent', 'ychouf', 'i7ebou', 'tayra', 'ya3mal', 'd5al', 'mele', 'sa9si', 'gerard', 'omri', 'sûr', 'francais', 'aflem', 'game', 'wejhou', 'yichfih', 'nizar', '7amdi', 'ne9es', 'rouhk', 'dt', 'sameh', 'marto', 'kawarji', 'ever', 'tnaber', '9ader', 'base', 'ma3mal', 'vid', 'abdeli', 'omniti', '3ez', 'mnha', 'janjoun', '3ela', 'mla3bia', 'dope', 'ywaf9ik', 'testehel', 'beyna', 'chkun', 'yatikom', 'fél', 'la3eb', 'bir', 'monta', 'jomhor', 'bahia', 'sade9', 'ro7ik', 'hmdlh', 'welah', 'winkom', 'hawla', 'league', 'mte3ha', 'bousbi3', 'besem', 'brasmi', 'bkolkom', 'musique', 'meskine', 'yakoubi', '7ama', 'nhb', 'chbeba', 'wehid', 'elibi', 'zoz', 'dra', 'hasra', 'loul', 'sehla', 'ma8ir', 'bakitni', 'respecte', 'i3inek', '3ala9al', 'irhab', 'tehki', 'yonsrik', 'traba7kom', 'original', 'tbadel', 'waldin', 'privé', 'yecer', 'yejri', 'mink', 'tik', 'peux', 'dina', 'wsel', 'instagram', 'lbeji', 'mbrouk', 'klemik', 'puisque', 'chab3a', 'etranger', 'mahlak', 'twasel', 'wahdik', 'ta3rf', 'flow', 'ejaya', 'lelah', 's8ir', 'ba3ad', 'ychfih', 'aidkom', 'mazelet', 'le7keya', '3acha', '3amnewel', 'souisi', 'qualité', 'compris', 'projets', '5amsa', 'petit', 'mahzla', 'wani3ma', 'mte3hom', 'fo9', 'pk', 'emision', 'yam3alem', 'ousama', 'mochkol', 'kifkif', 'lweh', 'ljam3iya', 'jouwaret', 'bhima', 'champion', 'tma3', 'reste', '7low', 'bidoun', 'lena', 'kteb', 'fargha', 'jandouba', 't9oulou', 'liby', 'mousalsel', 'thaher', 'bisif', 'sahli', 'faouzi', '3em', 'wa7lek', 'da', 'loughet', 'mechya', 'ysahel', 'makomch', 'done', 'saybouh', 'dour', 'choufoulna', 'tounesna', 'borjoliya', 'sraf', 'parler', '3rab', 'terma', 'dharba', 'kount', 'mat7ebech', 'erajil', 'nwali', 'far7a', 'rami', 'atrous', '9asba', 'wahd', 'lezmek', 'mnayk', 'sais', 'rasha', 'wina3mou', 'sadek', 'yodhorli', 'wfet', 'ligue', '3asma', 'a3lam', 'ezin', 'hamadi', 'ytraba', '93ad', 'hadaka', 'beyen', 'karahtouna', 'kam', 'yarhamou', 'tafrika', 'sbeb', 'first', 'ra9btek', 'akal', 'mouhem', 'hora', 'farik', 'lkbir', 'em3a', 'nch', 'tchid', 'ma5ir', 'dali', 'bakani', 'montage', 'hedhika', 'kali', 'tanjah', 'eza7', 'fawdha', 'har', 'jibt', 'eka', 'voir', 'la7kaya', 'ghada', 'swisi', 'ya3tiha', 'yama', 'de5el', 'adem', 'souse', 'énti', 'ywafkek', 'modareb', 'atef', 'kanou', 'mhak', 'hasbi', 'nouslou', 'awl', 'vues', 'zébi', 'elbled', 'elboutoula', 'faw9a', 'ntaba3', '3alali', 'ahki', 'jom3a', 'tawfik', 'ma7lak', '9oltou', 'karoui', 'flouso', 'nikelhom', 'emak', 'fikoum', 'gol', 'w5ay', 'borhen', 'medem', 'chohra', 'ariere', '3ahd', 'las3ad', '3malha', 'ghrab', 'enajem', 'buteur', 'freret', 'nikomek', 'nwaliw', 'ligne', 'akthir', 'ajma3in', 'arais', 'kbarat', 'bidou', 'mas5in', 'apres', 'chnou', 'mahleh', 'man9olek', 'beat', '9sir', 'zabi', 'lak', 'n7ebo', 'hkouma', 'mehich', 'nharet', 'khaled', 'yest7a9', 'eljam3iya', 'sidhom', 'wejeh', 'hacha', 'sahla', 'rwe7hom', 'hou', 'nkamlou', 'raki', 'omar', 'tonis', 'champions', 'tkt', 'musica', 'esperance', 'ijibou', 'gorgeous', 'mechia', 'lkhir', 'habes', 'tal3ou', 'alekher', '9oulou', 'tla3et', '7achek', 'maquilage', 'klemha', 'chbeha', 'wzir', 'na3rfouh', 'porno', 'echar', 'geste', 'ahel', 'journaliste', '9ais', 'bal3out', 'rawah', 'chihemek', '9weya', 'tkon', 'tlawej', 'haki', 'grib', 'rwe7na', 'sarah', 'braby', 'ro7i', 'sabr', 'alahe', 'mrakba', '3idk', '7aj', 'lblad', 'maman', 'hadhouma', '9ayma', 't5arej', 'yomken', 'jabha', 'becha', 'bref', 'futur', 'irya7i', 'mezwed', 'fet', 'waket', 'i3lam', 'rohi', 's8ar', 'a3leh', 'dema', 'rwehkom', '5tr', 'ritou', 'beuz', 'talvza', 'matjich', 'sarek', 'ljam3ia', 'dnadik', 'ta7ia', 'lteli', 'housem', 'posible', 'bader', 'lima', 'mseken', 'nchoufouk', 'kalem', 'wli', 'wed', 'bdina', 'newi', 'y3tik', 't5adem', 'godes', 'rached', 'moche', 'yelzemhom', 'fans', 'far9', '93adna', '3adech', 'sobhan', 'zitouni', 'bela', 'tfata9', 'elbeji', 'nesma3', 'tele', 'lawa7', 'jibour', 'sure', '24', 'charaf', 'elkalb', 'netflix', 'ya7', 'nidham', 'ywaliw', '3aref', 'mat5afech', 'elah', 'a5dem', 'ma3alem', 'ydez', '9olet', 'to7kom', 'rjelha', 'gabi', 'rwa7hom', 'al3eb', 'botox', 'simplement', 'division', 'ser9', 'bah', 'talfza', 'efectif', 'jè', 'andna', 'bechwaya', 't3ada', 'mla3biya', 'hasard', 'mezyen', 'tga3ed', 'ynawer', 'b9it', 'boutola', 'bladou', 'sluma', 'oskot', 'important', 'weldek', 'ti7', 'rabie', 'tard', 'lebsa', 'flousk', '5edmet', 'quand', 'leha', 'rad', 'liklem', 'la7zeb', 'joret', 'kolt', 'y5ales', 'jawek', 'klemk', 'ayem', 'jebet', 'wba3d', 'sanfor', 'nese', 'béléhi', 'la3rab', 'tayba', 'tatawin', 'mo5', 'yba9i', 'khatrek', '9a3dine', 'nharin', 'te3ba', 'khayeb', 'msaken', 'na9ra', 'mouzika', 'taraf', 'enahtha', 'wm3a', 'heyla', 'mouwaten', 'sre9', 'test7a9', 'mouhamed', 'masrou9', 'movie', 'yestehel', 'future', 'barbi', '7out', '7okm', '3ta', 'mase5', 'marbo7a', 'benzart', 'sahafa', 'bél', 'jaych', 'weldin', '7a9na', 'fi9o', 'isam', 'jena', 'ragued', '01', 'force', 'curva', 'saied', 'sud', 'day', 'tahane', 'tawfi9', 'rahoum', 'fach', 'lasad', '7arb', 'tghani', 'instru', 'slaf', 'natija', 'yakrah', '7ak', 'andhom', '3arka', 'kifo', 'selem', 'fikou', 'wnti', 'en7eb', 'a3likom', 'thahra', 'n9olou', 'nokta', 'la5bar', 'voleur', 'machalh', 'boutoulet', '7obi', 'mahboula', 'za3im', 'chleka', 'dhaherli', 'ro7ha', 'ezah', 'thank', 'jon', '5ayen', 'akel', 'rabi3', 'wledna', 'ndhifa', 'mkach5in', 'duo', '5alit', '3os', 'élu', 'tnekna', '3aylet', 'khalil', 'ro7o', 'normalment', 'bdew', 'tounisia', 'malim', '2eme', 'wdima', 'yehdikom', '7ogra', 'koursi', 'eslim', 'wbech', 'la7dith', 'fanen', 'a3tih', 'saib', 'edam', 'dzl', 'linti5abet', 'chedin', '3idik', 'yzidou', 'mousi', 'a9reb', 'yti7', 'may7ebouch', 'histoire', '8irou', 'izid', 'mskin', '3alikom', '7dith', 'slimani', 'zeyda', '3ama', 'sma3tha', '5atik', 'farhanin', 'matloub', 'tayeb', 'ramadan', 'xd', 'yarj3ou', 'ged', 'ta3ya', 'fma', 'a5bar', 'yenja7', 'victoire', 'mouchkla', 'behin', 'bili', 'mathlouthi', 'nchlah', 'ts', 'echabeb', 'rose', 'lazmek', 'jemhour', 'nayik', 'merda', 'blahi', 'fa9er', '5as', 'double', 'mojrem', '9adrou', 'lahin', '2015', 'kano', 'chma3neha', 'wfa', 'saïd', 'bka', 'te7chi', 'sou2el', '8riba', 'rwa7na', 'moudareb', 'intikhabet', 'ya7fdhek', 'fam', 'sn', 'ma3andhom', 'dir', 'mazou', 'hewya', 'jayin', 'chadin', 'baro', 'selouma', 'l3a9ba', '3ifa', 'ami', 'hezou', 'bom', 'y5ali', 'adidas', 'ya7mi', 'tweli', 'mle3bi', 'badr', 'dnc', 'fe3l', 'thin', 'fout', 't7ine', '3endou', 'leo', 'peu', 'yostrek', 'dinia', 'yara7mo', 'ya3mlo', 'nji', 'lyouma', '3fat', '5ouna', '5atro', 'thebti', 'kifak', 'ta7kiw', 'brbi', 'fine', 'afaires', 'bercha', 'gharbi', '9a3d', 'silim', 'sale7', 'cha3rek', 'mask', 'al3ab', 'hanibal', '5ih', 'mar7ba', 'cha3biya', 'buscher', 'kife', 'con', '3maltha', 'mentalité', '3aliha', 'hal9a', 'kawer', 'amouna', 'riyehi', 'tawra', 'mché', 'samsoum', 'tew', 'n7ibou', 'nshlh', 'id', 'thiz', 'raise', 'yé5i', 'col', 'yah', 'hedhe', 'khayba', 'ma3andich', 'mskina', 'termet', 'daraji', 'jam3itek', 'lezemha', 'kin', '21', 'way', 'zaki', 'tefeh', 'marhba', 'ya3n', 'premier', 'ga3', 'nida2', 'yabka', 'binzart', 'radi', 'lslim', 'ka3bet', '3alim', 'jam3ietna', '5al', 'slemtik', 'jafour', '9ali', 'tri9', 'hazina', 'féha', 'merite', 'tekdhbou', 'chlayek', 'nakrhou', 'neyek', 'adheka', 'suisi', 'machya', 'tsayer', 'nta3', 'ejeya', 'hika', 'd3a', '208', 'ltounis', 'wmala', 'mezelou', 'ino', 'fils', 'bidi', 'wadi3', 'guys', 'hadhom', 'jed', 'hah', 't9ol', 'marzen', 'yechfiha', 'kodem', 'nkoun', 'ykamel', 'kher', 'm3adech', 'hadad', 'amara', 'zidna', 'mezelet', 'ta7ane', 'personelement', 'façon', 'emin', 'hazit', '2016', 'blanc', 'kes7a', 'always', 'wlayed', 'mimtek', 'tasla7', 'experience', 'behom', 'sam7ouni', '3zizti', 'fond', 'hj', '9ablek', 'sa3at', 'winchala', 'maken', '5dma', 'ew', 'ybaki', 'sayd', 'fais', 'sous', 'mode', 'mhalem', 'marzougi', 'atamana', 'bit', 'léfri9i', 'belk', '3asla', 't9adem', 'nakrah', 'ye5ou', 'zouk', '3a9ba', '7yati', 'ma7lehom', 'y5dem', 'maka', 'mimtou', 'ich', 'goul', 'erasmi', 'stage', 'nkolek', 'riadh', 'faux', 'chi5', 'saraha', 'wadh7a', 'tjibelna', 'inek', '9a3id', 'isaber', 'bera', 'aktar', 'jbali', 'ya7kou', 'trab', 'b3atha', 'pourtant', 'amis', 'chi5a', 'katar', 'zby', 'a5i', 'bleu', 'tnajm', '3awed', 'likleb', 'sa7it', 'parle', 'arière', 'efhem', 'mathabina', 'tawla', 'sma3na', 'article', 'ta5ra', 'masab', 'nechala', 'khouh', 'ykawrou', 'nsi7a', 'chouhada', 'fahmin', 'nikou', 'na7nou', 'bilhi', 'tna7i', 'nhebo', 'klemi', 'jebha', 'toujour', 'brvo', 'interview', 'ibn', 'esolta', 'khalih', '9lil', 'walito', '5maj', 'ba', 'wnchalh', 'mamstou', 'ghnaya', 'naref', '9adekch', 'sil', 'lana', 'halbled', '3aycha', 'marti', 'etkoun', 'bles', 'hlouwa', 'ghneyet', 'ydir', 'tsayeb', 'daber', 'mabin', 'asal', 'khayef', 'lél', 'riye7i', '4odwa', 'nestanaw', 'raso', '3mor', '3léh', 'ydour', 'majech', 'haz', 'q', 'bo', 'lfilm', '4alta', '3el', 'kazi', 'tfi9', 'berjouleya', 'ayoub', 'mechin', 'kaboul', 'lou', 'sadakni', 'shit', 'tah', 'thawadi', '1m', 'nechalah', 'rakoum', 'ma7kma', 'laha', 'noir', 'yal9a', 'jawna', 'neji', 'chba3na', 'wnty', 'betbi3a', 'fa9o', 'clib', 'khatr', 'yonsorna', '7as', 'bint', 'lm3alem', '7eja', 'dem', '1er', 'lrabi', 'ente', '9adrek', 'hahahahahaha', 'mimtak', 'y7ebo', 'o9sem', 'fou', 't3alem', 'mademek', 'nikom', 'titrowet', 'sa9ih', 'matar', 'sidik', 'y7ibou', 'hathom', 'mayji', '56', 'notlob', 'kadeb', 'wou3oud', 'l3ada', 'is7i7', 'belf', 'proud', 'anaba', 'ychedha', 'laysa', 'chedou', 'lkolou', 'rasik', 'tanja7', 'lioum', 'tnaket', 'l9odem', 'dislikes', 'hatem', 'rou7a', 'khyt', 'english', '3amek', '3endek', 'pablo', 'whowa', '19', 'lbera7', 'ma7lk', 'bahri', 'wouh', 'sportif', 'a3', 'simple', 'ma3andek', 'w3la', 'tefha', 'ywasel', 'jdide', 'ma3ah', 'wa7dk', 'nasm3ou', 'ouled', 'choukran', 'rhout', 'tal9ah', 'sin', 'cha5s', 'abtal', 'slayem', '3awnou', 'tnabrou', 'yal3ib', 'feya', 'yasi', 'maser', '5arjet', 'ar', 'yar7emha', 'talab', 'ta3melha', 'madama', 'chadou', 'yhez', 'yehmik', 'ye5dim', 'ta7et', '3ind', 'chrifa', 'siyasiya', 'sil3a', 'fetna', 'hawel', 'ta5ralou', 'meloul', 'menes', 'camera', 'lkelma', 'fiya', 'lbs', 'karama', 'a3liha', 'ejdida', 'fihoum', 'montaser', 'mizyena', 'maktoub', 'khraj', 'asifouah', 'a7sin', 'mosaique', 'logique', 'zay', 'etelha', 'wledi', '5irlek', 'okhti', 'sayidi', 'yer7mou', 'miliards', 'nom', 'yahkiw', 'slip', 'chikha', 'menzel', 'nmoutou', 'hétha', 'kanat', '5ouk', 'lhak', 'ta7kou', 'yefhmou', 'yekhdmou', 'kounou', 'rchid', '5ebra', 'ihanikom', '7lel', 'martek', 'lkorsi', 'voilà', 'cheded', 'vois', 'fo9ma', 'jayeb', 'gaz', '3aychek', 'yarahmo', 'over', 'thabli', '5orda', 'haram', 'wa9fa', 'gadhefi', '9dima', 'ya7chi', 'kebir', 'dh', 'blastik', 'baed', 'l7al9a', 'far8a', 'ykon', '9a3dou', 'akhi', '3indi', 'las3ed', 'miboune', 'keka', 'kalik', 'yarhemha', 'mawthou3', 'etwali', 'mta3k', 't7inek', '9orbi', 'njibouh', 'bentou', 'beauté', '7achetna', 'idir', 'telbes', 'godwa', 'imout', 't7b', '9wey', 'te7seb', 'excelent', 'eil', 'belkom', 'hezeb', 'fe3el', 'saref', '3a9lia', 'erachwa', 'belha9', 'ma3ek', 'ydhaher', 'mas3oud', 'octobre', 'rijal', '26', 'lfehri', 'y3ichou', '9adem', 'domaine', 'fekret', '3sel', 'bonheur', 'nitmana', 'sex', 'ataque', 'englais', 'echay', 'prochain', 'lca', 'ayamet', 'jouret', 'ye7mi', 'rejel', '3awatef', 'back', 'lyrics', 'mnk', '3alamia', 'na9sa', 'ka3ed', 't7esou', 'saket', 'frança', 'yehdina', 'nala3bou', 'to5roj', 'abonement', 'nesi', 'metet', '3lch', 'layam', 'avis', 'nal9a', '3abir', 'axe', 'kolchay', 'hamouda', 'lemkach5a', 'wél', '7awla', 'sou9', 'chaque', 'stil', 'hathouma', 'ur', 'rina', 'yeziwna', 'jahil', 'baravo', 'yjiw', 'ahad', '7ja', 't7éb', 'sonia', 'lmedeb', 'legend', '8aleb', 'n7bou', 'nosbrou', 'elghalya', 'titrouwet', 'dayrin', 'hareb', 'moroco', 'ida', 'dyoun', 'mabrouka', 'erhab', 'dirait', 'wiliam', 'thniya', 'lha', 'klamou', 'paparazi', 'berjelha', 'unis', 'esiasa', 'people', 'rask', '9ol', 'alahi', 'yehlekhom', 'fier', 'chekoun', '7kayat', 'mérite', 'nakira', 'eta7an', 'nhibou', 'fer8a', 'gasrine', 'ya3tk', 'ba3louch', 'manque', 'soura', 'chleyek', '7asb', 'masha', 'rohk', '3icha', '7osed', 'ta5raw', 'kenit', '9odam', 'éch', 'enafti', 'heb', 'ct', 'y5amem', 'haba', 'hethy', 'jmi3', 'kalbi', 'mousiba', 'tfarajt', 'oficial', 'y9oli', 'esbab', 'glayeb', 'thoma', 'jehel', 'jawebni', 'ye7mik', 'kharej', 'b3athom', 'awelhom', 'khalihom', 'bnaya', 'naja7', 'kena', 'mofida', 'seket', 'watanya', 'tama3a', 'regarde', 'wa9tach', 'sghira', '8alia', 'akhtana', 'bhama', 'partager', '8irek', 'm3amel', 'yetla3', 'sad', 'ramz', 'chahed', 'yahmi', 'irajel', 'voter', 'romdhan', 'kethb', 'yonsorkom', 'esem', 't3adi', 'salo', 'numero', 'ma7laha', 'wraha', 'bachoula', 'yasla7', '3raft', 'msh', 'la3zouza', 'roho', 'echri', 'file', 'oumourek', 'rabek', 'saben', '7okem', 'khidma', 'rejal', 'we7na', 'wajdi', 'oki', 'dhalem', 'lelahi', 'hakaka', 'zayd', 'ygoul', 'mnine', 'khw', 'sa9et', 'tod5el', 'wedhni', '3andouch', 'ps', 'yom', 'sakrou', 'ysa7a7', 'rjalha', 'ynajim', 'police', 'arwa', 'yedou', 'balik', 'ritha', 'la3jab', 'hijeb', 'yaml', 'nmot', 'tkoune', 'nayak', 'hakem', 'bsayes', 'moslem', 'sayéb', '7eb', 'elibiya', 'sari9', 'zo', 'ykeb', 'haythem', 'jiha', 'realy', 'el3am', 'wki', 'yod5el', 'ikhalik', 'bourjouleya', 'nouvele', 'wa7adha', 'kel3ada', 'entoma', 'keml', 'amlou', 'rjoulia', 'fayda', 'mta3e', 'finalement', 'chrab', 'elmarzouki', '7lou', 'habou', 'berabi', 'chebeb', 'ba3dhou', 'winha', 'mathweh', 'kesa7', 'tal3a', 'thi9etna', 'karma', '3aleli', 'galo', 'sara7a', 'mafamach', 'ja3far', 'ekoun', '9rouda', 'ynabrou', 'rajli', 'yezikom', 'te5ou', 'yani', 'source', 'da5let', 'bi1', 'tafeha', 'menak', 'faute', 'lclip', 'partage', 'n7b', 'kas', 'lenes', 'ex', 'rijel', 'dimanche', 'mimti', 'mardi', 'kedhba', '3loulou', 'ngoul', 'entoum', 'elkolna', 'sections', '5antouch', 'bera7', 'nechri', 'jbora', 'lenti5abet', 'hadak', 'lahwa', 'america', 'yarehmou', 'monta5ab', 'cet', 'dji', 'mestir', 'wehna', 'm3ahoum', '9atel', '9tal', 'fasda', 'etounisia', 'leleh', 'nefzi', 'chaba', 'theni', '3ajla', 'far7an', 'tounés', 'momken', 'jam3iyet', 'aler', 'pages', 'to7t', 'kofar', 'yachfiha', 'cash', '0dt', 'nitham', 'bileh', 'lebhim', 'entre', 'raes', 'adhika', 'yo5rjou', 't5ales', 'tijani', 'miselch', 'tefah', 'jours', '9atlou', 'kama', 'menech', 'yezou', 'conter', 'akermi', 'mostfa', 'na3raf', 'yabta', 'y9olek', '3ala9a', 'yar7emhom', 'zebou', '7kit', 'wras', 'choftou', 'yzidek', 'danya', 'fesda', 'ti5dim', 'sayara', 'douda', 'mino', 'e5i', 'leh', 'moubarak', 'wejhi', 'm3elem', 'iwaf9ik', 'hedhouma', 'houta', 'finale', 'sbé7', 'yghani', 'héthi', 'tnajam', 'seyeb', 'sayebha', 'mazo', 'tsebou', 'london', 'torbia', 'eljana', 'kalo', 'internet', 'fele5er', 'maw9ef', 'te3mel', 'sehel', '7lib', 'oy', 'fehmin', '5outh', 'bountou', '3tak', 'kalib', 'black', 'hizb', 'ma3netha', 'ykalik', 'la7dha', 'fifa', 'i7ebo', 'kethba', 'titrouet', 'intidabet', 'ymchi', 'koule', 'y7ot', 'bi3', 'mta3o', 'banour', 'njib', 'recrutment', 'l7al', '3achet', 'bde', 'la7es', 'mas', 'tfarejt', 'ya3rf', 'ne7na', 'nawi', 'jamhour', 'hors', 'habtou', 'barlamen', 'liclub', 'omet', 'mwaher', 'esiyasa', 'hekeka', 'sada9', 'famach', 'tmanit', 'ybareklek', 'doura', 'welet', '5rajt', 'trab7ek', 'ames', 'aucun', 'tari9', 'wsayeb', 'surprise', 'jalsa', 'arjil', 'jouerete', 'hekom', 'twalha', 'tefhmou', 'krasi', 'ghoura', 'inchlh', 'madhabina', 'matchs', 'lghali', 'mli', 'boughanmi', 'hahou', 'lkleb', 'gir', 'wald', 'ylawej', 'fhemtech', 'likbir', 'walat', 'chya3mel', 'mzamra', 'a7zab', '5amem', 'bombe', '9atl', 'r5as', 'wlidi', 'a3lem', 'wledha', 'dhaw', 'takel', 'mandhrek', 'tajamo3', 'habs', 'a7deth', 'syasa', 'lahasa', 'porte', 'ma3aka', 'neklou', 'inas', 'thed', 'ytawel', 'amthelek', 'ya5dem', 'bditou', 'mortha', '9rit', 't3ebna', 'wsa5', 'respects', 'ghaza', 'barnamij', 'mahmoud', 'lazm', 'ganouchi', 'flop', 'la9ta', 'njibo', 'yaref', 'eria7i', 'mou3ardha', 'menik', 'chnoi', '7izb', 'get', 'more', '3inina', 'batil', 'sbou3i', 'sorek', 'jéy', 'bidaya', 'ndif', 'wahad', 'wahlek', 'hadouma', 'amane', '3aml', 'im3a', 'mchat', 'ahaya', 'coler', 'wa7dak', 'mritha', 'tsala7', 'jeux', 'kifha', 'hamdoula', 'ab9a', 'ady', 'wahadha', 'janah', 'eti7', 'ibarek', 'wchouf', 'fibelou', 'sra9', 'titer', 'etfouh', 'hbel', 'ep', 'tesma3', 'yonser', '9ablou', '3adiya', 'ksar', 'la7nina', 'malek', 'ek', 'ma9al', 'bkolou', 'continuer', 'sab', '4ir', 'ahlo', 'kol3am', 'spotify', 'barnamaj', 'ywaf9k', 'jouaret', 'mahomech', 'lmarzou9i', 'yarja', 'ile', 'inahdha', '3amin', 'prix', 'bendir', 'telhé', 'wasa3', 'tod5ol', 'désolé', 'rih', 'wa7di', 'belhak', 'nabeul', 'lwa9t', '7ajetna', '7awlou', 'amical', 'madrid', '3alihom', 'kanek', 'yfadhlek', 'couleur', 'loun', 'raj3lna', 'taml', 'grinta', 'arbi', 'afkar', 'ljana', 'jou3', 'voix', 'jil', 'ghirek', '7aya', '5ayr', 'b3ida', 'lawel', 'nhebk', 'mfach5in', 'entraîneur', 'del', 'wale', 'lileh', 'aflam', '2014', 'n7bouk', '5adem', 'oredo', 'prime', 'jem3ia', 'tahiyati', 'etahana', 'l8alya', 'a3ti', 'sabrin', 'raouf', 'hazou', 'heja', 'im', 'wnes', 'rake', 'jaloul', 'yarhim', 'bel3ani', 'manajmouch', '7oriya', 'alif', 'edour', 'tekel', 'teb9a', 'rwahkom', 'train', 'ghana', 'nase', 'encourage', 'fawtha', '3lihoum', 'jafar', 'forever', 'coach', 'andk', 'nebniw', '7leybi', 'jai', 'yemchiw', 'yhib', '5awla', '5aterhom', 'waka', 'jamil', 'ba3da', 'carthage', 'lasmer', 'radhi', 'dabagh', 'go3ra', 'art', 'ko', 'elbara', 'sam', 'tekber', 'fthaya7', 'yostor', 'wch', 'hasan', 'recherche', 'mnt', 'jwe3a', 'eriehi', 'yerba7', 'jek', 'm3eh', 'them', 'montsar', 'dègage', 'laho', 'ch3ab', 'msatek', 'esyasa', 'khamja', 'ta3mél', 'dhib', 'm3athabhom', 'amem', 'liberté', 'b3d', 'whouwa', 'bihoum', 'tahfouna', 'madhloum', '9oub3a', 'wafi', 'yahdina', 'ain', 'galeb', 'sidou', 'enedi', 'hatou', 'mezyana', 'thamech', 'siwa', 'lisar', '3ayeltek', 'hadra', 'yokhrej', 'brahim', 'so9at', 'gay', 'y5af', 'psk', 'mat5alich', 'san3a', 'akahou', 'barnous', 'okra', 'touslou', 'yi5dim', 'okhtek', 'lekbar', 'lourd', 'lwa7id', 'bi3a', 'lmochkla', '7alet', 'makan', 'vedio', 'ekdem', '5ala', 'tlawjou', 'belna', 'lemhaf', 'hay2a', 'sbitar', 'mnawra', 'lham', '3sa', 'e5dim', 'rays', 'marioul', 'yosref', 'romdhanek', 'bine', 'abonés', 'made', 't3almou', 'la5er', 'dkhal', 'em3ana', 'tenu', 'yasmine', '7adher', 'y3ani', 'why', 'e7eb', 'm3ach', 'lafta', 'torbya', 'belhom', 'fi3l', 'drapeau', 'fha', 'jedid', 'ou5ra', 'thabtou', 'apart', 'lehin', 'tetsama', 'hazha', 'a5ir', 'ba3', '3ajbek', '9am', 'solution', 'fouk', 'galet', 'machia', 'rohou', 'felicitation', 'chwia', 'raj3oulna', 'lenabara', 'rwehom', 'touche', 'kaka', 'jiboulna', 'mounafe9', 'na7it', 'temchich', 'galia', 'eslem', 'contenu', 'wmen', '5alouna', 'hena', 'azyen', 'hethika', 'b3athna', 'fasad', 'achraf', 'i3ich', 'dziria', 'principe', '93adt', 'na9raw', 'bl7a9', 'yetbadel', 'w7ata', 'mit', 'tafih', 'rkhis', 'yhezou', 'soutou', 'copier', 'na3rif', 'elwakil', 'zayid', 'inch', 'prison', 'imta3', 'al9ab', 'filastin', 'tousil', 'faztek', 'tounseya', 'yoser', 'lecha3b', 'bahin', 'ta7foun', '7aseb', 'mojtama3', 'ourabi', 'ab3athom', 'ma3dech', 'atend', '5alou', 'ta2sisi', 'kofa', 'mafihech', '9hab', 'yekel', 'lwa9et', 'twila', 'sahit', '95', 'chikh', 'yamlou', '7asa', 'kadhab', 'jolie', 'esmek', 'b3adna', 'wajh', 'hé', 'raies', 'dho7ka', 'ilkoul', 'lnes', 'rakez', '7a9a', 'fal', 'mare', 'have', 'algériens', 'el9a7ba', 'raykom', 'ta3lim', 'yeki', 'directeur', 'mast', 'lbnet', 'tarja', 'a7rar', '3ati', 'wslim', '93at', 'thes', 'yeklou', 'i3awen', 'maintenant', 'kedeb', 'arbitrage', 'mnayik', 'ini', 'mahoch', 'ydha7ek', 'ardh', 'bagra', 'ahawa', 'dakhel', '3ndk', 'ghlot', '3léch', 'bitawfik', 'debut', 'wa3mel', 'romdhane', 'chwaia', 'e5ir', 'msaybin', 'l5edma', 'mila', '9raya', 'birjouliya', 'mrida', '9oulouli', 'kairouan', 'esentiel', 'edine', 'action', 'zidhom', 'yosrof', 'wjouhom', 'tebni', 'encha', 'finou', '7asbouna', 'mouta', 'seliana', 'ma3malt', '5arya', 'li5ir', 'taflim', 'ihez', '5ayfa', 'feragh', 'jitou', 'carte', 'lihoud', 'khalit', 'raper', 'hadika', 'dé', 'fahom', 'barabi', 'story', 'dahra', 'do', 'than', 'fihem', 'he4a', 'femes', 'invit', 'jard', 'nahar', 'masoul', 'le3ba', '9ararat', 'y5i', 'metrobi', 'n3ich', 'média', 'dmou3', 'rou7ak', 'l9it', 'ina3mou', 'n7ebk', 'da5il', 'yseb', 'fotbal', 't9olou', 'bhar', 'lahram', 'fark', 'masar', 'yar7im', 'n9olo', 'initiative', 'thema', 'tata', 'sloumà', 'blèd', 'oumek', 'ba3dh', 'rabha', 'cazoni', 'hazitou', 'tafaha', 'mart', 'tayech', 'yhibou', 'ta7chou', 'yna3n', '5af', 'prive', 'tardou', 'ma9hour', 'chaye', 'kaly', 'khala', 'yba3ed', '8onaya', 'e5r', 'at', 'nasma3ha', 'khirlek', 'saloma', 'trouve', 'ya5ou', 'acha3b', 'n9olkom', 'lou4a', 'asma', 'isahel', 'noura', 'nal9aw', 'ya7ra9', 'jaben', 'wahef', 'ma3néha', '3ndi', 'elgalia', 'lekin', '3anda', 'honteux', '5aterha', 'do5an', 'sanchez', 'defenseur', 'leghneya', 'yweli', 'da3ara', 'ihem', 'ri2esa', 'mawjoudin', 'hadher', 'el3asba', 'yhdik', 'ajal', 'na3n', '7ezbek', '7atit', 'islim', 'sormk', 'ya3tina', 'mrid', 'ytab3ou', 'elflous', 't7es', 'twil', 'hop', 'esabr', 'lala', 'tabe3', 'hakim', 'ando', 'bizare', '7achtna', 'wilayet', 'aniv', 'tnahi', 'kolchi', 'yo5roj', 'mounef9in', 'fitna', 'chkouni', 'tof', '9dim', 'quelque', 'oum', 'ghorba', '3isaba', 'jerjis', 'kaies', 'froukh', 'jbel', 'galbou', 'bra7met', 'cha5siya', 'sublime', 'palestine', 'bia', 'flousna', 'yosterna', 'joumhourha', '7ayin', 'mini', 'moslimin', 'a3bed', '9atous', 'kamal', 'exactement', 'tarje3', 'na3rfo', '7sin', '5alet', '7asit', 'galbek', 'y9ader', 'wkif', 'kilabou', '3a9leya', 'vers', 'khales', 'hosni', 'baramij', 'eji', 'asma3ni', 'fima', 'yostorna', 'pivo', 'yfaraj', 'asil', 'sa7by', 'deniya', 'jbal', '3endna', 'nefdik', 'maghreb', 'omour', 'matou', 'enar', 't9oum', 'inti5abat', 'gbeli', 'zatla', 'elotf', '3elmi', 'moslmin', 'dawela', 'hamem', 'feyda', 'farouk', 'beléhi', 'argent', 'brovo', 'rja3t', '7agar', 'ta9ef', 'presiden', 'wja3ni', 'chwiya', 'ezwewla', '3laya', 'mima', 'hadik', 'kalma', 'mek', 'aboner', 'sma3tou', 'valeur', 'kamlou', 'yekdem', 'tfid', 'fachla', 'biléhi', '9arwi', 'jebtou', 'tama', 'riadhi', 'bima', 'l7ad', 'team', 'yahbet', 'jam3yetna', 'ri7et', 'wlahi', 'aouet', 'sed', 'manouba', 'vibe', 'ghira', 'cha3bek', 'tarikh', 'nans7ek', 'idin', 'ri7a', 'goub3a', 'kim', 'thki', 'clair', 'moment', 'if', 'esmo', 'publication', 'nenta5bek', 'mekla', 'm3alma', '7okoma', 'a3da', 'jomhourha', 'yna3mo', 'tohkom', 'ho', 'bered', 'prety', 'serek', 'e7chem', 'lahom', 'osket', 'konti', '5al9', 'concept', 'wladi', '9loub', 'jamal', 'aïd', 'bahiya', 'grouda', 'm3', '3ndek', 'jusqu', 'houm', 'yekteb', 'adam', 'chesmha', 'pouvoir', 'regued', 'sa3dou', 'o93dou', '206', 'ya3tiw', 'year', '3aks', 'fcb', 'bakou', '7kéya', 'matansech', 'situation', 'ybi3ou', 'ghrib', 'salaire', 'kartha', 'yehlkek', 'clotey', 'erou7', 'taktik', 'jedan', 'ahou', 'ysebou', 'l97ba', 'thab', 'a7ad', 'ma3mel', 'elil', 'ilah', 'la3sa', 'mawsem', 'wba3ed', '3bd', 'ebni', 'msayeb', '5atér', 'y5adem', 'krib', 'lahna', 'kader', 'bienvenue', 'tsaker', 'tchabah', 'barak', '4alet', 'azebi', 'rou7ék', 'trabelsia', 'ya9raw', 't7ibou', 'vais', 'wé7id', 'plein', 'chal', 'inchlah', 'mada', '7es', 'nchoufek', 'image', 'yeji', 'scénario', 'eb3ed', 'demi', 'jarida', 'tistana', 'ab3eth', 'itwensa', 'ikalik', 'mafamch', 'wehda', '7aletna', 'waf9ek', 'lklab', 'yzina', 'jadara', 'ykoul', 'yarhm', 'najm', 'wertani', 'etheb', 'moda', 'nouveau', 'hne', 'lelehi', 'mzali', 'lfekra', 'ekleb', 'liste', 'floushom', 'weldou', 'marit', 'majdi', '3ans', 'gloubna', 'usual', 'mechekel', '93adtou', 'zambie', 't7bou', 'azlam', 'es7i7a', 'le3b', 'sorak', 'sr', 'chofo', 'aziz', 'melekher', 'ta3ba', 'garnabou', 'videos', 'nab9aw', 'moudir', 'im3alim', 'nemchiw', 'fhem', 'janjon', 'jibena', 'es7a7', 'déçu', 'hezb', 'wintom', 'roud', 'liman', 'vérité', 'adorable', 'revolution', 'tansa', 'kant', '3alekher', 'hbiba', 'mazeltou', 'eras', 'avoir', 'rahy', 'hedhli', 'cravate', 'kalek', 'abdalah', 'fomk', 'yézi', 'sa3dek', 'chofna', 'kenza', '3aweni', '5sartek', 'majhoud', 'lele5er', 'nistana', '7ayawen', 'm5a5kom', 'y3inik', 'ltali', 'a3tihom', 'idkom', 'aslek', 'l3ayla', 'calibre', 'il7a9', 'algérien', 'leblasa', 'sabri', 'tbiba', 'jad', 'mo5o', 'kdheb', 'chabi', 'rabye', 'belgda', 'hosed', 'yerham', 'zahi', 'pire', 'lamouchia', 'lma', 'zit', 'sgar', 'alwakil', 'soltani', 'cinéma', 'we9fa', 'dime', 'jedou', 'ihebou', 'ua', 'rgui3i', '3amlouha', 'etir', 'tektheb', 'jel', 'malhet', 'nhabak', 'dami', '7a9ha', 'tarbya', 'ichafiha', 'fahmouna', 'mokhou', 'lay', 'notleb', '3atba', 'lefriqui', 'sabil', 'bikri', 'kifma', 'espere', '97ba', 'mnayak', 'zad', 'telhelna', 'traji', 'tozeur', 'hsan', 'jeu', 'salifou', 't3ab', '120', 'yonsor', 'lwatani', 'akhyeb', 'kileb', 't9aren', 'sourya', 'parce', 'm3abi', 'majlis', 'w5ayti', 'niya', 'yosra', 'clas', 'yfata9', 'dawedi', 'debi', 'mazembe', 'il5ir', 'khamej', '7aba', 'nayeka', 'tansech', 'hasit', 'kom', 'watha7', 'e3lam', 'aghla', 'blayes', 'n7ibouk', 'yod5ol', 'maki', 'inchaleh', 'metanbir', 'gharbiya', 'te3ref', 'ls', 'met7ayel', 'loulad', 'nab9ou', '2012', '9ouba', 'ezwawla', '7ijeb', 'gadhafi', '3ndha', 'fibali', 'line', 'yazi', 'saf', '3ale9a', 'perdu', 'choiya', 'sahafi', 'te9ef', 'tkalmou', 'a5tawna', 'pliz', 'dayra', 'hawya', '3afsa', 'f9ir', 'azlem', 'sawet', 'darkom', 'nchofo', 'tetmana', 'tayah', 'periode', 'jarathim', 'edinya', 'elbenzarti', 'reaction', 'elclub', 'toutes', 'da5lou', 'roha', 'stupid', 'tafah', 'lo', 'ajnabi', 'zmen', 'korbi', 'yet9abel', 'imarat', 'lekrasi', 'agerbi', 'habtet', 'pls', 'raghm', 'glow', 'chien', 'khlifi', 'hokm', '3ebra', '5yr', 'dhaouadi', 'to7kem', 'trod', 'achab', 'yaslim', 'yasin', 'wa9tch', 'ma9hourin', 'manzah', 'chari', 'haten', 'hoi', 'ma3koul', 'tharba', 'boulabyar', 'apar', 'welcome', 'lislim', 'ihib', 'telhit', 'fthaye7', 'etounsiya', 'darna', 'echnowa', 'aux', 'amr', 'wkima', 'mfach5a', 'épisode', '3afata', 'hayla', 'mnhom', 'khamsa', 'n7ebha', 'ywaf9ou', '3endha', 'tali', 'daraja', 'chribetkom', 'ykhales', 'era2is', 'aha', 'akhbar', 'zabor', 'madhrouba', 'marwen', 'poubele', 'keteb', '3léha', 'chi3ar', 'ragel', 'israel', 'zouhaier', 'kharja', 'sisi', 'sei', 'ch3ar', 'choufli', 'raihi', 'telhe', 'limra', 'tardouh', 'o5tek', 'darhom', 'prof', 'tounese', 'tenjah', 'lekbira', 'kul', 'la7ad', 'tati', 'chui', 'turban', 'jam3eyetna', 'amaltou', 'farina', 'mathal', 'bledkom', 'la7kouma', 'tarji', 'mwihbi', 'lmousalsel', 'felings', 'baki', 'bhi', 'leader', 'a3mlo', 'sa7bek', 'time', 'i7tirami', 'entidabet', 'tosref', 'wanti', '3adam', 'mzia', 'faysel', 'about', 'andhef', 'nouba', 'wa9téch', 'alor', 'kili', 'labès', 'sma3et', 'nisma', 'mosalsel', 'avenir', 'khlah', 'ta5ou', 'hamra', 'habibti', 'mahsoub', 'ekteb', 'ksara', '7ra9', '9ayes', 'ma3andi', 'bébé', 'msakin', 'elections', 'ghirha', 'masrou9a', 'hawa', 'kada', 'tmoutou', 'yfadhelhoulek', 'neja7', 'e7ki', 'awladna', 'ismek', '3isabet', 'chedha', 'yichfik', 'kraht', 'jabet', 'tachwih', 'farha', 'cmntr', 'tokhrej', 'khbar', 'mkch', 'domta', 'izikel', 'hotel', 'yaslouma', 'mo3artha', 'chahria', 'cha3mal', '3oudh', 'was', 'yalzem', '7otou', 'fahim', 'bande', 'joli', 'weta7ana', 'lwah', 'anas', '7san', '3ed', 'dawadi', 'ano', 'yhemek', 'wchkoun', 'esiyesa', 'alaf', 'wlidha', 'ezantour', 'el7oukouma', 'miliar', 'sket', 'fare9', 'hadou', '9owet', 'laf3a', 'ywafa9', 'i9tisad', 'wael', 'barca', 'prog', '5aleha', 'menzah', 'chitan', 'ejamia', 'jam3yet', 'testahel', 'nika', 'elgadafi', '3omrik', 'msr', 'yamil', 'exp', 'hsine', 'etajamo3', 'responsable', '3jab', 'fyk', 'tnekt', '7alit', 'yeswa', 'asrar', 'bladek', 'chour', 'analyse', 'bsahtek', 'koster', 'ahly', 'idour', 'ymarki', '3leya', 'anek', 'erie7i', 'enoum', 'atraf', 't3ichou', 'bedam', 'sereg', 'dawlet', 'ya3tihom', '8aliya', 'ba3dha', 'bander', 'leklab', 'hip', 'chra', 'bus', 'ajl', 'samy', '3m', 'tel3ab', 'wost', 'nejah', 'kanit', 'mur', 'ba3dek', 'bient', 'vrm', 'le3eb', '9o7eb', 'anes', 'bli', 'hethe', 'alia', 'salm', 'bayou3a', 'tarika', 'beflousou', 'yahdikoum', 'souk', 'haou', '3ena', 'fom', 'lmaryoul', '3alech', 'kber', 'tesre9', 'dziriya', '3awenhom', 'na3mil', 'nkawrou', 'm3dch', 'thb', '7ajti', 'hethouma', 'y9ol', 'whia', 'sait', '3inaya', 'vis', 'alkher', 'doit', 'anyek', 'ne5dem', 'y7ebouk', 'ebde3', 'jihad', 'lkora', 'bazaf', 'nhebkom', 'samsar', 'eznatir', 'insta', 'ysabar', '9ayed', '7atet', 'ezine', 'jamiya', 'kho', '9wiy', '3aza', 'melyar', 'yanb7ou', 'dhid', 'amor', 'man7ebouch', 'paser', 'nek', '9asit', 'ned', 'hamamet', 'chera3', 'khawti', 'kazouni', 'haykel', 'dharben', 'fc', 'chnewa', 'félicitation', '7et', 'vera', 'sava', 'tnek', 'wjomhour', 'elha9', 'sad9ouni', 'zidane', 'ytaba3', 'pleure', 'fibelna', 'masale7', 'meta3', 'prochaine', 'feras', 'wsid', 'y7el', 'tunise', 'rouskom', 'sma3', '5adema', 'choufo', 'dim', 'web', '4riba', 'mté3', 'chlaka', 'matri', 'tel9a', 'bsara7', 'nermine', 'mte3o', 'ychfik', 'sory', 'djerba', 'nenta5bouk', 'tfalem', 'oumourna', 'may7ebech', 'nikomik', 'tournés', 'kartouch', '3ejbou', 'elmarzou9i', 'a5la9', 'masa7', 'taht', '10d', 'naiek', 'ab3ath', '5ouf', 'center', 'ifriqui', 'jayebha', 'parfait', 'balhi', 'khanchour', 'rai', 'nahkiw', 'alikoum', 'lghalya', 'hale', 'tarba7', 'blado', 'te5dm', 'belaid', 'na9is', 'money', 'seule', 't3amel', 'alach', 'nbara', 'sadem', 'bkolhom', 'yekhy', 'far3', 'hond', 'jma3it', 'isebou', 'zede', '3amlinha', 'etlha', 'lpage', 'ostoura', 'brima', 'l8aliya', 'habtelna', 'gamra', 'ouertani', 'lbarnamej', 'et7eb', 'tkounou', 'nesbet', '3nd', 'caméra', 'selma', 'maskin', 'eya', '4alya', 'akthr', 'kayes', 'yonsrok', 'a7wel', 'lbe9i', 'w9ayet', 'wya', 'ministre', 'ywafe9', 'klm', 'inchla', 'o93ed', 'naoufel', 'miliarat', 'chedi', '3ibara', '3inih', 'o5rjou', 'faragh', 'koulna', 'yesra9', 'kroz', 'jomla', 'saf9a', 'chouka', 'lmout', 'nektha', 'ihibou', 'ekbir', 'yakoun', 'tamil', 'oula', 'dhaharli', 'mo5i', 'couple', 'mata3rfouch', 'mbenza', 'matbadel', '9otlek', 'hakika', '5asrin', '5alini', 'maloul', 'nabrou', 'dkhili', 'track', 'akhaw', 'serie', 'mafemech', 'hamdou', 'masri', 'mte', 'kar', '9asdawi', 'charafi', 'joweret', '3abdi', 'yifhim', 'osktou', 'nafsek', 'bdé', 'fachil', 'nuit', 'bared', 'oumourou', 'isar', 'el3a9ba', 'ch3eb', 'ya3tou', 'dhamir', 'kabira', 'el7al', 'etoil', 'ye5dm', 'dyma', 'ysoun', 'ma3ke', 'wtounes', 'masla7tou', 'badlou', '5sart', 'meher', 'hokouma', 'berjoulya', 'tetnek', 'lkalba', 'sabeb', 'fala', 'ta3bir', 'tal3bou', 'ô', 'kalam', 'ga3da', 'wazir', 'mas2oulin', 'ne5dmou', 'hakek', 'zaim', 'el3alem', 'elhak', 'bank', 'hb', 'faycel', 'jibo', 'salemi', 'wadh3', 'bhal', 'alaha', 'sabar', 'n9oulha', 'gel', 'jme3t', 'mansour', 'siasi', 'dirab', 'ryousna', 'chib', 'nenta5bou', 'elibia', 'majd', 'tensech', 'fia', '9ari', 'fikol', 'eti7ad', 'a5', 'kloubna', 'a7le', '9hawi', '3lya', 'na3en', 'hewa', 'b9itou', 'chewaya', 'bash', 'kasdaoui', 'yala3bou', 'menghir', 'lmoncef', 'borjouleya', 'ahzeb', 'malgre', 'b3adh', 'thebo', 'aker', '3ani', 'mokhek', 'bou3zizi', 'tijeni', 'tunisi', 'wa7la', '3indek', 'nesha', 'lwa7ed', '3imad', 'hlou', 'hamemi', 'borhan', 'copie', 'jerdhen', 'eser9a', 'bila', 'changer', '3na', '150', 'clubistya', 'bouhali', 'kharjou', '3andhoum', 'btw', 'chkounek', 'a5le9', 'tna9es', 'khire', 'ltunis', 'yeli', 'yawm', 'politiciens', 'nchoufouh', 'think', 'idée', '5obza', 'sérieux', 'mat9oul', 'arjouk', 'miselech', '3inou', 'hazen', 'menah', 'mnaykine', 'coeur', 'sawfa', 'ola', 'malioun', 'kdar', 'ejay', 'yasoura', 'yasou', 'ysalem', 'ji3ana', '3adna', 'hahahahahahaha', 'walha', 'wa3la', 'faker', 'lwatan', 'wanta', 'manal', 'wmazel', 'miga', 'héka', 'la7ya', 'wijhik', 'fal7in', 'obama', 'johel', 'wrana', 'bath', 'celui', 'tet7al', 'mata3mel', 'ychoufou', 'bism', 'tha9afa', 'younsrek', 'chtarhom', 'isa7a', 'eriya7i', 'ajr', 'wmin', 'zéro', 'layamet', 'esprit', 'tachkila', 'raj3et', 'swa7liya', 'ebenzer', 'inhom', '3malto', 'binzarti', 'yetna7a', 'décision', 'slem', 'mailot', 'marché', 'kadab', 'cœur', 'elkouki', 'braveau', 'prv', 'wsnin', 'chnaya', '3izkom', 'fani', 'vibes', 'masl7a', 'boukom', '3end', 'yer7am', 'toktel', '3lek', 'tla7es', 'sketch', 'traba', 'labés', 'sens', 'boudourou', 'dawra', 'ect', 'resultats', 'owel', '52', 'wa3i', 'ebki', '7abet', 'tetbadel', 'khair', 'scenario', 'lefriqi', 'lahkaya', 'tesir', 'silence', 'dep', 'jak', 'wbrabi', 'benet', 'comenter', '2017', 'mafiha', '9adekech', 'malm', 'inti5abiya', 'him', 'thawret', 'guere', 'ridh', 'namel', 'tetraba', 'meileure', 'y7b', 'yberek', 'safha', 'yehki', 'chamel', 'fahmi', 'tkaser', 'bnjr', 'alam', 'alehom', 'hyeti', 'hiz', 'arêtez', 'hadadi', 'o5roj', 'mlahet', 'ga3ed', 'l9ahba', 'konto', 'tanfa3', 'beh', 'gadech', 'seybou', 'lela', 'tfaker', 'lelbled', 'weldih', 'b9a', 'zbela', 'z3ayem', 'bya', 'samsara', 'ykoulou', 'nebil', 'confirme', 'charika', 'mbarka', 'edenia', 'yfadlek', 'alahom', 'brk', 'zbala', 'mata', 'ibaki', 'ra5', 'choufena', 'tjibo', 'atfah', 'mneyek', 'yara7mek', 'la3ziz', '5saret', 'n9ol', '3achra', 'dharbou', 'mar2a', 'ma3lim', 'edar', 'melk', 'tal', '3ra9', 'canada', 'wisaber', '7amlet', 'jmé3a', 'ma3lam', 'sabit', 'general', 'sou', 'cha3bou', 'dabe8', 'brjouliya', '7amdoula', 'demande', 'faregh', '7oula', 'maymouna', 'ta7it', 'yeheb', 'o5rj', 'na3ti', 'discours', 'sahih', 'bardo', 'tewa', 'afdal', 'fe9et', 'maitre', '3idak', 'yerja3', 'cherif', 'kapo', 'ma3ch', 'mafhemtch', 'hope', 'mchew', 'hadaf', 'fthi7a', 'wejeb', 'tomber', 'el7or', 'objectif', 'harb', 'ga', 'idou', 'ahwka', 'ayari', 'blasto', 'echbik', 'fasa5', 'ya9ef', 'nule', 'ansa', 'sabat', 'tozgar', 'touja3', 'whd', 'rzin', 'fethi', '9adheya', 'oubara', 'enheb', 'bitbi3a', 'stif', 'en7ebou', 'ne9ma', 'n7ebouh', 'genre', '3alaykom', 'heza', 'andkom', 'nchal', 'tremkom', 'etoiliste', 'a3leha', 'système', 'omoro', 'tmchi', 'winers', 'fesh', 'afkarek', 'ta5rawlou', 'elkleb', 'l7ram', 'quen', 'zhar', 'namlou', 'ysabrek', 'mousalsil', 'wasal', 'jebtha', 'a7kiw', 'penalty', 'jabouh', 'yjibo', 'ga3din', '7ket', 'hade', 'l3ab', 'jeyebha', '7oukoumet', 'kelet', 'n9olk', 'persones', 'choses', 'enida', 'jumia', 'byh', 'lifriqui', 'te7lem', 'winty', '3alya', 'birjoulia', 'manaseb', 'atheka', 'mahlaha', 'acident', 'ch5as', 'mazalou', 'letaraji', 'ramadhan', 'ynaber', 'dhor', 'jwa3a', 'chalbou9', 'saydi', 'sou2al', 'hnina', 'ejaw', '7yetou', 'lebtala', 'irak', 'saheb', 'o5rij', 'tkhali', 'ayadi', 'elbarnamej', 'tawel', 'irjal', 'sektin', 'disapointed', 't3ayef', 'terb7ou', 'y5arej', 'taksir', 'rayo', 'prince', 'méla', 'devant', 'nouweb', 'votit', 'khaliw', 'tfakrou', 'rajoul', 'jeyin', 'dhar', 'aza', 'inajmou', 'lmarsa', 'sayid', 'loukan', 'animateur', 'questions', '7wel', 'm3al', 'ici', 'sh', 'marque', 'mezelna', '9olha', '7atou', 'km', 'achbeh', 'twafa', 'esghar', 'todher', 'halet', 'tkamil', 'be3d', 'wilaya', '3al7it', '3meltou', 'cause', 'firas', 'vd', 'yekoun', 'i3tisam', 'petrol', 'sasi', 'sofien', 'yekdheb', 'forstou', '5ritou', 'neje7', 'hervé', 'perfect', 'disant', 'tifhim', '3a9lya', 'yo7kmou', 'emena', 'plusieurs', 'nstana', 'm3akoum', 'renard', 'hali', 'kouret', 'mizel', '3mara', 'nan', 'touensa', 'tnejem', 'met3ba', 'uh', 'btari9a', 'drabou', 'we7da', 'ablah', 'takrim', 'wethni', 'romdan', 'bouhom', 'meche', 'cours', '9loubkom', 'service', 'bhy', 'bouna', 'touzgar', 'tunisiana', 'yahmikom', 'khlifa', 'filem', 'insane', '3likem', 'nhes', 'shay', 'mkarez', 'ya5ra', 'lya39oubi', 'yzi', 'number', 'rajelha', 'rajioun', 'bard', 'cha3rou', '3aila', 'chta3mel', 'te5ser', 'iti7ad', 'ychid', 'biensur', 'jaim', 'klami', 'arbia', 'local', 'hahahahahahah', 'esaber', 'old', 'ezikel', 'ete', 'yhot', 'swisra', 'ky', 'swi9a', 'kouna', 'godam', '3amna', 'yahdikom', 'lefsed', 'oumourha', 'likes', '79i9a', '3arfin', 'niko', 'lilehi', 'degla', 'wldik', 'ednadik', 'asad', 'chemda5el', '9alkom', 'm3adhibhom', 'reb7a', 'aliance', 'elmedeb', 'tchof', 'hier', 'aimer', 'abhem', 'esif', 'makanech', 'raport', 'wa7ch', 'vert', 'ban', 'delice', 'jadore', '3adhim', 'zamalek', 'nbadlou', 'nejeh', 'mtaek', 'hazet', 'élections', '4oul', 'ya7re9', 'daragi', 'voley', 'yelzim', 'ta9rib', 'minhoum', 'probleme', 'mabrou', 'bientot', 'souret', 'seyasa', 'hela', 'fac', 'bani', 'hed', 'ma3louma', 'yéchfih', 'netfarjo', 'badou', 'lo8a', 'chofet', '7awin', 'masi', 'hajat', 'tkoulou', 'dite', 'lab', 'mazilt', 'tekdem', 'nkoulou', 'avocat', 'fu', 'mahoumch', 'ha9ek', 'donya', 'tendances', 'lkolo', 'taswiret', 'elkaleb', 'manfou5', 'ta3melou', 'jarima', 'amalt', 'ghlat', 'waldikom', 'famechi', 'souria', '3izek', 'mauvais', 'alifriki', 'madema', 'niga', 'dayouth', 'se7a', '3arfa', 'barchalouna', 'makontech', 'dholm', 'en9olek', 'belflous', 'makchouf', 'yhem', 'a3mél', 'où', 'ansar', 'tfarajet', 'l3amalia', 'decision', 'hmoum', 'mamstik', '5rajet', 'saktin', 'kawnou', '7amdoulah', 'contente', 'wmba3ed', 'tjini', 'nseb', 'mbrok', '48', 'ma3andhech', 'chei', 'yitraba', 'dwla', 'tal3ib', 'prese', 'bihem', 'whaka', '7ale', 'tasjil', 'nraw', '7alouma', 'petrole', 'reb7et', 'tsaref', '9adha', 'matlab', 'e3dem', 'khayr', 'stana', 'l7or', 'tour', '3ine', 'fakir', '7ka', 'cap', 'er', 'chwy', 'enchlah', 'koulha', 'wlid', '7esou', 'ador', 'fara7tna', 'ajel', '7asoud', 'oua', 'mimto', 'binesba', 'minutes', '9aloulou', 'eljam3ia', 'ne7bou', 'l7abs', 'wajhou', 'yaslah', 'moulena', 'oumouri', 'bons', 'la7nin', 'meziena', '3akes', '9afla', 'morsi', 'dares', 'tester', 'kbera', 'ya7mih', 'tanbah', 'ta7anit', 'ugt', 'yejbed', '4adi', 'zaba', 'making', 'creative', 'werteni', 'welew', 'name', 'a5ralou', 'yeb3ed', 'meda', 'dark', 'bejam3ia', 'jiti', 'helo', 'tetna7a', 'louga', 'takoun', 'acord', 'âme', 'jma3t', 'cinema', 'safka', '3ardh', 'hedhoukom', 'ultras', 'ara', 'tao', 'fuk', 'libye', 'hadhoukom', 'raeis', 'médecine', 'mohsen', 'elili', 'sormou', 'ya7fdhou', 'le5r', 'ide', '9bi7', 'latra7', 'yeb9a', 'ma3andnech', 'dj', 'hahahahahahahaha', 'bilha9', 'sgir', 'ra7met', 'anahou', 'niheya', 'voyage', 'fiere', 'farda', 'wnos', 'mfabrka', 'per', 'binou', 'kazoni', 'to9tol', 'sem7a', 'termtou', 'her', 'soyez', 'lakher', 'foursa', 'lehom', 'pere', 'esahafa', 'itounsi', 'hasbia', 'mahi', 'salemli', 'nitsawir', 'bnt', 'bkani', 'clube', 'chérie', 'yar7ma', 'loi', 'elwa7id', 'kbert', 'ilyoum', 'douz', 'aprés', 'tichri', 'elfol', 'rab3a', 'chak', 'give', 'zal3a', 'lkouki', 'wantom', 'awledou', 'la7laybi', 're9da', 'sfar', 'yotlob', 'tzoul', 'farga', 'yestahel', 'elmouhem', 'mostawayet', '4alia', 'yester', 'n7ab', 'kharya', 'fanèn', 'awesome', 'rohik', 'youja3', 'tafihom', 'b5er', 'espoir', 'atw', 'etari5', 'omék', 'ya3rif', 'o5rine', 'fog', 'lahkika', 'jitna', '3lh', 'chbeb', 'ta3rfouh', 'yanfa3', 'w9ef', 'khatrou', 'maslaht', 'jebhom', 'sabou', 'i3awnek', 'echabab', 'danc', 'tfadlik', 'blédi', 'meryem', '9oulelna', 'stars', 'i7chem', 'tarbah', 'ha3', 'awka', 'fehma', 'lbes', 'yekber', 'krahna', 'tri7a', 'rabta', 'ragasa', 'peace', 'fari5', '9odret', 'période', 'ejma3a', 'nasiha', 'oublie', 'enchla', 'masra7iya', 'hasb', 'chwereb', 'yonsrou', 'fahmouni', 'jabal', 'yrod', 'bavo', 'chbab', '3adel', 'y7es', 'torh', 'kithb', 'be3', 'draj', 'ta3ich', 'dédicace', 'wink', 'm3adebhom', 'izawali', 'm3na', 'n7es', '3andak', 'mosta7il', 'masir', 'hawi', 'thawedi', '3as', 'fame', '9ata3', 'soura9', 'nermin', 'ta5tar', 'hyetek', 'y3aychek', 'y7bou', 'dinek', 'borjolia', 'feh', 'fihm', 'nikomk', 'esa3a', 'nhebha', 'waldiha', 'rachid', 'catv', '3arabi', 'ikoul', 'thenya', 'jamai', 'lokhrin', 'farej', 'mnou', 'khmaj', 'na7iw', 'n3awed', 'balak', 'abyedh', 'fartas', 't9a', '2018', 'la7leybi', 'younsi', 'kg', 'concours', '3aychak', 'éma', 'lekwazi', 'we3i', 'arfaoui', 'neya', 'barnemjou', 't7ebha', 'li5ra', 'b3ad', '7yatek', 'mkachekh', '5at', 'era5', 'dosier', '03', 'yar7mha', 'publicité', 'fa9at', 'lebléd', 'vulgaire', '9afef', 'chira', 'n3adi', 't7ebech', 'eche', 'mahri', 'a7mer', 'nraj3ou', 'lundi', 'abdi', 'pkoi', '9adch', 'fyha', 'barnemjek', 'sa7afi', 'hachem', 'kabes', 'jam3a', 'presidant', 'andik', 'kain', 'cactus', 'puf', 'wak', 'enjoy', 'wekef', 'sa7tek', 'militaire', 'l7keya', 'mchalah', 'weldna', 'netsawrou', 'foul', 'béha', 'mayhemek', 'emta', '3morhom', 'marx', 'kothr', 'lazam', 'ashab', 'leni', 'mounachet', 'metrobya', 'fach5in', 'mostahil', 'debagh', 'novembre', 'ao', 'heke', 'masekh', 'nchoufo', 'maben', 'ismo', 'talga', 'nyk', 'l3ib', 'mada5il', 'nafsi', 'lehou', 'sahbek', 'lelclub', '3adeya', 'kelem', 'mat5afouch', '35', 'fhemto', '9arat', 'wa9a3', 'ntoma', 'nin', 'tsada9', 'l4alya', 'oxygen', 'puis', '7asilo', '3aned', 'équipet', '3ziza', 'emes', 'zwina', 'tkhaf', 'ksouri', 'salami', 'kalmet', '7osn', 'fibeli', 'tbi3ou', 'emasa5', 'hmida', '3raf', 'mabna', 'itkoun', 'ngolek', 'flouskom', 'nshala', 'bsi', 'mnaik', 'tête', 'techki', 'baia', 'cristiano', 'nama', 'lblasa', 'nahnou', 'city', 'mer', 'vasi', 'psq', 'monafi9', '5atar', 'problème', 'cha5sia', 'hiye', 'mahech', 'yerhamha', 'coté', 'pcq', 'cé', 'na9fou', 'wkamel', '5onar', 'kother', 'mazalet', 'sibsi', 'ysayer', 'mère', '7md', '7idousi', 'taou', 'rwe7ha', 'roi', '5alitna', 'sa7i7', 'cha7ata', 'i7ot', 'man9oul', 't7inkom', 'la3bet', 'yar7m', 'i3dem', 'tahar', 'yesre9', '7okoumet', 'aména', 'ijam3ia', 'réponse', 'dance', 'tamlou', 'abad', 'mfacha5', '04', 'contraire', 'edha', 'propos', 'belekchi', 'echkon', 'mar7bé', 'el3ifa', '3ady', 'fak', 'edhika', 'last', 'sabra', 'ybark', 'yad', 'igoul', 'cha3malna', 'kenk', 'lkbira', 'samuel', 'ferga', 'b7ad', 'lequipe', 't3awed', 'ileyhi', '8arbiya', 'maskina', 'hamd', 'hanou', 'aimes', 'halebled', 'wecha3eb', 'kram', 'omrou', 'walad', 'maya9rach', 'n5amou', 'jawbni', 'rase', 'cha3bi', 'la97ab', 'hachetna', 'emte3', 'fa5', '4iro', 'tre', 'touchante', 'tenba7', 'bikol', 'famachi', 'beled', 'mrs', 'contra', '9albou', 't7ebek', 'esyesa', '3raftou', 'douwal', 'tefeha', 'wadha3', 'ye9ef', 'htha', 'awatef', 'nefs', 'izidek', 'jam3éya', '3ounek', 'dmg', 'zedet', 'sal7a', 'naser', 'emasi5', 'intidab', 'ma3ando', 'yarhmha', 'balti', 'lehya', 'rayhom', 'tab3ou', 'belhy', 'elkolha', 'wrahom', 'ihebo', 'mousa', 'ma5lou3', 'amset', 'trois', 'la5ra', '5edmtek', 'ro7a', 'fdha7touna', '3atfa', 'wo3oud', 'slimen', 'system', 'ratchoper', 'mchakel', 'elmara', 'fadhel', '5rouj', 'flén', 'yerahmou', 'tet7aseb', 'len', 'terbah', 'ezou', 'temp', 'nifak', 'sfih', 'yhfdk', 'la7mi', 'irou7', 'beauty', 't7ab', '5aser', 'no5rej', 'sabir', 'w7ed', 'invi', 'île', 'iwaf9ou', 'aide', 'y3awena', 'tounisna', 'ma3alam', 'hsin', 'el8alya', 'nyek', 'tafhin', 'ta3malha', 'sifa', 'masi5', 'mouselsel', 't9ach9ich', 'never', 'oumou', '4oneya', 'bi5ayr', 'pevot', 'mines', 'nja7', 'tet3alem', 'intidabat', 'fibelek', '5serna', 'likol', 'islami', 'tztm', 'i3adi', 'hédhouma', 'ma9rouna', 'they', '3abid', 'yetfaraj', 'el7ak', 'samaket', 'hayat', 'khasa', 'vont', 'réaction', 'akbr', 'ayeltou', 'ra3i', 's3id', 't7otou', 'dawer', '3bèd', 'nationale', 'sa7', 'atwa', 'lezmik', 'gata3', 'mnawar', 'ykhali', 'mafam', 'syria', 'preparation', 'rythme', '9adéch', 'lekhra', '5hir', 'abi', 'ywaslek', '09', 'ibi3', 'keno', 'mardh', 'tarad', 'ynejem', 'wiwou', 'habta', 'mle3bia', 'm3amlin', 'béb', 'know', 'binatna', 'cha3éb', 'ya7mikom', 'defence', 'bayn', 'refrain', 'ybadel', 'dzair', 'wasl', 'ala7', 'antoum', 'minaj', 'ntmana', 'intideb', 'damna', 'wkhay', '7arba', 'lawken', 'elkora', 'rapeuret', 'bakawni', '9loubhom', 'barage', 'fdhaye7', 'rik', 'bléch', 'cha3bia', 'jina', 'kolona', '7050', 'same7ni', 'go3r', 'hamdilah', 'w3oud', 'tounsa', 'sramkom', 'w5ali', 'akahw', 'tsawir', 'tasna3', 'os', 'prend', 'chiens', 'y3mlou', 'rodbelek', 'esayer', 'mash', 'zamer', 'ldar', 'nsiha', 'matji', '3ayb', 'fdaya7', 'maksh', '5ier', 'na9esna', 'nech', 'tabarka', 'safir', 'elbatala', 'sakar', 'ma9ar', 'di3aya', 'salha', 'hanen', 'bet', 'rwahom', 'mas5', 'solidaire', 'chadet', 'yej3el', 'bink', 'kle', 'nhebouh', 'n7ébou', 'zwali', 'ywafa9kom', 'korh', 'yhezek', 'anchalah', 'playof', 'ywaf9ak', 'y3rf', 'ymathel', 'tahet', 'festival', '3ndo', 'yiziw', 'eu', 'jekom', 'mariam', 'yaw', 'jetou', 'roushom', 'yda5lou', 'ijou', 'mahoush', 'ma3andha', 'wasat', 'moufid', 'hazem', 'hotbird', 'ye7kou', 'jihet', 'da3ech', 'fk', 'direction', 'hasbiya', 'side', 'na3rf', 'ma7achtnech', 'mouhim', 'dewi', 'mzya', '7ela', 'jmla', 'mathwah', '7am9a', 'sayedi', 'falem', 'wcha3eb', '3indo', 'kalmou', 't3ml', 'wrakom', 'harbou', 'dude', '7achekom', 'tej', 'alhou', 'nal9ah', 'man9olik', 'mar5sek', 'im3alem', 'gagner', '5demt', 'wezra', 'ynaykou', 'jan', 'amalna', 'im3akom', 'wéli', 'idikom', 'ma3dch', 'nidal', 'yatraba', 'y3adi', 'zanga', 'bideya', 'chaeb', 'heureuse', 'alkol', 'bientôt', '9aloulek', 'khebra', 'beflous', 'i7tiram', 'wbin', 'kayn', 'ykhi', 'ma3anech', 'whiya', 'lahya', 'chokr', '7ou9ou9', 'pul', '5anha', 'bledik', 'afum', '7atin', 'tam', 'lhal9a', 'ya3mél', 'conclusion', 'lbenzarti', 'imen', 'rbe7na', 'dzid', 'jortou', 'n3awen', 'yezouna', 'yekhou', 'isaha', '9adha2', '3izik', 'kothrou', 'riabi', 'bkodret', 'soure9', 'dowal', 'ma3icha', 'yer7em', 'flose', 'elkolkom', 'dourou', 'me3ake', 'rouisi', 'arb3a', 'endhif', 'wsol', 'mizirya', 'yjou', 'afar', 'bdan', 'rakmi', '3melt', 'wijh', 'silyana', 'biled', 'b9aw', 'golo', 'jami3an', 'hm', 'louwel', 'orabi', 'joumhourna', '4ali', 'ya9wa', 'lwald', 'filastine', 'continuez', 'abonements', 'group', 'ethin', 'lamthalou', 'clipet', 'radouh', '3lesh', 'lmarzouki', '3jibni', 'ri2asa', 'yezebi', 'ta3li9', 'entikhabet', 'yarhamo', 'teb3in', 'brahmi', 'jeyeb', 'ynayek', 'mad', 'ye3jebni', 'zman', 'fakat', 'khlas', 'wa9ef', 'jamya', 'bel3aks', '3arab', '3rafna', 'wa9to', 'rebe7', 'nasba', 'lunete', 'birth', 'lidarat', 'mtek', 'inhib', 'our', 'catastrophe', 'tzidou', 'thani', 'damou', 'd5ili', 'mkachkha', 'lou7', 'ze', 'lamine', 'boucle', 'ishih', 'conard', 'manajemtech', '7oria', 'shah', 'te5dmou', '3morkom', 'fsad', 'sobhanou', 'mt3ba', 'lechkoun', 'fe9na', 'eltaw', 'o9som', '9arya', 'tarbia', 'ima', 'seter', 'concernant', 'hloua', 'y9olo', 'neheb', '9adri', 'jam', 'afdha7', 'elwatani', 'tmathel', 'adra', 'lghalia', 'mna', 'parents', 'nide2', 'ridha', 'entrainement', 'dont', 'foutre', 'abay', '3indik', 'chbina', '7abineha', 'mathloum', 'kira', '9ouwet', '5awana', 'ykono', 'decembre', 'nsé', 'daly', 'fo', 'makach', 'hanina', 'le7ram', 'bitch', 'tlem', 'hedika', 'rehi', 'rir', 'y9adem', 'ghoula', 'yal9aw', 'inayek', 'yanja7', 'amer', 'elmoncef', 'sexy', 'sle7', 'kime', 'arous', '3omrk', 'mathamech', 'culture', 'khitab', 'rwa7ha', 'yfadhalhoulek', 'wsaber', 'fathi', 'ethi9a', 'same7', 'zib', 'farekh', 'milad', 'bitala', 'chribtek', 'jlasi', 'safwiz', 'awra', 'lani', 'njiw', 'feling', 'protege', 'y3tek', 'djafar', '9wia', 'doute', 'wath7a', 'wedhnou', 'nbravo', 'yetma3chou', 'mhaf', 'beyn', 'aki', 'leurs', 'ma3akom', '3indou', '3melha', 'hout', 'tahkiou', 'raditouh', 'thneya', 'jm3ia', 'ache', 'iba9i', 'la7n', 'tastour', '5tar', '3lin', '5irou', 'again', 'man7ebech', 'hamel', 'na3emlou', 'aswat', 'etayeb', 'maou', 'loubna', 'la7aset', 'matet', 'arsenal', 'sayab', 'yhabel', 'fedina', 'srarfi', 'bikoum', 'nhibo', 'yfar7ek', 'etounisiya', 'ne9esna', 'ra2y', 'bc', 'elifriki', 'equipet', '7ed', 'e7seb', 'hamam', 'chihab', 'vidéos', 'bika', 'rim', 'wé7ed', '9olit', 'dari', 'ihtiram', 'shiva', 'post', 'haho', 'travaile', 'plaisir', 'hmal', 'chbehom', 'jebo', 'aÿ', 'mots', 'amil', 'da3wa', 'alakhater', 'akrmi', '7outa', 't7awel', 'binek', 'ncha', 'amie', 'lbas', 'raji3oune', 'a7kilna', 'rbo3', 'etji', 'mté3ik', 'ajli', 'same', 'doun', 'no93dou', 'yar7mik', '7obek', 'mathel', 'nkouno', 'forja', 'i3tibar', 'i5ales', 'waled', 'miloul', 'ra2s', 'bchay', 'ti5dem', 'ykol', 'esa7afa', 'azouz', 'he4i', 'tab3a', 'chiyeb', 'kariha', 'nide', 'alkab', 'ayam', 'sot', 'kidhb', 'ebrabi', 'paget', 'esence', 'dhourouf', 't3oum', 'tensa', 'choices', 'ma7koum', 'nafra7', 'enk', 'lieu', 'okhrin', '9o7b', 'sahtek', '3a9el', '3ahed', 'nwalou', 'na9esha', 'woi', 'mouldek', 'bourgiba', 'lwech', '3alayhi', 'la3dhim', '93', 'ye3lem', 'iwafkek', 'yohkom', 'akéka', 'fesid', 'eb3edna', 'l3amaliya', 'hahahahahahahahaha', '7alha', 'karhouna', 'kemil', 'yehdihom', 'brave', 'yatih', 'jenjoun', 'pleuré', 'arêter', 'hamkom', 'esma', 'majet', 'tekdeb', 'mounaf9in', 'mnech', 'methayel', 'saieb', 'lokza', 'b3athkom', 'bdaw', 'lajnet', 'ech3b', 'vivre', 'na3rfouk', 'yetsama', '7nin', 'jebna', 'nadhif', 'acting', 'creativity', 'ikawer', 'joker', 'foug', 'hoa', 'jadet', 'rjou3', 'tal3o', 'ntab3ou', '9a7bet', 'borgiba', 'tetsaref', 'erabi', 'jaridet', '3amila', 'sabouk', 'fasrouli', 'm3alèm', 'rib7', 'ta7eya', 'souhaite', 'raja3t', 'mabrouke', 'gadi', 'y3inkom', 'weslou', 'khmis', 'tesra9', 'tenbe7', 'yhabet', 'entourage', 't3awnou', 'tkhamem', 'yosel', 'mere', 'y3ml', 'lowel', 'tal3b', '9a3a', 'idawla', 'femech', 'suport', 'esalem', 'hadeka', 'lawla', '4aliya', 'hawlou', 'bidek', 'bentek', 'lvideo', '3athim', 'tchedha', 'brou7', 'far5e', 'shisha', 'fira9', 'farch', 'iy', 'kilmet', 'tounsya', 'msaker', 'a3touni', 'omourha', 'khih', 'nsito', 'l9alb', 'lazemhom', 'nosken', 'y9oum', 'elkolou', 'rayen', 'hamhama', '9alit', '3inikom', 'life', 'yetwalakom', 'etjib', 'yel3ab', 'lébléd', 'ta3i', 'fakartni', 'hado', 'arjou', 'chahriya', 't7ki', 'prk', 'robe', 'tnajemch', 'bayern', 'talbin', 'tlamou', 'netfaraj', 'zantor', 'fat', 'esma3', 'thnin', 'abonez', 'asas', '3além', 'valeurs', 'ràbi', 'rodou', 'mefemech', 'tenfa3', 'fanén', '9abla', 'ma5la9', 'trabahkom', 'tab9ou', 'galek', '7adhrin', 'bledhom', 'besah', 'yehmih', 'echebeb', 'bayou3', 'ya5ouya', 'lotof', 'èna', 'yo', 'tlf', 'dabouza', '9abl', 'y9os', 'saloum', 'o5t', 'akrimi', 'yet7aseb', 'tay7ou', 'wahdi', 'soltan', 'l7akem', 'i3lém', 'waslou', 'mzel', '3adou', 'mca', '3ibe', 'ejoueur', 'bn8', 'kaskrout', 'tehchi', 'japon', '3takom', 'abord', 'rab3aoui', 'evian', 'sarlou', 'ichkoun', 'kharaman', '7zin', 'ehchem', 'klmt', 'sinin', 'ma5lou9', 'wari', 'lif', 'ma5yebha', 'dodgers', 'te5dmo', 'raou', 'i7es', 'awledna', 'chaf', 'dostour', 'tal3in', '5wetna', 'yemchich', 'bant', 'tbda', 'edir', 'w3asba', 'inteligent', 'changement', '7kitou', '3alm', 'dhrab', 'lfol', 'mkhader', 'jaychna', '9owata', 'wesleti', 'y9olou', 't9oulha', 'mt3kom', 'sayef', '9darha', 'asaf', 'izidou', 'noumrou', '7loua', 'lbou', 'lia', 'bomay', 'shab', 'lilet', '3azkom', 'tdha7ek', 'republique', 'sv', 'rajela', 'almania', 'fara7na', 'yjazik', 'afthal', 'nzido', '7abin', 'sa3ed', 'mléyen', 'ahwel', 'nchaleh', 'imoutou', 'wkhw', 'chofilna', '5alsa', 'lzim', '3alemhom', 'takhrawlou', 'ehseb', 'intisar', 'm3ena', '5ayer', 'lemla3biya', '3ezk', 'dawletna', 'chabiba', 'etarikh', 'yid', '9alouli', '3arfek', 'aich', 'hja', 's3ayid', '9afafa', 'ch3arha', 'isna', 'otlob', 'yenfa3', 'erjoulia', 'matich', 'al3abdi', 'continu', 'ya3tak', 'haseb', 'jmel', '3osek', 'chakchouka', 'oilad', 'fihech', 'nerba7', 'limin', 'far', 'its', 'algériene', 'lo5rine', 'lkahba', 'erab', 'woujoud', 's3aid', 'kharjet', 'bethabt', 'sebou', 'brahmet', 'tlab', 'abset', 'yodher', 'karwi', 'marouen', '9asdewi', 'erja3', '7a9hom', 'drama', 'el9anet', 'pute', 'jabit', 'el3amal', 'wislit', '06', '07', 'lim3alim', '7laybi', 'madrsa', 'riah', 'idha7ek', 'neksa', 'badhom', 'wene', 'presion', 'yamchi', 'meki', 'hachmi', 'mfaberka', 'le7leybi', 'cheba', 'yonserek', 'ahaba', 'nkamel', 'tasisi', '7ouloul', 'traba7', 'eb5ir', 'lehna', 'kithib', 'lahas', '5asra', 'lgalia', 'ziyed', 'ouala', 'eslam', 'horia', 'lfou9', 'ma3andhomch', 'tmed', 'bini', '7anen', 'ka3da', 'houya', '9a3det', 'short', 'points', 'jm3ya', '3lahom', 'lejam3iya', 'miziria', 'titulaire', 'isala7', 'ybarak', 'torbiya', 'itir', 'wajhek', 'bihi', 'madha', 'a7eba', 'nhab', 'keni', 'federation', 'gros', 'emanuel', 'ch9awlek', 'ma3h', 'ijaya', 'ta5alof', 'klb', 'donia', 'peine', 'abdelkader', 'ileh', 'etaba3', 'dho7k', 'ychi5', 'yahdihom', 'zarga', '3onf', 'hebou', '9adim', '5an', 'tibki', 'thala', 'wijha', '3arabia', 'lghaliya', 'visa', 'nekdem', 'leila', 'manajem', 'omorha', 'ra9m', 'fch', 'bejam3iya', 'homch', 'tay7a', 'artist', 'rata7na', 'niveaux', 'faites', 'has', '7ete', 'p', 'nfakrou', 'bensba', 'b3ed', 'mounefa9', 't3eb', 'sarak', 'savoir', 'nmouto', 'mta3ak', 'k2', 'sa3ba', '5alitou', 'mostakbel', 'chofou', 'ayouha', 'plutot', 'fla', 'mwaben', 'fei', 'ma3amlou', '7oreya', 'kifesh', 'barnamj', 'tajamo3i', '9imtou', 'mawtana', 'mara7ba', 'houda', '7aka', 'chompions', 'farhana', 'a7sn', 'lekom', 'ichalah', 'sofiene', 'eforts', 'confience', 'limkach5a', 'etarachi', 'sa7afet', '3adim', 'siyasiyan', 'hasa', 'yhebo', 'wta7ya', '3titou', 'lines', 'chwey', 'kalet', 'hajra', 'yetfarjo', 'wfama', 'yabdew', 'sécurité', 'bout', 'taftoufa', 'lfaza', 'mankom', 'faite', 'resulta', '9lila', 'metre', 'lilifriki', 'photoshop', 'khdma', '5atrk', 'wa9it', 'junior', 'la3bou', 'nadhoula', 'taoua', 'blasit', 'to5rj', 'ba3th', 'khti', 'krahtek', 'yarfa3', 'l7awi', 'font', 'nafis', '93adet', 'mar7be', 'tarka7', 'salamlam', 'hezha', '3tina', 'shouf', '3aycho', 'psg', 'kein', 'doctour', 'laise', 'yilzim', 'tholm', 'yestehlou', 'abonè', 'ameni', 'mowaten', 'sadkouni', 'nehna', 'gedach', 'résultats', 'medemek', 'mehou', 'ya3melha', 'sakir', 'lb7ar', 'l3atrous', 'tetsala7', 'taragi', 'révolution', 'wemba3ed', 'tfaraj', 'badalt', 'petite', 'ra2ise', 'riha', 'yberk', 'brjelha', 'mosfara', 'bouzink', 'ent', 'sa9in', 'rek', 'karar', 'fière', 'yam3alim', 'jema', 'aytam', 'iwaslek', 'buts', 'idih', 'dwa', 'dekhel', 'b9adech', 'ahbet', '7ag', 'ziedi', 'syeb', '5adma', 'bagla', 'romthan', 'mouchkel', 'nhbek', 'hmar', 'reyahi', 'chwi', 'mounefe9', 'chihemkom', 'enese', 'toinsa', '7aje', 'kadheba', 'mars', 'mrdi', 'taswir', '7ara', 'ocasion', 'n9os', 'tonsi', 'ohandza', '7ather', 'yjihom', 'campione', 'hokem', 'bdam', 'mita', 'masit', 'ghirhom', 'lmortaz9a', 'mamnou3', 'olh', 'kamél', 'mekich', 'elite', 'ederby', 'amalet', 'wa7éd', 'marwa', 'jar7a', 'menhoum', 'bayou', '3ayelti', 'ma3atech', 'b1920', 'zéda', '5rajna', 'rjouliya', 'dewla', 'thel', 'klèb', 'dyar', 'shems', 'nicki', 'njibouha', 'tahchi', 't5afech', '7osd', 'bi5ir', 'borjolya', 'eltounes', 'melowel', 'felekher', 'ethaoura', 'lerhab', 'thaherli', 'hlektha', 'ytalbou', 'malhouta', 'joma', 'lidha', 'riche', 'bejbouj', '9anét', 'elpage', 'aslo', 'chnw', 'cha3bna', 'lyom', 'amlt', 't5dm', 'alamin', 'lkoulou', 'kou', 'pleurer', 'layla', 'aftha7', 'lemere', 'jazar', 'arete', 'farou9', 'zen', 'brazers', 'oul', 'mokhi', 'jalta', 'dafa3', 'wai', 'y3abi', 'm3a9da', 'ash', 'kolibali', 'dictature', 'dinou', '5afou', 't3ares', 'dimo9ratiya', 'wé7éd', 'tet7asen', 'lekresi', 'caravane', 'raj3o', 'chère', 'sormik', 'youster', 'production', 'arabs', 'amarika', '9rayti', 'na3rfek', 'halkom', 'mal9aw', '8naya', 'm7abet', 'ka7ba', 'ejem3iya', 'bezaweli', 'lmohem', 'ta3jebni', 'yousra', 'jareb', 'tete', 'elhal', 'tfarj', '7amem', 'tabki', 't9olo', 'za7i', 'jah', 'nrak', 'o93od', 'rja3na', 'la3ziza', 'il3ar', 'lazma', 'yli', 'mleyka', 'pasé', 'tahanet', 'nemchou', 'la9ab', 'ibde3', 'feregh', 'mo5ik', 'daz', 'brjoulia', 'na3mal', 'dziri', '2ans', 'n9adrek', 'yasna3', 'talka', '3asa', '7achem', 'chebebe', 'doub', 'emnayek', 'm5a5hom', 'kamalt', 'karek', 'jam3yia', 'diniya', 'khalifa', 'mia', 'ilmara', 'goum', 'behiya', 'ménék', 'liklab', 'm5a5', 'tasm3ou', 'chrina', 'el5edma', 'feri9', 'hazan', 'jtm', 'smela', 'nhbo', 'amla', 'bekani', 'nayék', 'his', 'klip', 'tnayk', 'rabkom', 'me3ek', 'ye7mih', 'b7aja', 'yatl3ou', '3aylitha', 'youma', 'tabouna', 'fek', 'te3eb', 'yenta5bouk', 'elfehri', 'w3lik', '3chiri', 'tekil', 'atends', 'weldikom', 'lemfach5a', 'i9olo', 'ygoulou', 'ylawjou', 'bel3arbi', 'tkalm', 'presidente', 'msawer', 'elou7', 'khomej', 'leur', 'diable', 'nchof', 'turkia', 'godem', 'fen', 'damn', 'yazebi', 'aucune', 'trik', 'telfza', 'machakil', 'gratuit', 'meileurs', 'algerien', 'zaiem', 'ta9thi', 'farhan', '3awda', '9alouha', 'fierté', 'nasi', 'midou', '3eryen', 'amna', 'intidebet', 'khaterha', 'méch', 'ded', 'dezou', '3awnouni', 'maslahet', 'minimum', 'lilbled', 'bzef', 'horiyet', 'mnkom', 'ch3anbi', 'ghadafi', 'trabelsiya', 'riasa', 'techbah', 'anées', 'moto', 'karyouka', '9olhom', 'elghali', 'fly', 'echnia', 'nahdhaoui', 'ethabti', 'hotha', 'bis', 'lawej', 'wa3dek', '9eset', 'brou7ek', 'resto', 'dh3if', 'erap', 'habtin', 'ichedha', 'nsew', 'motamar', 'bolden', 'gob3a', 'ikounou', 'njik', 't7il', 'yarak', 'yo93id', 'ma7abouch', 'arier', 'ijibo', 'hajem', 'yraja3', 'yehelkek', 'kifa', 'bedhabet', 'yetsala7', 'eneramo', 'frequence', 'baladiya', 'yfarj', 'kanoun', 'ya3lem', '3indha', 'stylek', 'masoulia', 'ejme3a', 'heta', 'ending', 'wadh3ek', 'takhra', 'ayoha', 'lebnet', 'na3am', '9ilet', 'hakda', 'macheri3', 'lhal', 'makbar', 'chadine', 'nafr7ou', '9adechkom', 'makomech', 'ma7boub', 'ta3eb', 'cava', 'manou', 'bikhir', 'na7itou', '9odwa', 'tefhin', 'tafsir', 'facile', 'matensech', 'menteur', 'betbi3etha', 'rakm', 'mté3ek', '5atrik', 'chba3', 'fomik', 'tjik', 'bouheli', 'famous', 'ijdid', 'tosrof', '7asbiya', 'mise', 'ejboura', 't3', 'z3im', 'yel9a', 'na3erfou', 'jewebni', 'yetkabel', 'venu', 'talkah', 'yestanou', 'amwel', 'tafhem', 'karahba', 'wahrani', 'da5elha', 'yo5lsou', 'mem', 't3adet', 'yachfik', '205', 'slvp', 'nayki', 't7ana', 'ederbi', 'lmatch', 'wadha', 'habibi', 'masal7ou', 'mest7a9a', 'fa9ir', 'lema', 'inabara', 'efhmou', 'case', 'zibla', 'yadfa3', 'mizen', 'badra', 'tehseb', 'dabl', 'ahah', 'nès', 'report', 'yachfi', 'jeye', 'traj3', 'saliha', 'lazém', 'rip', 'wane3ma', 'sada9a', 'tabdil', 'afdhal', 'labese', 'wntouma', 'voit', 'aloulou', 'dakhla', 'ji3ane', 'tetla3', 'dkhalt', 'rte7na', 'nekt', 'itelha', 'irye7i', 'zedou', 'lokhra', 'partir', 'elfar7a', 'maliha', 'mal9atech', 'nafsou', 'bravau', 'echa3ib', '7oriyet', 'jabriya', 'ta3emlou', 'jomhourna', 'mouihbi', 'ragad', 'eda', 'congratulation', '3afia', 'nitfarjou', '7ases', 's4ar', 'borjoleya', 'bein', 'jim3a', 'èl', 'mafhemt', 'bako', 'katheba', 'yahafdo', 'hedeka', 'jourete', 'chkone', 'hazin', 'beni', 'ofre', 'em3akom', 'tendance', 'kawla', 'wati', 'tal9ahom', '1k', 'kly', 'nahno', 'eriyehi', 'la7nek', 'ichafi', 'mehech', 'le5ir', 'chaft', 'mamsatha', 'regardez', 'ensa', 'bha', 'atwel', 'wa7ida', 'dh3ifa', 'dernier', 'msayba', 'sucès', 'chada', '7al9et', 'lbléd', 'sa9iha', 'boulabiar', 'el7okouma', 'mimtk', 'athika', 'nendebhom', 't7esha', 'ataquan', 'lybi', 'net3alem', 'mahjoub', 'inajim', 'beselem', 'makrem', 'jam3aya', 'atakon', 'j3ala', 'chno', '3zek', 'koulhoum', 'olah', 'intoma', 'jayech', 'mastin', 'la7jar', '9alk', 'masrouf', 'achkeliha', 'était', 'asbeb', 'ikamel', 'lmehri', 'alizi', 'raj3', 'bogos', 'y5alikom', 'sincèrement', 'sabet', 'chehed', 'yachfih', 'chnow', 't3aweni', 'alwatani', '5sar', 'mafhmtech', '7adhra', 'serak', 'seyesa', 'bahloul', 'ilifriki', 'nakra', 'zokom', 'melek', 'likbira', '7aras', 'galak', 'physique', 'mochekla', 'matnajemch', 'cha9', 'fara3', 'm3elim', 'ouf', 'fransis', 'mato', 'exact', 'mithel', 'jetek', 'felicitations', 'ytala3', 'chiba', 'wasalem', 'grands', 'yarhemhom', 'chompiona', 'lwe7ed', 'sadi9i', '08', '3awin', 'role', 'hseb', 'hajetna', 'tla3it', 'skander', 'nasm3', 'nahdhawi', 'mo2tamar', 'salifo', 'xnx', 'nimporte', 'expérience', 'nater', 'mon7at', 'fadlka', 'yakrhou', 'yhoud', 'me3lem', 'info', 'thaoira', 'balkom', 'manzel', 'ysr', 'mounadhel', 'ta3tina', 'wledek', 'yaki', 'vista', 'produit', 'impo', 'propose', 'mo3ez', 'bedmou3', 'akil', 'kiféh', 'ro7ék', 'yhemna', 'enik', 'l7ala', 't3ish', 'hlal', 'ywari', 'wijhou', 'wenou', 'tohkem', 'via', 'etfol', 'wjouhkom', 'l7ata', 'a5yeb', 'vite', 'yonsrak', 'enajmou', 'spécial', 'mey', 'nebda', 'show', 'sa7li', 'bilad', 'stanina', 'charek', 'melyoun', 'jorthouma', 'voice', 'kalthoum', 'or9ed', 'yetkalmou', 'ch9al', 'e5dm', 'kaed', 'dzayar', 'el8alia', 'likbar', 'el7a9i9i', 'propre', 'ilaha', 'stylo', 'abdelmoumen', 'thot', 'razi', 'zinik', 'sodfa', 'ma3ndouch', 'taiba', 'yal3b', 'jeybin', 'retraite', '5arajt', '9ara', 'economie', 'nw', 'yefhim', 'mafhoum', 'moulana', 'kathaba', 'forme', 'yetrena', 'nerte7ou', 'bdat', 'chkara', 'hyati', 'walahy', 'fiko', 'tirba7', 'liklam', 'kolek', 'mrigel', 'khayfa', 'nekhdmou', 'publique', 'dekhla', 'jét', 'nitsawer', 'oficiele', 'ir', 'mele5r', '9ra', 'klou', 'ta3k', 'saibou', 'ahsin', 'ataquants', 'fechil', 'y3adik', 'tabarkalah', 'tasyir', 'joeurs', 'richa', 'pu', 'jaybin', 'triste', 'hede', 'clubuste', '5dim', 'taba', 'chonce', 'yosket', 'wijhek', 'ma5ibou', 'khdem', 'psy', 'na3rfouhom', 'lbhim', 'fé', 'madich', 'couverture', 'todkhol', 'chwai', 'dirabkom', 'miliardaire', 'mnyek', 'sakhr', 'khatir', '4neya', 'right', 'gasrin', 'et7ebo', 'habitude', 'mol7ed', 'b3asba', 'sui', 'blek', 'sa9ik', 'whata', 'yekoul', '39', 'wkhayti', 'bel7ram', 'kebira', 'modir', 'kithba', 'na9s', 'yejriw', 'sir9a', 'meyjich', 'taswirtek', 'brch', 'icha3at', 'ma3alim', 'koune', 'hwija', 'yahfdek', 'ghorbel', 'talifoun', 'dhlem', 'saybouhom', 'fatou', 'bedhabt', 'choufilna', 'ykouno', 'amthalek', 'far5a', 'mzyana', 'trou7', '3ejbo', 'thaoura', 'ejbeli', 'humain', '9adek', 'libhim', 'ikhdem', 'sokat', 'madhi', 'habineha', 'barani', 'famesh', 'kelba', 'élégante', 'n9olhom', 'deb', 'abes', 't9olna', 'jemal', 'repond', 'berka', 'akra', 'mteh', 'yahfadkom', '7ajm', 'tbal3it', 'tlat', 'yarhamhoum', 'iryahi', 'yoghlet', '9albk', 'pts', 'yjich', 'wedhnik', 'yo93dou', 'da5alha', 'ambiance', 'galya', 'sensible', 'nitek', 'tetfarjou', 'nhbouk', 'el3ayla', 'i7ibou', 'mhamech', 'edhawedi', 'ymathlou', 'al3ar', '7ké', 'yizina', 'wileya', 'fedenya', 'elmatch', 'ilyom', 'lfout', 'lef9ir', 'soi', 'zbaber', 'zayda', 'al3bou', 'enés', 'wagtech', '9anawet', 'atari5', 'matfahkom', '7aye', 'salaires', 'la7kya', 'irhabi', 'watek', 'elmatloub', 'taile', 'awbech', 'naml', 'esemha', 'yaklou', 'hidousi', 'l9anoun', 'jnaya7', 'n3ma', 'talon', 'tsaybou', 'salamli', 'yfout', '5bayer', 'rby', 't7ebo', 'jebali', 'lgadhefi', 'y7ebek', 'da3m', 'msat', 'juger', 'ma7soud', '9olena', 'yéser', 'noskon', 'khawana', 'lwahra', 'sayra', 'jowaret', 'tok', 'idaret', 'n3awnek', 'le97ab', 'minable', '3echt', 'tickets', 'thibou', 'abonée', 'tistahil', 'tnadhef', 'yehlik', 'jaboulna', 'majach', 'asm3ou', 'machari3ek', 'adika', 'etayara', 'salifu', 'yet3alem', 'oublier', 'wajeb', 'menin', 'wenabara', 'yfi9', 'tih', 'inchl', 'imot', 'yberiklik', 'arwa3', '3ers', '3ayelto', '54', 'kaba', 'mou', 'aparament', 'etakatol', 'wahwa', 'arbitres', 'jari', 'roh', 'tna7ih', 'jouert', 'damek', 'm3adi', 'l3', 'positive', '7adhom', 'taha', 'o5tha', 'etouansa', 'ne7kou', 'tube', 'another', 'charf', 'bayota', 'n7ibek', 'ryouskom', 'chat', 'tezhelna', 'wa7adna', 'ta7kiou', 'ghalit', 'tanit', 'mrodhna', 'fatra', 'n9ablek', 'mizyana', 'aidekom', 'eflous', 'hayel', '3lia', 'chokra', '3arbia', 'kheir', 'pc', 'ma7abech', 'ghaltin', 'isma3', 'ma3and', 'ckoun', 'l8ali', '9imtek', 'date', 'yrawa7', 'nloum', 'joeur', 'tkawar', 'erous', 'ma3labelna', 'raba', 'tafra7', 'marzouk', 'arabia', 'bendirman', 'golden', 'stal', 'hkayat', 'efort', 'seyb', 'chawya', 'ynajam', 'lwalidin', 't3ibna', 'systeme', 'mision', 'chafik', 't3awedha', 'corps', 'wetwensa', 'infrastructure', '7asitek', 'nara', 'enidham', 'ra8ma', 'wenek', 'na3', 'ondama', 'yfarhek', 'ychfiha', 'lycée', 'bzouz', 'wm3ana', 'winik', 'ychafik', 'teint', 'abjel', 'memes', 'ensemble', 'ysali', 'yare7mek', 'terja', 'ma9boul', 'hachek', 'fehe', 'cherche', 'labidi', 'fista', 'gadhoum', 'habibty', 'yetkalam', '9elt', 'ya3', 'shy', 'be3eth', 'nhibouk', 'ta9wa', 'ljami3', 'toht', 'mahoumech', 'ijaw', 'chawaya', 'ywaslou', 'fakr', 'nshalh', 'bekitini', 'emine', 'lerheb', 'yerkeb', 'choice', 'nsaw', 'nhez', 'files', 'capitaine', 'pendant', 'nektelha', 'haybet', 'mazilna', 'lef', 'leblade', 'khat', 'ahdef', 'y9awi', 'yarahmek', 'sali7', 'nikoulhom', 'elbaji', 'méchi', 'mo5ha', 'trahdin', 'grd', 'saybna', 'alamam', 'a3mlina', 'aimé', 'mt3k', 'klèm', 'twénsa', 'inti5abét', 'jama', 'total', 'lwled', 'sûre', 'ahem', 'journalistes', 'marboha', 'fehim', 'insaniya', 'l7am', 'boha', '7abitou', 'hkit', 'fkir', 'a3mlena', '8ira', '9bila', 'nektouha', 'isim', 'mhasen', 'é5dém', 'yahafdou', 'yal3bo', 'el9anoun', 'fastatirou', 'lhkeya', 'ichedou', 'beter', 'dawi', '7wija', 'aileurs', '5las', 'congratulations', 'til3ab', 'kotlek', 'balhom', 'nasha', 'maynajem', 'zh', 'telhew', 'stuning', 'fadhi', 'ydin', '9amet', 'i7bou', 'ra8em', 'oihad', 'hathoma', 'ejomhour', 'ma3ndhomch', 'floso', 'la3béd', 'sadma', 'tnabro', 'lbere7', 'dakhlou', 'ywafe9kom', 'ta5ser', 'wyna3mou', 'mar7oum', 'trem', 'mora', 'tarmi', 'chacun', 'netasel', 'kamlo', 'raj3a', 'martin', 'unique', 'n7éb', 'a3touna', 'comunication', 'tahrib', 'content', 'es3iba', 'ekip', 'yelbsou', 'salama', 'hachtekna', 'luxe', 'elwa7ed', 'mzyena', '3asbe', 'tet3awed', 'y3aber', 'm3amar', 'yhani', 'jaweb', 's7ab', 'tahky', 'makes', 'balouch', 'khrit', 'amra', 'da5l', 'akaka', 'adeka', 'wayeh', 'nhibik', 'ahi', 'ba3do', 'mzelt', 'tnikna', 'laswat', 'sotra', 'hjh', 'blhak', 'waleh', 'cent', 'mchina', 'akhw', 'ymes', 'lbar', 'yahafdak', 'y7ebouh', 'bosoli', 'ma9alech', 'awél', 'ranim', 'wente', 'makesh', 'bflous', 'ilkhir', 'syesi', 'labsa', '3ndna', 'tet9ou7eb', 'pnl', 'sib', 'yensrek', 'trabi', 'ifadhlek', 'achbih', 'bil3id', 'souriya', 'soré9', 'ya5rawlek', 't7elou', 'twati', 'sbarna', 'inha', 'haza', 'tora7', 'wakbar', 'kateb', 'air', 'hui', 'y3aytou', 'lot', 'houch', 'bgar', 'euro', 'jam3ito', 'tben', 'sour', 'jem', 'sabre', 'yar7mk', 'tbi3tek', 'm3adabhom', 'reponse', 'chrik', 'mas7oura', 'tracha7', 'l9at', 'jm', '3ayiltou', 'wa3d', 'blk', 'long', 'daw7i', 'ilove', '9awi', 'sa9ta', 'etait', 'touché', 'khasatan', 'want', 'mteha', 'serveur', 'mchaw', 'hamdela', 'tfakir', 'chib3an', 'che3b', '3awn', 'sahil', 'a3mlouli', 'hasilo', 'manha', 'alemagne', 'sayè', 'she', 'l9aw', 'dini', 't3mel', 'netrach7ou', 'bèji', 'jahala', 'l9a', 'ja3fir', 'nikomha', 'y9aled', 'française', '8iro', '7ali', 'jendoubi', 'elkir', 'tyr', 'che', 'tfi', '3ndkom', 'tech3el', 'mortazka', 'louel', 'merbouha', '9orbet', 'm3arsa', 'to93dou', 'mabouk', 'kasdawi', 'wlih', 'avait', 'ajmal', 'y3awnou', 'africa', 'ebled', 'ramla', 'seri9', 'mahsoud', 'tore7', 'yemcho', 'yo9tel', 'kwi', 'echahid', 'thebha', 'klamik', 'bouma', 'nsal7ou', '3aklia', 'lahmer', 'tam3in', 'kemcha', 'filistin', 'lai', 'mota', 'kalina', '5atwa', 'mardha', 'i7ab', '3ala2', 'izi', 'ekhir', 'ta9if', 'blablabla', 'dhahir', 'haye', 'nadwa', 'yrhmo', 'latrabhek', 'iw', 'fera8', 'obligé', 'help', '5sartou', 'aycha', '3ersi', 'tsalah', 'chorfa', 'fer5', 'avril', 'reged', 'jedida', 'fhemna', '7ate', 'actrice', 'age', 'administrateur', 'rakzou', 'ndir', 'haloma', 'lefri9', 'y7ki', 'machbouha', 'gathafi', 'hadhria', 'rito', 'ykhalikom', 'khorm', 't7ébou', 'echouhada', 'kdeb', 'yadi', 'wkil', 'lmkach5a', 'terikh', 'lazmo', 'trabhek', 'èli', 'fthay7', 'montasrine', '9ololi', 'swab', 'inak', 'guerden', 'ahle', 'model', 'edhawadi', 'mohajem', 'miskine', 'lefrou5', 'mahlk', '5li9et', 'bidik', '3arfou', '9arsa', 'sahbou', '5edmou', '3arf', 'fdhayeh', '7ar9a', 'dars', 'prisident', 'klamo', 'manetsawerch', 'lkaleb', 'majorité', 'yeux', 'arje3', 'machrou3ek', 'mejel', 'mt3a', 'walete', 'idole', '2li', 'kouba', 'gram', 'sad9ni', 'arive', 'hayin', 'nendmou', 'ena3mou', 'aidik', 'busines', 'lwahid', 'anha', 'hbib', 'yoltof', 'wbravo', '3taw', 'preuves', 'yetmana', 'nya', 'matal9ach', 'enhom', 'desolé', '3alia', 'tjiw', 'mun', 'natmana', 'beflousek', 'signalez', 'sikou', 'yorid', 'l7amra', 'dha7k', 'nadh7ek', 'yet3awed', 'waldihom', 'nadhfou', 'yarit', 'ata', 'rkhisa', 'nes2lek', 'lghneya', 'dhia', 'lalah', 'esare9', '3efcha', '3ra', 'retard', 'ro7', 'intro', 'loujayn', 'chomage', 'rodo', 'st', 'may7es', 'elklem', '7ajat', '5awef', 'dimokratia', 'nhebouha', 'k2rym', 'ilotf', 'world', 'tsad9ou', 'chouya', 'liflos', 'moslim', 'zb', 'mountasar', 'raji3', '7asitou', 'lberah', 'wyezi', 'asemi', 'thamer', 'n7otou', 'rania', 'aktir', 'cheikh', '9araratek', 'silmia', 'fomo', 'djafer', 'elkorsi', 'chaker', '3ejbek', '46', 'difa3', 'winhi', '450', 'mhabalhom', 'yi', 'rba7na', 't5awef', 'balk', 'forte', 'feu', 'fe9tou', 'ab3ethom', '5ter', 'adrese', 'chawki', 'frer', 'matansach', 'yezy', 'ns', '9alhom', 'cadre', 'nakerhek', 'el3eb', 'najib', 'aziza', 'tathir', 'machri3', 'ro3b', 'yalzmou', 'tro', 'eltawa', 'seulement', 'galib', 'ma5er', 'défenseur', 'htira', 'tal9aha', 't3awenha', 'nesm3o', 'tnjm', 'tlha', 'farid', 'chnoa', 'ne9is', '810', 'aouled', '3l5r', 'alesh', 'erakh', 'te3ek', 'sayedna', 'tfara7', 'thaw', 'interactive', 'rane', 'kelam', '7atem', 'berjoliya', '5ser', 'tarid', 'lamen', 'parlez', 'batalt', 'wa7cha', '3ebdeli', 'ese3a', 'plutôt', 'estathmer', 's8ira', 'afkarou', 'yechki', 'yerhem', 'raisi', 'ahead', 'let', 'ghonaya', 'ykhadem', 'mrad', 'tame3a', 'devision', 'blédou', 'fesiyasa', 'l7aja', 'uk', 'naber', 'ydef3ou', 'lunetes', 'y5afou', 'kasdewi', 'wataneya', 's3ayed', 'ezanatir', 'wija', 'jdr', 'raditouha', 'echbih', 'fai', 'yilzmou', 'defe3', 'maynajmouch', 'm3neha', 'da5lek', 'harba', 'ejbed', 'yebni', 'yetnafes', 'od5el', 'sana3', 'sha', 'mchoum', 'tati7', 'lahad', 'inhar', 'besmi', 'banane', '9ach3er', 'kelmtin', 'presk', 'lmar2a', 'melklem', 'yelzm', '10m', 'athaka', 'raditou', 'sari7', 'kiféch', 'tame3', 'systéme', 'btoul', 'nanshek', 'chabebe', 'eki', 'ramos', 'mercie', 'ousoud', 'ykhdem', 'yakel', 'madch', '5aled', 'khab', 't3ari', 'la39al', '9edech', 'b7ata', 'lem', 'bf', '7ye', '7ou9ou9i', 'mayfout', 'arab', 'b9owa', 'nektou', '9oum', 'yoltef', 'i9ol', 'bakitna', 'te5dim', 'mezyan', 'dha7ka', 'fosed', 'numéro', 'akhoya', 'politicien', 'ramdhan', '5araj', 'syedek', 'tethal', 'bebe', 'bi3an', 'netfarj', 'brouhek', 'zebek', 'hao', 'tzour', 'kbire', 'jdyd', 'amira', 'basasa', 'zahy', '7arouch', 'zokomek', '3alamin', 'thanks', 'makenech', 'mchal9a', 'dakhlet', '3inin', 'mat7ot', 'dimo9ratia', 'lasta', 'fatet', 'arabi', 'wfé', 'sweb', 'kml', 'b9odrit', 'y7achem', 'to5rij', 'jibina', 'mahlehom', 'yatk', 'sidkoum', '3andich', 'basta', 'konit', 'jihed', 'na7a', '3ibra', 'lemfach5in', 'atounisia', 'comprends', 'kolkem', 'edheka', 'e5dmou', 'zido', 'ta3tini', 'mat3', 'ekipe', 'hél', 'kalbek', 'étranger', 'elwa9t', 'hard', 'ysawrou', 'yfadhlou', 'tamthiliya', 'fihi', 'finaly', 'zboub', 'whana', 'alike', 'ejib', 'tit3ada', 'waliti', '9adra', 'yar7imhom', 'galta', 'ser', 'mkabchin', 'iwafa9kom', 'remix', 'wa7do', 'manate9', '93atou', 'wa7dék', 'jéya', 'ta3na', 'm3almiya', 'kadach', 'a7sén', 'positif', 'tb9a', 'bsit', 'sayf', 'yara7ma', 'zouheir', 'besmou', 'jouwer', 'ljanoub', 'sempre', 'echnya', 'ye5dhou', '3amlouh', 'tifhem', 'to7et', '3meltha', 'narja3', '7altek', 'khirou', 'kartoucha', 'laya', '2em', 'doner', 'inquiète', 'bhya', 'eriyahi', '1o', 'sme7', 'democratie', 'motrobi', 'hajti', 'lintidabat', 'zeid', 'amthelou', 'ykather', 'samhouni', 'fous', 'lbeb', 'bira', 'lkaf', 'lezemhom', 'erjele', 'zadet', 'itlha', 'sliem', 'aslik', 'ainsi', 'invité', 'acteurs', 'm3akem', 'dife3', 'feye9', 'ariére', 'mêle', 'yetracha7', 'hagar', 'pauvres', 't3adit', 'il9a7ba', 'wajha', '5alas', 'bare', 'm7asen', 'bisous', 'ilaihi', 'l8oneya', 'ahli', 'tetracha7', 'yjina', '51', 'awalhom', 'vrmt', 'dzeyer', 'rafik', 'raïs', 'senin', '3akba', 'gad', 'tahmich', '3ari', '5thit', 'bél7a9', 'délice', 't5dem', '3ankom', 'menhem', '5sert', 'suporter', 'damhom', 'lbehi', 'yansa', 'ydha7ak', 'hafedh', 'mabruk', 'yodherli', 'mednine', 'clochard', 'walhe', 'na7ou', 'contr', 'khouf', 'bala', '9ayem', 'klma', 'contact', 'baredli', '3arabiya', 'y7éb', 'makanch', 'le7kaya', 'houcine', 'afra7', 'ejmal', 'mestenes', 'mkaser', 'brou7ou', 'tosel', 'bheyim', 'saybha', 'suite', 'e5it', 'l7iwar', 'chkou', 'chi3arat', 'nraw7ou', 'be5ir', 'hedhka', 'troudi', 'tenje7', 'bledo', 'mchi', 'biflous', '3awnek', 'pardon', '3bedou', 'wledhom', 'yahfdak', 'firen', 'mam', 'itwansa', '7ey', 'yhfdo', 'prèsident', 'safar', '5alsin', 'ilghalia', 'twaliw', '3malti', 'ra4ma', 'omor', 'anadi', 'wldi', 'gedech', 'te7chou', 'sboui', 'wa3mlou', '3a9lik', '3ele', 'days', 'bourjoulya', 'mat5afich', 'bous', 'doublé', 'mim', 'wesalem', 'alaihi', 'aina', 'enhebou', 'jech', 'nestano', 'no5rjou', 'dawr', 'chayi', 'ba3thou', 'mesages', 'la7mer', 'wa9at', '3adit', '7yetek', 'ra9ebtek', 'koki', 'dhil', 'sou2l', 'angletere', '5irlk', 'doula', 'maghroum', 'em3ah', 'move', 'n7esou', 'ihabel', 'y9awik', 'famch', 'pratique', 'kadhaba', 'tv7', 'echnouwa', 'af3al', 'iberek', 'siesi', 'ome', 'we5dem', 'mtea', 'rasa', 'porn', 'sahafat', 'y2asef', 'faible', 'yn', 'soker', 'kilmit', 'toilete', 'ya3teha', 'lbaji', 'whda', 'besket', 'plato', 'atina', 'thezha', 'maradona', 'eri7a', 'kabsa', 'slemtk', '7oumet', 'te5tar', 'zbobna', 'drogue', 't7chi', 'ser9ou', 'nesm3ou', 'mta3a', 'chfa', 'ta7ra9', 'ezatla', 'chkouno', 'd5alet', 'izin', 'bazoul', 'tasfi9', 'hasitha', 'bereh', 'hihihi', 'char3i', 'resemble', '7achwa', 'musika', '3rafnek', 'jam3iet', 'ghayrin', 'kfouf', 'rida', '9aweda', '5aterkom', 'ta9dhi', 'a5ta', 'ykhalihoulek', 'ysounek', 'wa9tna', 'yefhmouk', '3eme', 'lejam3ia', 're9din', 'bnin', 'nharat', 'laziza', '96', 'react', 'zaid', 'nkolik', '3afou', 'msatik', 'wledou', 'mal9itech', 'kbel', 'mister', 'majed', 'na3ml', 'yarda', 'net', 'yrhmou', '7aletkom', 'waktou', 'nabdew', 'sar9a', '5alewna', 'musulmans', 'hadoukom', 'mda5lek', 'tist7a9', 'pow', 'thekra', 'nerbhou', 'grimaces', 'tinja7', 'habatha', 'jito', 'nousel', 'ifhem', 'lezmo', '5atih', 'blasethom', '7il', '9talni', '3atik', 'asez', 'miror', 'kolhoum', 'familia', 'nbki', 'oihid', 'yohmil', 'nistano', 'teheb', 'ysad9ou', 'wmba3d', 'etnajem', 'mate9ef', 'yodhor', 'ro7ak', 'masla7it', 'dyal', '9anoune', '3lk', 'mathalan', 'mlayka', 'za3ka', '9oran', 'gofa', 'yardi', 'klemo', 'eta3bir', '3amnawel', 'mes3di', 'kilou', 'ef', 'por', 't3mal', 'chouk', 'nahit', 'radek', 'coran', 'im3ana', 'amerique', 'warja3', 'almoslimin', 'ltouns', 'dayrine', '79i9tou', 'presedant', 'swa7lia', '7achti', 'jouwerete', 'nasi7a', 'yow', 'kwazi', 'thnia', 'cha5sya', 'elfriki', 'comité', '9awed', 'kayenou', 'bnat', '7alat', 'babak', 'oujouh', 'wina', 'tire', 'kebret', '9adach', 'digaj', 'ela3b', 'wa9fin', 'mla3bya', 'ta7lil', 'fucking', 'jomhouriya', 'akba', '3tah', 'yochreb', 'tsob', 'eljam3ya', 'yestanew', 'b9ina', 'a5touna', 'bisou', 'ro5s', 'a3tham', 'quelqu', 'balad', 'ya3rfo', 'reportage', 'za3ket', 'tafha', 'masma3tech', 'croi', '7izeb', 'dream', 'dhkar', 'ykamlou', 'ejana', 'court', 'la3ab', 'fomi', 'jabetek', 'mtè3', 'cartage', 'habib', 'yhb', 'chir', 'ita9i', '9afefa', '5obz', 'logha', 'fehmou', '7a9ir', 'mandou', 'yel3eb', 'mo3ardha', 'safya', '9ema', 'o5er', 'khouna', 'bé', 'shyh', 'etheka', 'msakra', 'combien', 'arjal', 'babourek', 'jameya', 'zafer', 'bravobravobravo', 'waiting', 'galiya', 'l3id', 'ya7fthek', 'yhoudi', 'ichouf', '3arbiya', 'asyedkom', 'masala7', 'capable', 'boulot', 'eltali', 'hadhihi', 'traja3ha', 'bigbos', 'masoulin', 'berjalha', 'poli', '1ere', 'habat', 'kit', 'anestek', 'chouia', 'sraftou', 'wmouch', 'tchaja3', 'ynata9', 'balbouli', 'mihlaki', 'barnamjou', 'khoudh', 'bureaux', 'nsebou', 'night', 'yochrob', 'fere8', 'tamba7', 'alati', 'nathef', 'dayman', 'defense', 'juilet', 'thabto', 'fatma', 'ye3ref', 'enhada', '9anawat', 'clubisteya', 'clubstia', 'yehebou', 'ma3amlouch', 'nimchiw', 'chehar', 'arta7', 'serbia', 'machkouk', 'aychek', 'marche', 'bekhir', 'medib', 'bernard', 'monaseb', 'fara7t', 'dakhlek', 'youtuber', 'ihezou', 'héthéka', 'nehtarmek', 'tbos', 'libléd', 'e5', 'tsa7a7', 'wldha', 'tmanitek', 'absolument', 'sanfra', 'fa9eby', 'idiot', 'elfachal', 'n3awdou', '5awa', 'jawbouni', 'b9adeh', 'elmarzougi', 'telé', 'egleb', 'mane', '7omti', 'tourisme', 'zinkom', 'leya', 'akaichi', 'mfabrek', 'investisement', 'côté', 'aparement', 'tetfaker', 'alyoum', 'yahiya', 'barjouliya', 'yarfou', 'taye7', 'sfaxi', 'trapi', 'etbandir', '3ayelt', '7rabech', 'wafe9', 'dehors', 'no9sed', 'n3aniw', 'lousa5', 'ibadel', 'yomhil', 'kadin', '9adèch', 'bourma', 'hakou', 'ekon', 'vazi', 't9al', 'e5tar', 's7abek', 'lekraheb', 'ejamya', 'hlow', 'benzerti', 'chenia', 'ib3id', 'lounek', 'hadhy', 'trab7ik', 'jma3at', 'wm3ak', 'karizma', 'aho', 'ji3en', 'tahdid', 'ygoulo', 'hedy', 'pure', 'tet7ra9', 'néwi', 'majnoun', 'akhle9', '7our', 'tatl3ou', 'm3àlém', 'merçi', '9asou', 'el7asilou', 'krouchom', '3awid', 'nakba', 'raw7ou', '3aylethom', 'jaberi', 'jala', 'mas2oulia', 'belahy', 'na7ih', 'loum', 'joure', 'kaherhom', 'san3et', 'hachakom', 'techwih', 'mouaten', 'qd', 'kidma', 'hitler', 'n7bek', 'marsi', 'katl', 'manseb', 'yet', 'mesmouma', 'khadem', 'yenjah', '9ablo', 'etarbiya', 'serieux', 'tmes', 'sara9a', 'hosn', 'tnja7', '3ych', 'desole', 'yostorha', 'fer', 'i7chmou', 'gose', 'sousou', 'marocain', 're7la', 'wem3a', 'ya3mloulou', 'thahir', 'tataouine', 'netsawar', 'inte', 'mnaika', 'terja3', 'lach', 'ylem', 'meliti', 'muzika', 'rabik', 'barbie', 'tgouli', 'mouez', 'preparateur', 'autotune', 'balbla', 'iljam3iya', 'siham', 'tebi', '3ajbik', 'mazalo', 'mawadhi3', 'soutk', 'wéld', 'rawe', 'ylzm', 'lkedheb', 'tajamou3i', 'nejib', 'rayha', 'oksem', 'habina', 'yekhdim', 'enti5abiya', 'charfedine', 'ma9alet', 'e5alik', 'la3bidi', 'yerhmo', 'esouf', 'vitese', 'mea', 'fomok', 'nobel', 'mayta', 'jouerat', 't3ib', '5lifa', 'sawer', 'etounseya', 'ki5', 'irhéb', 'madersa', 'wliya', 'boita', 'm3ahem', 'itaraji', 'yas', 'chen', '3tana', 'nekhdem', 'tarif', 'mriguel', 'wéldik', '3andu', 'sa5fetni', 'l3asma', 'raj3in', 'éy', 'nifek', 'ninta5bou', 'sawrou', '7oumti', 'nenta5bouh', 'mo9tana3', 'louta', 'a3lach', '7jar', 'doumou3', 'bido', 'seybouh', 'berachwa', 'khouk', 'eses', 'ykatar', 'marhbe', 'berou7', 'ouma', 'la3sab', 'kathret', 'rayna', 'berasmy', 'mostawak', 'jam3iyitna', 'oué', 'gadéfi', 'arabiya', 'yamlo', 'met5alfin', 'interdit', 'sa7fa', 'le7ya', '93adto', 'ma9oltech', 'lhadarja', 'sayboha', 'safra', 'manai', 'djib', 'ysada9', 'osloub', 'ye3tik', 'bravi', 'andah', 'adhéka', 'hahi', 'milan', 'masarech', 'nal3bo', 'jam3itik', 'dhohka', 'la3ad', '9bi7a', 'chmda5lek', 'sayebhom', '5ayb', 'ngolik', 'hemla', 'moumen', 'fhemtch', 'i7tiramati', 'malades', '5fifa', 'edhaw', 'hachti', 'mohamad', 'i9ader', 'yohkem', 'etoilist', 'sob7ana', 'overdose', 'walét', 'jeste', 'l3abed', '3ayletha', 'mta3y', 'siyesiyin', 'hokoma', 'etrabelsia', 'tasa', 'sesi', 'baskat', 'khba', 'yna9es', 'ma3lm', 'may9oul', '5alena', '9alelhom', '3ichou', '3ajam3iya', 'tetmanyek', 'l3alam', 'crazy', 'basese', 'koukou', 'l97ab', 'lezmna', 'samim', 'barche', 'n3anou', 't7areb', 'younes', 's4ir', 'alkilabou', '3eb', 'jibli', 'gahba', 'in7eb', 'in7ebo', 'wis', 'ydourou', 'yra7mou', '9lobna', '3oumala', 'torkya', 'alhal', 'masek', 'tounas', 'jaich', 'holywod', 'enaja7', 'ya5rou', 'baghdadi', 'mahmoudi', '6eme', 'barah', 'bne', 'bayan', 'yar7amhoum', 'wna7na', 't7ebouh', 'esmi', 'yhebouk', 'sma3ha', 'jem3ya', 'jeh', 'safe7', 'wahcha', 'manak', '7doud', '9rina', 'kaher', 'ibarak', 'esetr', '3mlou', 'ye5thou', 'jm3iya', 'dher', '7atheri', 'lmkach5in', 'rakcha', 'nhezo', 'l9arat', 'l3arabi', 'ejm3ya', 'tbarka', 'farakh', 'ta5rou', 'tardo', 'tas3a', 'trab7ou', 'enfidha', 'fetet', 'yahfdhek', '3aidek', 'bsal', 'ta3emlo', 'mabanek', '5atiha', 'next', 'tfouf', 'tsa5fou', 'l3bad', 'yar7mu', 'niki', 'yetmanyek', 'houmti', 'aretez', 'ghne', 'bjanbek', 'nfi9', 'met7ine', 'mabldou', 'momkin', '5idmit', 'natamana', 'tnkt', '9adhia', 'lwin', 'l3rab', 'yahkou', 'el7osed', 'ezouhour', 'ra2isha', 'mafema', 'mamsatkom', 'ydiro', 'yziwna', 'yjikom', 'yasar', 'itali', 'lehkeya', 'it7ib', 'bala3', 'housed', 'naikou', 'ychaja3', 'safkat', 'rajlek', 'ch3andek', 'azizti', 'y9admou', '3omala', 'lazimna', 'tuns', 'alihoum', '7ya', 'ye5dmo', 'gang', 'makoum', 'halou', 'ahzab', 'yefhmek', 'hatin', 'y7esou', '7bouset', 'ie', 'khou', '9darna', 'lich', 'fikem', 'le7es', 'nod5lou', 'monsof', 'mas5ine', 'hechmi', 'ménou', 'jandoubi', 'houmty', 'haine', '45', 'hour', 'to93d', 'ejri', 'wa7de', '3eja', 'mazbalat', 'sha3b', 'mobile', 'mfachkha', 'mosh', 'ragas', 'adeya', 'mechrgui', 'simone', '7alou', 'flousha', 'ladarja', 'moute', 'kadaba', 'tabet', 'béche', 'n3amlou', 'démocratie', 'merzougui', 'kalbe', 'yelzmik', 'bsif', 'statu', 'choya', 'kahla', 'ina9sou', 'zouiten', 'ikather', 'krouda', 'soutna', 'yahfadhom', '3rousa', 'ekol', 'teboursouk', 'eched', 'selon', 'reve', 'wasim', 'jazira', 'alho', 'maydoum', 'rdv', 'mouled', 'kolhem', 'conversation', '4orba', 'jam3iyét', 'belkoura', 'l9rouda', '9alat', 'khobz', 'joueurét', 'badnek', 'beselm', 'mrama', 'likoum', 'khsaret', 'mornagia', 'chma3naha', 'olé', 'mawa9fek', 'inejem', 'hej', 'ok3od', 'manatek', 'aleya', 'nisa', 'wyeziw', 'amlet', 'belhadj', 'ychfi', 'nimchi', 'yar7me', 'echrilna', 'mo7eb', 'dhareb', 'aleche', 'yistana', 'nakes', 'sobhana', 'bagdadi', 'prochains', '4irou', 'soreg', 'zawli', 'tejrou', 'lahn', 'lgasrin', 'jabhet', 'lmsg', 'ya7miha', 'mla3beya', 'ka3din', 'mtak', 'déyma', 'vita', 'ferid', '3titha', '9olo', 'down', 'hatit', 'cancer', 'mademik', 'wish', 'vré', 'griba', 'ri2asi', '7koumet', 'wah', 'mafhmt', 'mw', 'tatla3chi', 'ta5la', 'ba3ou', 'berda', 'raw7', 'elidara', 'garouma', 'atla3', 'johal', 'batron', 'wa9tek', 'gdch', 'ma93ar', 'nawfil', 'ta9raw', 'marzo9i', 'eshiha', 'swe7leya', 'rasna', 'wath3', 'hla', 'joumhor', 'didin', 'edheya', '3asima', 'wzara', 'bounto', 'wakef', 'lbarcha', 'tahkou', 'm3afet', '7asen', 'joue', 'farahtna', 'inahda', 'thena', 'tnoufi9', 'louk', 'espérance', 'wesh', 'rajle', 'yihdik', 'enase', 'human', 'naksin', 'eau', 'algerian', '3ayltou', 'carière', 'mednin', 'mhabla', 'bomba', 'elkalba', 'ichfih', 'erasoul', 'elwed', 'chehal', 'makber', 'aplication', 'te7kou', 'masra7ia', 'hedom', 'yra', 'ma3andkom', 't5alina', 'thbli', 'itar', 'tenue', 'mawjoudine', '5aterna', 'etihad', 'lmochkol', 'mealem', 'dany', 'jhanem', 'sfe9si', 'l7ijeb', 'chakar', 'mkach5', 'yanfa3na', 'buon', 'jehla', 'klémou', 'yothorli', 'twahachnek', 'trahir', 'most3ad', 'ra2iskom', 'la3sal', 'fil3aleli', 'jebthom', 'lbit', 'é5dem', 'lemas5a', 'siyedet', 'a3raf', 'ijik', 'whoua', 'echa3ab', 'dam3a', 'amlin', 'yousl', '3omla', 'amoureux', 'chantier', 'palastine', '7achtou', 'chandoul', 'wek', 'fourma', 'ahlek', '3amltou', 'e7sesi', 'mely', '9albik', 'tla7sou', 'nakraha', 'yjit', 'tot5el', 'nsawet', 'doum', 'lebhayem', 'jahla', 'me7teja', 'ne7ki', 'la7lib', 'information', 'lmercato', 'tneyek', 'nechalh', 'snyn', 'selmi', 'écoute', '7wal', 'maktoubek', 'litounes', 'ebsara7a', 'mehrez', 'slamtik', '3lè', 'lim', 'ahmer', 'koulouli', 'remarqué', 'batata', 'tridh', 'chkounik', 'alan', 'entrain', 'hasba', 'binisba', 't7awes', 'mté3k', 'seyes', 'yezih', 'en7ebouk', 'litoile', 'moula', 'yfar7ouna', 'yati', 'izebi', 'bel3akes', 'mamsetha', 'nhel', 'thesha', 'jmhor', 'tweti', 'w3edt', 'ewled', 'wfat', 'envers', 'ilama', 'toster', 'far7ana', 'yi5dem', 'charif', 'ekid', 'yarhimha', 'y5aliw', '5aliou', 'rentre', 'abab', 'y3awdou', 'tihki', '3akliya', 'tafham', 'idariya', 'trip', '5anatich', 'wechkoun', 'ina7i', '8alit', '3idkoum', 'lehine', 'couloir', 'ndhon', 'trio', 'tahanit', '3adya', 'litaraji', 'dwala', 'moudarib', 'sla7', 'elwataniya', 'badhna', 'l7oukouma', 'wladna', 'bachtekna', 'siasia', 'triha', 'wakteh', 'yostorhom', 'nikomhom', 'sislim', 'esh', 'jibélna', 'été', 'li5er', 'fay9in', 'mazelo', 'el3ab', 'chadi', 'emala', 'riesa', 'klil', 'sponsorisé', 'yahmih', 'take', 'yehlkou', 'la3bd', 'hw', 'mt', '5alilna', 'snè', 'mo5rej', 'el3ib', 't3alam', 'w7d', 'yarhmk', '3iniha', 'dear', 'tar', 'trawi', 'cachée', 'mouh', 'sta7', 'maskha', 'hamrouni', 'lokan', 'milk', 'ye7lem', 'metahana', 'ysakrou', 'bintou', 'lokrin', 'ya3che9', 'kothret', 'tounisi', 'i5alih', 'beyouta', 'yet9al', 'trawa7', 'tounisiya', 'mosaïque', 'wca', 'tfara7na', 'elfeyda', 'm3adich', '3amlit', 'roma', 'saksi', 'elgadhefi', 'hathihi', 'lu', '3ajebhom', '7sibkom', 'yben', 'rayet', 'sofiane', 'ichoufou', '8rb', 'esne', '7asitha', 'start', 'iza7', 'kadeh', 'touansa', 'nchofok', 'jonjon', 'rajolon', '9asr', 'klach', 'boutela', 'alahouma', 'chay2', '4irha', 'n3oum', 'moyen', 'touzeur', 'dahk', 'sbitarat', 'bheym', 'toba', 'tay', 'ijazik', 'nanta5eb', 'yahmihom', 'wa9fouh', 'erte7', 'dhamirek', 'wa3lih', 'lgalb', 'ya5dam', 'route', 'auto', 'yehlekom', 'titracha7', 'général', 'ihoud', 'ezahra', 'makar', 'baghded', 'lybya', '3eli', 'biflousek', '7ayek', 'destour', 'masterpiece', 'bhaja', 'makhyebha', 'ejem3ia', 'invités', 'ya5roulek', 'chritou', 'goulou', 'a7ne', 'wared', 't3awdou', 'pd', 'wlezem', 'wa9fou', 'ahwen', 'mojrom', '7ayawenet', 'mosta9bil', 'n3awnou', '3ziz', 'machofna', 'presidents', 'chihemna', 'yhanik', 'm3ac', 'ita7ana', 'mc', 'personelment', 'jazayer', 'tehlem', 'yhebouh', 'ysahal', 'mou7amed', 'sekna', 'nikt', 'eta9ou', 'mazelit', '7asbou', '02', 'l4alia', 'raw7i', 'b3athtlek', 'yilzmik', 'lfifa', 'tekmel', 'jou', 'wraby', '3jebtni', 'metaked', 'préparation', 'rashom', 'seb7a', 'miledi', 'views', 'lefrigi', 'izekel', 'dhouadi', 'n7ebkom', 'men8ir', '3enda', 'dakhlak', '5sarna', 'jawo', 'mahiech', 'halo', 'tazha', 'ntu', 'echebi', 'ltayef', 'z9aw', 'emnin', 'thnx', 'y7ab', 'imak', 'sitar', 'esalafin', 'ghasen', 'ebrahima', 'wlé', 'ya3refch', '5oudhou', 'etawra', 'devez', 'wnetmana', 'jben', '7adou', 'eri2asa', 'fautes', 'jebouh', 'rbe7', 'touzghar', 'elmarzougui', 'zwiten', 'mohsni', 'dyali', 'tardouk', 'ejmhour', 'ra2isek', 't9oumou', 'nabki', 'troika', 'nedem', 'menh', '7adeth', 'lbarnemj', 'tabaraka', 'bilèhi', 'yomhel', 'jest', 'chwa', '3amline', 'tkaml', '570', 'nrawa7', '9atha', '7yetik', '3lyh', 'tothor', 'ta7en', 'wbelehi', 'kayma', 'l7ob', 'inahtha', 'sac', 'mojarad', 'yarah', 'yet3arkou', 'hezhom', 'eteri5', '7otha', 'fathel', 'rzouga', 'ta3mlelna', 'wisam', 'sourak', 'jme3tek', 'y3tikom', 'tek', 'dhabout', 'cham', '9dom', 'bayin', '5alo', 'bere7', 'weslati', 'bélahi', 'mabda2', 'yekhdm', 'ejm3ia', 'zouhayr', 'bsifa', 'raj3ena', 'useles', '9oulena', 'horcujet', 'salafi', 'masirhom', 'bedem', '9awada', 'ebladna', 'wara', 'tikdhib', 'boulisia', 'karima', 'domar', 'tfaser', 'okht', 'lgalya', 'mircato', 'wtarja3', 'cha5seya', 'letari5', 'etlhew', 'ta3tih', 'fekr', 'achkel', 'ra9btik', 'mark', '9ouloub', '5tha', '3oumra', 'lbatala', 'm3aek', 'faye9', 'wlefri9i', 'primo', 'erhabi', 'yda5el', 'mafhmtch', '9bale', 'tekhdim', 'intihazi', 'soumou', 'batrouna', 'wet7eb', 'tawali', 'mahdia', 'limasa5', 'bey', 'ychafih', 'yechfikom', 'bladkom', 'nwasel', 'sahra', 'tfhem', 'okay', 'taych', 'chine', '9aies', 'tari5ha', 'most', 'l3a9liya', 'itaba3', 'tnajamch', 'hauteur', '5lina', '3emlou', 'mouslimin', 'nabda', 'yr7mou', 'ejem3a', 'm3afta', 'badha', 'lkef', '7echma', 'efriqui', 'icha3a', 'hogra', 'nakfou', '3o9da', 'helmi', 'rabihom', 'limfach5in', 'xl', 'kayen', 'l3abtou', 'aujourd', 'beser9a', 'natation', 'dani', 'alhamdou', 'lrjel', 'telecom', 'kabchou', 'tjawebni', 'bana', 'mazalt', 'nadhaf', 'impôts', 'voiture', 'khaliha', 'a3m', 'dhouroufi', 'chanel', 'mèt', '8acha', 'weslim', 'zedt', 'na7iha', 'wrab', 'bgalb', 'ywatik', 'plait', 'chofto', 'drogba', 'as3ed', 'ma7roum', 'shneya', 'zawéli', 's7i7e', 'ijiw', 'enfer', 'behc', 'ta3rach', 'isloma', 'hedh', 'amerika', 'wa3lech', 'kizebi', 'i9adem', 'doesn', 'n7ibik', 'nafer7ou', 'yestad', 'maya3rfouch', '9odemi', 'nkol', 'yraj3ou', '3afw', 'yahbtou', 'spontanée', 'soutien', 'yna3mbou', '5wet', 'rakbtek', 'l4neya', 'bizar', 'e5tiyar', 'g3ar', 'fadet', 'tchedou', 'lben', 'mili5ir', 'ytrba', 'talba', 'kalemni', 'lkoulna', 'lhakem', 'makrouh', 'chofneh', 'joumhouriya', 'programes', '3malit', 'machakelha', 'yitfarij', 'cha3ri', '3la5ater', 'fe9', 'yet3a9eb', 'halit', 'choqué', '7ib', '3ink', 'parles', 'netfehmou', 'lghnaya', 'hmdh', 'chamal', '9emet', 'dawlit', 'atendant', 'char3ia', 'wya3tik', 'mastour', 'fed', 'niklou', 'jazera', 'pt', 'relation', 'mar', 'waktha', '7sab', 'dayema', 'farhat', 'ilmohim', 'wsh', 'nayko', 'tjoubir', 'mochkletna', 'esaf', 'yensa', 'mahish', 'chmete', 'escobar', 'hosad', 'dhki', 'ijew', 'lhob', 'pef', '7kéyét', 'réalité', 'l79i9a', 'état', 'contuniation', 'ebda', 'merte7', 'omda', 'inawer', 'be3ed', 'iwasel', 'talent', 'und', 'yhdi', 'hawiya', 'jnab', 'fédération', '5air', 'okhrj', 'zinha', 'kathba', 'rapi', 'a3li', 'habinek', 'bihe', 'khouia', 'each', 'rali', 'mou7asba', 'i5afou', 'marbout', 'felah', 'thabit', 'khalet', 'ilkolna', 'traitres', 'lfayda', 'ywafa9na', 'ezeyed', 'ya7ia', 'arjoukom', 'zokomha', 'ntmna', 'steg', 'bomayé', 'wa7adhom', 'any', 'bkhire', 'bitaka', 'khtr', 'etor7', 'mas2ouleya', 'nchedou', 'yejib', 'lbotoula', 'bidouni', 'certain', 'presidence', 'jabek', 'fere5', '7yetk', 'tadhreb', 'idhaher', 't7ya', 'ndezou', 'kahw', 'ghayr', 'capitano', 'abdou', 'vendre', 'syb', 'afdhel', 'elgadhafi', 'nsibou', 'waktach', 'yarje3', 'nesrine', 'weldk', 'bentk', 'wentoma', 't9ouli', 'bh', 'yasmin', 'aywa', 'mefhemtech', 'en9oul', 'ba3eth', 'monefe9', 'partiyat', 'tp', 'lady', 'ceci', 'terb7o', '3asoula', 'ekbira', 'tounès', 'tor', 'chakhsiya', 'cloty', 'guir', 'a3maltou', 'nechriw', 'amrika', 'doc', 'ghalbou', 'mayhebouch', 'habitou', 'arja', '9alba', 'agrebi', 'na3che9', '3andék', 'volcano', 'wysaber', 'hazineha', '29', 'dhiab', 'promis', 'funy', 'esim', 'w3ala', 'tunsia', 'aib', 'ykhaliha', 'emta3na', 'boulis', 'narj3o', 'nekteb', 'majitech', 'energy', 'isabir', 'tefhm', 'wejho', 'four', 'cheyekh', 'yakon', 'diri', 'tchri', 'wejhk', 'mjarma', 'khorda', 'dja', 'rasoulna', '9adhiya', 'claire', 'itahan', 'ichri', 'wesnin', 'mamy', 'jawe', '9tates', 'berah', 'm7lek', 'origine', 'khoft', 'a8lat', 'espère', 't7aseb', 'jaybinha', 'helkou', 't9os', '9ouwata', 'znous', 'badge', 'sakiha', '3pts', 'ta3erfou', 'raj3ilna', 'yod5lou', 'ynajm', 'package', 'leslim', '7kya', '9adam', 'meziana', 'aklia', 'doivent', 'gateau', 'tfare7', 'yahfadha', 'yhanikoum', '3aychik', 'ghayer', 'nod5el', 'naturel', '3a9li', 'maryol', 'ilyouma', 'ftour', 'chiraz', 'yfok', 'mamestek', 'mya', 'kloub', 'ne9setna', 'kind', 'madhabik', 'nor9od', 'nousa', 'vo', 'ahali', '5arj', 'ykamal', 'wan', 'lhala', 'nans7ik', 't3jbni', 'khaw', 'wasalam', 'lamouchiya', 'aghlat', 'francis', 'badh', 'combinaison', 'yakrhek', 'fit', 'thabil', 'chohada', '3endo', 'yetsaref', 'dnya', '3ila', '9antra', 'regarder', 'krah', 'selm', 'naw3', 'msj', 'ynajém', 'sekta', 'lkes', 'es3ib', 'nlawej', 'kberna', 'dhod', 'talel', 'hechma', 'say', 'équipes', 'me3k', 'ma3lol', 'foras', '9be7a', 'male', 'isa', 'bou7mid', '3ayich', 'karhom', 'testa3mel', 'tounise', '8rib', 'ibereklek', 'cha3', 'artiste', '3anibi', '3waj', '3indhom', 'tehya', 'jhon', 'manajamch', 'dimension', 'sa7e7', 'génération', 'tal9ana', 'thebel', 'amani', 'maître', 'diz', 'mata3refch', 'lomek', 'acepte', 'erdogan', 'fihim', 'leb7ar', 'yna3amha', 'liltek', 'profite', 'lya', 'mechiya', '7atha', 'mrakez', 'protège', '3ahra', 'n7oto', 'bid', 'm3aleme', 'ta3ha', 'lomima', 'yahfdo', 'fahamna', 'chou3oub', 'lestar', 'khaleha', 'fardan', 'ikawrou', 'rokba', 'yahfdk', 'fhemtou', 'khayer', 'dakhil', 'e9bal', 'aim', 'ajrek', 'salet', 'ta3tihom', '3ale5ir', 'akhir', '3olya', 'weta', 'bta3', 'l7abes', 'elamen', 'contrats', 'tabi3i', '5ans', 'oumha', 'lmhirsi', '5altin', 'm7lk', 'lbos', 'amek', 't5aref', 'mrawel', 'ethika', 'anhom', '9asan', 'keli', 'heart', 'manhom', 'y3rfou', 'wkhali', '3atay', 'bruh', 'rou7e', 'tasma3ha', 'el3atrous', 'tayeh', 'lit', 'calme', 'yhdina', 'rkhas', 'beles', 'elmajles', 'chansons', '3andy', 'le9rouda', 'raka7', 'igoulou', '7ite', 'sfina', '3elik', 'chadha', 't3adeha', 'barça', 'bkheir', 'lech', 't3awej', 'yefti', 'irabi', 'ma3adesh', 'lah9i9a', 'hend', 'tapis', 'sehli', '7awyin', 'drous', 'y5alih', 'bsais', 'jdoudna', 'im3ah', 'kawen', 'ifarj', 'mahomchi', 'm3aref', '9afela', 'birou', 'fasas', 'ifi9', 'hawe', 'mourdha', 'mabldek', 'msakar', 'gaserine', 'tato', 'i7ses', 'hédhom', 'azbi', 'rweha', '7ayeti', 'makeche', 'filbled', 'tlaha', 'temthil', 'monji', 'dhamer', 'silimi', 'makoul', 'tba9a', 'y7areb', 'me3adech', 'taslah', 'akremi', 'nabila', '9at3', '3ounik', 'm3ke', 'ouin', 'a7wal', 'titfarej', 'houkoumet', '7adath', 'flousak', 'chbech', '7awil', 'jawebna', 'chouchou', 'ghar', '3a9lek', 'binti', 'mkabech', '3za', 'hawinou', 'banque', 'jeda', 'jeben', 'yabdo', 'apele', 'mounir', 'mahoum', '5aliya', 'chkn', 'alab', 'mish', 'a3ma', 'rzana', 'ysahah', 'djej', 'twa9ef', 'anchala', 'nebdew', 'rwahna', '3amik', 'baldy', 'sidak', 'wénti', 'iti7', '7zeb', 'tklm', 'fares', 'elibya', 'belha', '9adhira', 'siyaset', '43', 'joz2', 'b9alb', 'chanse', 'rab3awi', 'è', 'melkher', 'majmou3a', 'wm3ah', 'oila', 'thya', 'nikilhom', '3k', 'ourak', 'qualite', 'yer7mo', 'béchir', 'watha3', 'wast', '2pac', 'eclub', 'tzt', 'fidèle', '860', 'akhla9', 'kayfa', 'e7tiram', '9anèt', 'dhalika', 'nawar', '3ezkoum', 'reçu', 'y9olik', 'toufla', 'yela', 'tahfoun', 'niktoulha', 'leflos', 'raiyes', 'yniko', 'mhich', 'sinario', 'wikoun', 'hyia', 'nsakrou', 'intikabet', 'neik', 'wlhy', 'nihayet', 'hkeyt', '9adah', 'da3i', 'pus', 'beldi', 'ikol', 'mafyouzi', 've', 'metha9ef', '3adet', 'entier', 'sa5ta', 'wéla', 'nawer', 'bezef', 'fdaye7', 'lirheb', 'rendement', 'mrakeb', 'yelzmo', 'soti', 'yar7amou', 'el7aja', 'traha', '203', 'chedli', 'wadhah', 'tamchi', 'morale', 'na7no', 'sfer', 'hadoma', 'besyesa', 'echaeb', 'sondes', 'pof', 'zar', 'wa9etha', '7yetha', 'wselna', 'lewled', 'maladie', 'ymed', 'manta9', 'hazima', 'tachta7', 'najim', 'tjiboulna', 'yasm3ou', 'teb3ed', 'gathefi', '3at', 'najemtech', '7awes', 'gala', 'tharbet', 'may3ichech', 'chey5a', 'ysala7', 'ezeby', 'tirou', 'ichab', 'l3adim', '3omr', 'lrou7ek', 'joumhouria', 'athouma', 'here', 'aura', '31', 'israil', 'tkalim', 'kire', 'cmnt', 'fezda', 'afr7ou', 'dawech', '3indna', 'lkoulha', 'tbarkalh', 'boutique', 'recete', 'hèdha', 'hadokom', 'i7b', 'twli', 'mondial', 'syasi', 'galerie', 'mercredi', 'nabel', 'ta5dim', 'jeudi', 'wahrtou', 'vendredi', 'm3andhomch', 'lhand', 'andhel', 'man7ibouch', 'marfou3a', 't5arjou', 'chraf', 'a3lah', 'houme', 'machkour', 'sakit', 'elgali', 'fête', 'beklem', 'char3', 'makeup', 'link', 'wjhk', 'tret', 'yarabe', '4k', 'trach7et', 'septembre', 'orido', 'yosktou', 'ilbeji', '7abis', 'ychedou', 'chbaba', 'raya', 'maw3ed', 'sayr', 'mnyk', '2éme', 'haje', 'bechar', 'ghiro', 'yakouna', '8irha', 'lbarnemej', 'maya3rach', 'todhreb', 'hazetha', 'ykaser', 'adhaka', 'edhan', 'yjibouh', 'kasrine', 'itawel', 'machlah', 'jeha', 'ayla', 'baynana', 'asra3', 'cha3ben', 'msalha', '9adro', 'jaraya', 'w7dek', 'wen7eb', 'mosta9bal', '3inda', 'guesmi', 'esperentiste', '27', 'meci', 'tsib', '28', 'ghalib', 'lfar7a', 'aie', 'thine', 'tok3od', 'wjibou', 'yatla', 'ne7i', 'yar7ém', 'ghaly', 'sa3d', 'bleda', 'lebsetou', 'nasin', 'cariere', 'tetelha', 'chofelna', 'hem', '7kew', 'lentiles', 'yasari', 'posibilite', 'gouvernement', 'ihemek', '3ade', 'ifadlek', 'yehlikhom', 'tot', 'elblad', 'ktar', '7yéti', 'marhouna', 'srafet', 'chouflna', '9atil', 'lhiwar', 'mok', 'zone', 'meyta', 'tloum', 'e7chmou', 'taslim', 'w5asatan', 'atakan', 'la7tha', 'm5a5na', 'tgoulou', 'héya', 'hathoukom', 'yajri', 'traj3elna', 'jrs', 'kénou', 'rare', 'waela', 'prestige', 'nel9aw', 'tsa5ef', 'malih', 'toskot', 'aicha', 'zamen', 'tfalmou', 'mt3na', '5arij', 'narfou', 'etat', 'bikini', 'la3meri', 'ouel', 'narb7ou', 'ni5dmou', 'zyed', 'mou9abel', 'tjed', 'sasou', '3ari9a', 'welina', 'toktol', '5aref', 'matkhafech', 'franc', 'yidik', '57', '3ijbitni', 'benzaret', 'rousia', 'te3bou', 'nentakheb', 'tbrklh', 'chare3', '3markom', 'yahfdou', 'siamo', 'akrem', 'meryouma', 'maya3mel', 'mosalsal', 'mfhmtch', 'problem', 't9oulo', 'eriha', 'choufi', '3amnawil', 'stensou', 'w3andi', 'cha9an', 'drahem', 'maximum', 'yakra', 'samdi', 'chere', 'tlawj', 'nhot', '5oudh', 'mata3mlou', 'dirigeants', 'jarbou3', 'sam7ni', 'chikhaoui', 'yenta5bek', 'kohb', 'houna', 'tj', 'tjich', 'yekdeb', 'ta7chiw', 'norid', 'bouzidi', '8anouchi', 'béji', 'aider', 'ta7ou', 'yeched', 'm3àk', 'pilanti', 'nadhar', 'wrahou', 'cabiste', 'afhem', 'elbotola', 'ne3ref', 'etaher', 'prim', 'fa3el', 'zey', 'eriasa', 'fenya', 'welid', 'vasy', 'esperence', 'la5ir', 'ma3ejbouch', '10ans', 'simoni', 'morad', 'souri', 'mecha', 'ethaw', 'lijam3iya', 'ifhmou', 'welit', 'iltali', 'n5af', 'sena', 'jabry', 'clasement', 'warit', 'isbab', 'ela7asa', 'khaterhom', 'two', 'bale', 'iben', '3asr', 'mounefi9in', 'ème', 'saw', 'jal', 'l3omra', 'ta3ek', 'slym', 'mo', 'fou9ara2', 'tostor', 'mawhba', 'dead', 'yalatif', 'twaly', 'ichid', 'kaser', 'arweh', 'mha', 'lmarzougi', 'nset', 'harbet', 'ta9dir', 'masa', 'la7rar', 'sem', 'kosksi', 'chonse', 'nounou', 'snadid', 'tafahet', 'lefta', 'elmot', 'olfa', 'el3alamin', 'rtehna', 'yr7mo', 'lazémna', 'ref', '7asbya', 'dhaya3', 'bardou', 'fdhayah', 'safwen', 'wahrtek', '3amer', 'kelmtek', 'berk', 'faj3a', 'etelhana', 'bidouna', 'weldha', 'rouhak', 'lihlaybi', 'foi', 't3ref', 'mou3abra', 'wsi', 'l3alouch', 'mosta9ela', 'elgharbi', 'semha', 'lhaja', 'ikhales', 'iriahi', 'gratuite', 'me8ir', 'master', 'wkenek', 'yo5les', 'logo', 'yhiz', 'akbér', 'tal3éb', 'ra7im', 'y3alik', 'lhad', '10k', 'tahna', 'bene', 'chab3ane', 'jbet', '9adir', 'traka7', 'zidt', 'interactif', 'jami', 'tga3d', '3ande', 'koum', 'grace', 'lew', 'machlh', 'masque', 'dik', 'tsal7ou', 'l7it', 'kadrek', 'mamsetkom', 'yt', 'nchem', 'maskhin', 'chercher', 'tani', 'esore9', 'sahriya', 'lakoum', 'béja', 'bak', 't3abi', 'lba9i', 'mrabi', 'ya3tikoum', 'n9olék', 'yfadhelhomlek', 'sbay7iya', 'jozef', 'lklam', 'bordel', 'hadh', 'makteb', 'emase5', 'masarif', 'béhya', 'l3arabia', '5iyr', 'theme', 'doctor', 'manajemech', 'tawika', '3achat', 'erhebi', 'tfate9', '3afes', 'bsaies', 'bo93a', 'jme3tou', 'tchawah', 'thod', 'nawara', 'wer', 'ry7i', 'moslmine', 'elhoukouma', 'ta9beth', 'esné', 'ya7ko', 'tsal7', 'mobarek', '3adia', 'zehi', 'mata3mil', 'ma3andekch', 'warda', 'mnek', 'nsad9ou', 'tarfou', 'mosta3an', 'fibelha', 'babouch', 'mec', 'lkola', 'ritouh', 'tfrj', 'bkelma']\n"
          ],
          "name": "stdout"
        }
      ]
    },
    {
      "cell_type": "code",
      "metadata": {
        "colab": {
          "base_uri": "https://localhost:8080/"
        },
        "id": "MB2WtY-MGsAD",
        "outputId": "aef8e138-df86-4c5e-ffcb-7b82f1321ba3"
      },
      "source": [
        "from fasttext import load_model\n",
        "\n",
        "# original BIN model loading\n",
        "f = load_model('/content/drive/MyDrive/pcd/model.bin')\n",
        "lines=[]\n",
        "\n",
        "# get all words from model\n",
        "words = f.get_words()\n",
        "\n",
        "with open('/content/drive/MyDrive/pcd/modelvec.vec','w') as file_out:\n",
        "    \n",
        "    # the first line must contain number of total words and vector dimension\n",
        "    file_out.write(str(len(words)) + \" \" + str(f.get_dimension()) + \"\\n\")\n",
        "\n",
        "    # line by line, you append vectors to VEC file\n",
        "    for w in words:\n",
        "        v = f.get_word_vector(w)\n",
        "        vstr = \"\"\n",
        "        for vi in v:\n",
        "            vstr += \" \" + str(vi)\n",
        "        try:\n",
        "            file_out.write(w + vstr+'\\n')\n",
        "        except:\n",
        "            pass\n"
      ],
      "execution_count": null,
      "outputs": [
        {
          "output_type": "stream",
          "text": [
            "Warning : `load_model` does not return WordVectorModel or SupervisedModel any more, but a `FastText` object which is very similar.\n"
          ],
          "name": "stderr"
        }
      ]
    },
    {
      "cell_type": "code",
      "metadata": {
        "id": "EUd-jmoCHU-U"
      },
      "source": [
        "from nltk.tokenize import word_tokenize\n",
        "from collections import defaultdict\n",
        "\n",
        "def tokenize(texts):\n",
        "    \"\"\"Tokenize texts, build vocabulary and find maximum sentence length.\n",
        "    \n",
        "    Args:\n",
        "        texts (List[str]): List of text data\n",
        "    \n",
        "    Returns:\n",
        "        tokenized_texts (List[List[str]]): List of list of tokens\n",
        "        word2idx (Dict): Vocabulary built from the corpus\n",
        "        max_len (int): Maximum sentence length\n",
        "    \"\"\"\n",
        "\n",
        "    max_len = 0\n",
        "    tokenized_texts = []\n",
        "    word2idx = {}\n",
        "\n",
        "    # Add <pad> and <unk> tokens to the vocabulary\n",
        "    word2idx['<pad>'] = 0\n",
        "    word2idx['<unk>'] = 1\n",
        "\n",
        "    # Building our vocab from the corpus starting from index 2\n",
        "    #need to change the text like in text cleaning!!!\n",
        "    idx = 2\n",
        "    for sent in texts:\n",
        "      \n",
        "        tokenized_sent = word_tokenize(sent)\n",
        "\n",
        "        # Add `tokenized_sent` to `tokenized_texts`\n",
        "        tokenized_texts.append(tokenized_sent)\n",
        "\n",
        "        # Add new token to `word2idx`\n",
        "        for token in tokenized_sent:\n",
        "            if token not in word2idx:\n",
        "                word2idx[token] = idx\n",
        "                idx += 1\n",
        "\n",
        "        # Update `max_len`\n",
        "        max_len = max(max_len, len(tokenized_sent))\n",
        "\n",
        "    return tokenized_texts, word2idx, max_len\n",
        "\n",
        "def encode(tokenized_texts, word2idx, max_len):\n",
        "    \"\"\"Pad each sentence to the maximum sentence length and encode tokens to\n",
        "    their index in the vocabulary.\n",
        "\n",
        "    Returns:\n",
        "        input_ids (np.array): Array of token indexes in the vocabulary with\n",
        "            shape (N, max_len). It will the input of our CNN model.\n",
        "    \"\"\"\n",
        "\n",
        "    input_ids = []\n",
        "    for tokenized_sent in tokenized_texts:\n",
        "        # Pad sentences to max_len\n",
        "        tokenized_sent += ['<pad>'] * (max_len - len(tokenized_sent))\n",
        "\n",
        "        # Encode tokens to input_ids\n",
        "        input_id = [word2idx.get(token) for token in tokenized_sent]\n",
        "        input_ids.append(input_id)\n",
        "    \n",
        "    return np.array(input_ids)"
      ],
      "execution_count": null,
      "outputs": []
    },
    {
      "cell_type": "code",
      "metadata": {
        "colab": {
          "base_uri": "https://localhost:8080/"
        },
        "id": "waBWs56iHY0z",
        "outputId": "a0be81a9-17ec-4eff-d267-0e38ba6d38fa"
      },
      "source": [
        "import nltk\n",
        "nltk.download('punkt')"
      ],
      "execution_count": null,
      "outputs": [
        {
          "output_type": "stream",
          "text": [
            "[nltk_data] Downloading package punkt to /root/nltk_data...\n",
            "[nltk_data]   Unzipping tokenizers/punkt.zip.\n"
          ],
          "name": "stdout"
        },
        {
          "output_type": "execute_result",
          "data": {
            "text/plain": [
              "True"
            ]
          },
          "metadata": {
            "tags": []
          },
          "execution_count": 21
        }
      ]
    },
    {
      "cell_type": "code",
      "metadata": {
        "colab": {
          "base_uri": "https://localhost:8080/",
          "height": 301,
          "referenced_widgets": [
            "4f1d924f442d47fbb49fa4bee27b29b4",
            "b22f18d7d460499e96d36e9795453104",
            "1548fc0c91e64f56b2bbc72465e574b5",
            "63259c8733994995aa7418ea47997f74",
            "394d323d19d54fb58c951a156c2c7263",
            "20533a30133a4f97b4640e3928f3f6bf",
            "813bd4b7f84649f9832064f849161b75",
            "d6e24c81215a4772b875403c196ae80b"
          ]
        },
        "id": "fCCjzpRzHauV",
        "outputId": "46196f57-a0de-4ce5-9422-eb196f6959cf"
      },
      "source": [
        "from tqdm import tqdm_notebook\n",
        "\n",
        "def load_pretrained_vectors(word2idx, fname):\n",
        "    \"\"\"Load pretrained vectors and create embedding layers.\n",
        "    \n",
        "    Args:\n",
        "        word2idx (Dict): Vocabulary built from the corpus\n",
        "        fname (str): Path to pretrained vector file\n",
        "\n",
        "    Returns:\n",
        "        embeddings (np.array): Embedding matrix with shape (N, d) where N is\n",
        "            the size of word2idx and d is embedding dimension\n",
        "    \"\"\"\n",
        "\n",
        "    print(\"Loading pretrained vectors...\")\n",
        "    fin = open(fname, 'r', encoding='utf-8', newline='\\n', errors='ignore')\n",
        "    n, d = map(int, fin.readline().split())\n",
        "    \n",
        "    # Initilize random embeddings\n",
        "    embeddings = np.random.uniform(-0.25, 0.25, (len(word2idx), d))\n",
        "    embeddings[word2idx['<pad>']] = np.zeros((d,))\n",
        "\n",
        "    # Load pretrained vectors\n",
        "    count = 0\n",
        "    for line in tqdm_notebook(fin):\n",
        "        tokens = line.rstrip().split(' ')\n",
        "        word = tokens[0]\n",
        "\n",
        "        if word in word2idx:\n",
        "            count += 1\n",
        "            embeddings[word2idx[word]] = np.array(tokens[1:], dtype=np.float32)\n",
        "\n",
        "    print(f\"There are {count} / {len(word2idx)} pretrained vectors found.\")\n",
        "\n",
        "    return embeddings\n",
        "print(\"Tokenizing...\\n\")\n",
        "tokenized_texts, word2idx, max_len = tokenize(train.text)\n",
        "input_ids = encode(tokenized_texts, word2idx, max_len)\n",
        "\n",
        "# Load pretrained vectors\n",
        "embeddings = load_pretrained_vectors(word2idx, \"/content/drive/MyDrive/pcd/modelvec.vec\")\n",
        "embeddings = torch.tensor(embeddings)\n",
        "print(embeddings)"
      ],
      "execution_count": null,
      "outputs": [
        {
          "output_type": "stream",
          "text": [
            "Tokenizing...\n",
            "\n",
            "Loading pretrained vectors...\n"
          ],
          "name": "stdout"
        },
        {
          "output_type": "stream",
          "text": [
            "/usr/local/lib/python3.7/dist-packages/ipykernel_launcher.py:25: TqdmDeprecationWarning: This function will be removed in tqdm==5.0.0\n",
            "Please use `tqdm.notebook.tqdm` instead of `tqdm.tqdm_notebook`\n"
          ],
          "name": "stderr"
        },
        {
          "output_type": "display_data",
          "data": {
            "application/vnd.jupyter.widget-view+json": {
              "model_id": "4f1d924f442d47fbb49fa4bee27b29b4",
              "version_minor": 0,
              "version_major": 2
            },
            "text/plain": [
              "HBox(children=(FloatProgress(value=1.0, bar_style='info', max=1.0), HTML(value='')))"
            ]
          },
          "metadata": {
            "tags": []
          }
        },
        {
          "output_type": "stream",
          "text": [
            "\n",
            "There are 13375 / 125817 pretrained vectors found.\n",
            "tensor([[ 0.0000,  0.0000,  0.0000,  ...,  0.0000,  0.0000,  0.0000],\n",
            "        [-0.0829,  0.1356,  0.2472,  ...,  0.0673, -0.2433, -0.1551],\n",
            "        [-0.6742,  0.0118, -0.4652,  ...,  0.6503,  0.4270,  0.7096],\n",
            "        ...,\n",
            "        [ 0.1010,  0.0317,  0.0658,  ..., -0.0789,  0.2390, -0.2216],\n",
            "        [ 0.0803,  0.1743,  0.0393,  ...,  0.0835, -0.0266,  0.1147],\n",
            "        [ 0.0965, -0.0326, -0.1733,  ...,  0.0995,  0.0923,  0.1432]],\n",
            "       dtype=torch.float64)\n"
          ],
          "name": "stdout"
        }
      ]
    },
    {
      "cell_type": "code",
      "metadata": {
        "id": "V1C-vqmiH9Ac"
      },
      "source": [
        "from torch.utils.data import (TensorDataset, DataLoader, RandomSampler,\n",
        "                              SequentialSampler)\n",
        "from sklearn.model_selection import train_test_split\n",
        "\n",
        "# Train Test Split\n",
        "train_inputs, val_inputs, train_labels, val_labels = train_test_split(\n",
        "    input_ids, train.label, test_size=0.1, random_state=2)\n",
        "\n",
        "\n",
        "# Load data to PyTorch DataLoader\n",
        "\n",
        "train_inputs, val_inputs, train_labels, val_labels =\\\n",
        "tuple(torch.tensor(data) for data in\n",
        "      [train_inputs, val_inputs, train_labels.values, val_labels.values])\n",
        "\n",
        "# Specify batch_size\n",
        "batch_size = 100\n",
        "\n",
        "# Create DataLoader for training data\n",
        "train_data = TensorDataset(train_inputs, train_labels)\n",
        "train_sampler = RandomSampler(train_data)\n",
        "train_dataloader = DataLoader(train_data, sampler=train_sampler, batch_size=batch_size)\n",
        "\n",
        "# Create DataLoader for validation data\n",
        "val_data = TensorDataset(val_inputs, val_labels)\n",
        "val_sampler = SequentialSampler(val_data)\n",
        "val_dataloader = DataLoader(val_data, sampler=val_sampler, batch_size=batch_size)\n",
        "\n"
      ],
      "execution_count": null,
      "outputs": []
    },
    {
      "cell_type": "code",
      "metadata": {
        "id": "yIPlxXZ0IzMT"
      },
      "source": [
        "import torch.nn as nn\n",
        "class SentimentNet(nn.Module):\n",
        "    def __init__(self, vocab_size, output_size, embedding_dim, hidden_dim, n_layers, drop_prob=0.5):\n",
        "        super(SentimentNet, self).__init__()\n",
        "        self.output_size = output_size\n",
        "        self.n_layers = n_layers\n",
        "        self.hidden_dim = hidden_dim\n",
        "        \n",
        "        self.embedding = nn.Embedding(vocab_size, embedding_dim)\n",
        "        self.embedding.weight.data.copy_(embeddings)\n",
        "        self.lstm = nn.LSTM(embedding_dim, hidden_dim, n_layers, dropout=drop_prob, batch_first=True)\n",
        "        self.dropout = nn.Dropout(drop_prob)\n",
        "        self.fc = nn.Linear(hidden_dim, output_size)\n",
        "        self.sigmoid = nn.Sigmoid()\n",
        "        \n",
        "    def forward(self, x, hidden):\n",
        "        batch_size = x.size(0)\n",
        "        x = x.long()\n",
        "        embeds = self.embedding(x)\n",
        "        lstm_out, hidden = self.lstm(embeds, hidden)\n",
        "        lstm_out = lstm_out.contiguous().view(-1, self.hidden_dim)\n",
        "        \n",
        "        out = self.dropout(lstm_out)\n",
        "        out = self.fc(out)\n",
        "        out = self.sigmoid(out)\n",
        "        \n",
        "        out = out.view(batch_size, -1)\n",
        "        out = out[:,-1]\n",
        "        return out, hidden\n",
        "    \n",
        "    def init_hidden(self, batch_size):\n",
        "        weight = next(self.parameters()).data\n",
        "        hidden = (weight.new(self.n_layers, batch_size, self.hidden_dim).zero_().to(device),\n",
        "                      weight.new(self.n_layers, batch_size, self.hidden_dim).zero_().to(device))\n",
        "        return hidden"
      ],
      "execution_count": null,
      "outputs": []
    },
    {
      "cell_type": "code",
      "metadata": {
        "id": "jVPBfZ31W074"
      },
      "source": [
        "from torch import optim\n",
        "\n",
        "vocab_size = len(word2idx) \n",
        "output_size = 1\n",
        "embedding_dim = 50\n",
        "hidden_dim = 512\n",
        "n_layers = 2\n",
        "\n",
        "model = SentimentNet(vocab_size, output_size, embedding_dim, hidden_dim, n_layers)\n",
        "model.to(device)\n",
        "\n",
        "lr=0.001\n",
        "criterion = nn.BCELoss()\n",
        "optimizer = torch.optim.Adam(model.parameters(), lr=lr)"
      ],
      "execution_count": null,
      "outputs": []
    },
    {
      "cell_type": "code",
      "metadata": {
        "colab": {
          "base_uri": "https://localhost:8080/"
        },
        "id": "tSz82oNXI76H",
        "outputId": "cce15d41-e0a4-442f-9b10-00b39dfd6be1"
      },
      "source": [
        "epochs = 2\n",
        "counter = 0\n",
        "print_every = 500\n",
        "clip = 5\n",
        "valid_loss_min = np.Inf\n",
        "model.to(device)\n",
        "model.train()\n",
        "for i in range(epochs):\n",
        "    h = model.init_hidden(batch_size)\n",
        "    \n",
        "    for inputs, labels in train_dataloader:\n",
        "        counter += 1\n",
        "        h = tuple([e.data for e in h])\n",
        "        inputs, labels = inputs.to(device), labels.to(device)\n",
        "        model.zero_grad()\n",
        "        output, h = model(inputs, h)\n",
        "        loss = criterion(output.squeeze(), labels.float())\n",
        "        loss.backward()\n",
        "        nn.utils.clip_grad_norm_(model.parameters(), clip)\n",
        "        optimizer.step()\n",
        "        \n",
        "        if counter%print_every == 0:\n",
        "            val_h = model.init_hidden(batch_size)\n",
        "            val_losses = []\n",
        "            model.eval()\n",
        "            for inp, lab in val_dataloader:\n",
        "                val_h = tuple([each.data for each in val_h])\n",
        "                inp, lab = inp.to(device), lab.to(device)\n",
        "                out, val_h = model(inp, val_h)\n",
        "                val_loss = criterion(out.squeeze(), lab.float())\n",
        "                val_losses.append(val_loss.item())\n",
        "                \n",
        "            model.train()\n",
        "            print(\"Epoch: {}/{}...\".format(i, epochs),\n",
        "                  \"Step: {}...\".format(counter),\n",
        "                  \"Loss: {:.6f}...\".format(loss.item()),\n",
        "                  \"Val Loss: {:.6f}\".format(np.mean(val_losses)))\n",
        "            if np.mean(val_losses) <= valid_loss_min:\n",
        "                torch.save(model.state_dict(), '/content/drive/MyDrive/pcd/state_dict.pt')\n",
        "                print('Validation loss decreased ({:.6f} --> {:.6f}).  Saving model ...'.format(valid_loss_min,np.mean(val_losses)))\n",
        "                valid_loss_min = np.mean(val_losses)"
      ],
      "execution_count": null,
      "outputs": [
        {
          "output_type": "stream",
          "text": [
            "Epoch: 0/2... Step: 500... Loss: 0.027634... Val Loss: 0.371011\n",
            "Validation loss decreased (inf --> 0.371011).  Saving model ...\n",
            "Epoch: 1/2... Step: 1000... Loss: 0.270266... Val Loss: 0.370965\n",
            "Validation loss decreased (0.371011 --> 0.370965).  Saving model ...\n"
          ],
          "name": "stdout"
        }
      ]
    },
    {
      "cell_type": "code",
      "metadata": {
        "id": "SikRcmcDjR3-",
        "colab": {
          "base_uri": "https://localhost:8080/",
          "height": 229
        },
        "outputId": "560808f1-0e2f-4f3a-d24c-d978c842c66f"
      },
      "source": [
        "# Loading the best model\n",
        "model.load_state_dict(torch.load('/content/drive/MyDrive/pcd/state_dict.pt'))\n",
        "val_losses = [] # track loss\n",
        "num_correct = 0\n",
        "# init hidden state\n",
        "h = model.init_hidden(batch_size)\n",
        "model.eval()\n",
        "# iterate over test data\n",
        "for inputs, labels in val_dataloader:\n",
        "\n",
        "    # Creating new variables for the hidden state, otherwise\n",
        "    # we'd backprop through the entire training history\n",
        "    h = tuple([each.data for each in h])\n",
        "   # print(\"la valeur de h: \\n\",h)\n",
        "\n",
        "    inputs, labels = inputs.to(device), labels.to(device)\n",
        "    \n",
        "    # get predicted outputs\n",
        "    output, h = model(inputs, h)\n",
        "    \n",
        "    # calculate loss\n",
        "    val_loss = criterion(output.squeeze(), labels.float())\n",
        "    val_losses.append(val_loss.item())\n",
        "    #print(val_loss.item())\n",
        "    \n",
        "    # convert output probabilities to predicted class (0 or 1 or 2)\n",
        "    pred = torch.argmax(output,dim=0, keepdim=True)\n",
        "    # compare predictions to true label\n",
        "    correct_tensor = pred.eq(labels.long().view_as(pred))\n",
        "    correct = np.squeeze(correct_tensor.numpy()) \n",
        "    num_correct += np.sum(correct)\n",
        "\n",
        "# -- Statistiques! - ##\n",
        "# avg test loss\n",
        "print(\"validation loss: {:.3f}%\".format(np.mean(val_losses)))"
      ],
      "execution_count": null,
      "outputs": [
        {
          "output_type": "error",
          "ename": "RuntimeError",
          "evalue": "ignored",
          "traceback": [
            "\u001b[0;31m---------------------------------------------------------------------------\u001b[0m",
            "\u001b[0;31mRuntimeError\u001b[0m                              Traceback (most recent call last)",
            "\u001b[0;32m<ipython-input-43-686677242d5a>\u001b[0m in \u001b[0;36m<module>\u001b[0;34m()\u001b[0m\n\u001b[1;32m     27\u001b[0m     \u001b[0mpred\u001b[0m \u001b[0;34m=\u001b[0m \u001b[0mtorch\u001b[0m\u001b[0;34m.\u001b[0m\u001b[0margmax\u001b[0m\u001b[0;34m(\u001b[0m\u001b[0moutput\u001b[0m\u001b[0;34m,\u001b[0m\u001b[0mdim\u001b[0m\u001b[0;34m=\u001b[0m\u001b[0;36m0\u001b[0m\u001b[0;34m,\u001b[0m \u001b[0mkeepdim\u001b[0m\u001b[0;34m=\u001b[0m\u001b[0;32mTrue\u001b[0m\u001b[0;34m)\u001b[0m\u001b[0;34m\u001b[0m\u001b[0;34m\u001b[0m\u001b[0m\n\u001b[1;32m     28\u001b[0m     \u001b[0;31m# compare predictions to true label\u001b[0m\u001b[0;34m\u001b[0m\u001b[0;34m\u001b[0m\u001b[0;34m\u001b[0m\u001b[0m\n\u001b[0;32m---> 29\u001b[0;31m     \u001b[0mcorrect_tensor\u001b[0m \u001b[0;34m=\u001b[0m \u001b[0mpred\u001b[0m\u001b[0;34m.\u001b[0m\u001b[0meq\u001b[0m\u001b[0;34m(\u001b[0m\u001b[0mlabels\u001b[0m\u001b[0;34m.\u001b[0m\u001b[0mlong\u001b[0m\u001b[0;34m(\u001b[0m\u001b[0;34m)\u001b[0m\u001b[0;34m.\u001b[0m\u001b[0mview_as\u001b[0m\u001b[0;34m(\u001b[0m\u001b[0mpred\u001b[0m\u001b[0;34m)\u001b[0m\u001b[0;34m)\u001b[0m\u001b[0;34m\u001b[0m\u001b[0;34m\u001b[0m\u001b[0m\n\u001b[0m\u001b[1;32m     30\u001b[0m     \u001b[0mcorrect\u001b[0m \u001b[0;34m=\u001b[0m \u001b[0mnp\u001b[0m\u001b[0;34m.\u001b[0m\u001b[0msqueeze\u001b[0m\u001b[0;34m(\u001b[0m\u001b[0mcorrect_tensor\u001b[0m\u001b[0;34m.\u001b[0m\u001b[0mnumpy\u001b[0m\u001b[0;34m(\u001b[0m\u001b[0;34m)\u001b[0m\u001b[0;34m)\u001b[0m\u001b[0;34m\u001b[0m\u001b[0;34m\u001b[0m\u001b[0m\n\u001b[1;32m     31\u001b[0m     \u001b[0mnum_correct\u001b[0m \u001b[0;34m+=\u001b[0m \u001b[0mnp\u001b[0m\u001b[0;34m.\u001b[0m\u001b[0msum\u001b[0m\u001b[0;34m(\u001b[0m\u001b[0mcorrect\u001b[0m\u001b[0;34m)\u001b[0m\u001b[0;34m\u001b[0m\u001b[0;34m\u001b[0m\u001b[0m\n",
            "\u001b[0;31mRuntimeError\u001b[0m: shape '[1]' is invalid for input of size 100"
          ]
        }
      ]
    },
    {
      "cell_type": "code",
      "metadata": {
        "id": "zOcM296BgUpq"
      },
      "source": [
        "def prepare_submission():\n",
        "\n",
        "\n",
        "    test_data = test['text']\n",
        "    test_id = test['id']\n",
        "\n",
        "    tokenized_texts, word2idx, max_len = tokenize(train.text)\n",
        "    test_final = encode(tokenized_texts, word2idx, max_len)\n",
        "    result_final = model.predict(test_final)\n",
        "    dataf = pd.DataFrame(data = {'id' : test_id ,'text': testset['text'], 'POSITIVE' : result_final[:,0] ,'neutral' : result_final[:,1] ,'NEGATIVE' : result_final[:,2]  } })\n",
        "    dataf.to_csv('resultpytorchLSTM.csv')"
      ],
      "execution_count": null,
      "outputs": []
    }
  ]
}