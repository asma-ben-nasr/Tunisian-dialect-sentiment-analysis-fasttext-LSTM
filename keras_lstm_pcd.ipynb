{
  "nbformat": 4,
  "nbformat_minor": 0,
  "metadata": {
    "colab": {
      "name": "keras_lstm_pcd.ipynb",
      "provenance": [],
      "collapsed_sections": []
    },
    "kernelspec": {
      "name": "python3",
      "display_name": "Python 3"
    },
    "language_info": {
      "name": "python"
    },
    "accelerator": "GPU"
  },
  "cells": [
    {
      "cell_type": "code",
      "metadata": {
        "id": "WB9u-TccJ4h0"
      },
      "source": [
        "import numpy as np # linear algebra\n",
        "import pandas as pd # data processing, CSV file I/O (e.g. pd.read_csv)\n",
        "import tensorflow as tf\n",
        "from sklearn.feature_extraction.text import CountVectorizer\n",
        "from keras.preprocessing.text import Tokenizer\n",
        "from keras.preprocessing.sequence import pad_sequences\n",
        "from keras.models import Sequential\n",
        "from keras.layers import Dense, Embedding, LSTM, SpatialDropout1D\n",
        "from sklearn.model_selection import train_test_split\n",
        "from keras.utils.np_utils import to_categorical\n",
        "from sklearn.utils import resample\n",
        "from sklearn.utils import shuffle\n",
        "from sklearn.metrics import confusion_matrix,classification_report\n",
        "import re\n",
        "import keras"
      ],
      "execution_count": null,
      "outputs": []
    },
    {
      "cell_type": "code",
      "metadata": {
        "id": "bWELiKy0tVfM"
      },
      "source": [
        "def removeDuplicates(S): \n",
        "          \n",
        "    n = len(S)  \n",
        "      \n",
        "    # We don't need to do anything for  \n",
        "    # empty or single character string.  \n",
        "    if (n < 2) : \n",
        "        return\n",
        "          \n",
        "    # j is used to store index is result  \n",
        "    # string (or index of current distinct  \n",
        "    # character)  \n",
        "    j = 0\n",
        "      \n",
        "    # Traversing string  \n",
        "    for i in range(n):  \n",
        "          \n",
        "        # If current character S[i]  \n",
        "        # is different from S[j]  \n",
        "        if (S[j] != S[i]): \n",
        "            j += 1\n",
        "            S[j] = S[i]  \n",
        "      \n",
        "    # Putting string termination  \n",
        "    # character.  \n",
        "    j += 1\n",
        "    S = S[:j] \n",
        "    return \"\".join(S) "
      ],
      "execution_count": null,
      "outputs": []
    },
    {
      "cell_type": "code",
      "metadata": {
        "colab": {
          "base_uri": "https://localhost:8080/"
        },
        "id": "_Qo6DDitJ9zN",
        "outputId": "f8035a05-a984-4802-bf83-699e1c250c6c"
      },
      "source": [
        "from google.colab import drive\n",
        "drive.mount('/content/drive')"
      ],
      "execution_count": null,
      "outputs": [
        {
          "output_type": "stream",
          "text": [
            "Drive already mounted at /content/drive; to attempt to forcibly remount, call drive.mount(\"/content/drive\", force_remount=True).\n"
          ],
          "name": "stdout"
        }
      ]
    },
    {
      "cell_type": "code",
      "metadata": {
        "id": "VEN_8t1VJ539"
      },
      "source": [
        "data = pd.read_csv('/content/drive/MyDrive/pcd/Train.csv')\n",
        "testset=pd.read_csv('/content/drive/MyDrive/pcd/Test.csv')"
      ],
      "execution_count": null,
      "outputs": []
    },
    {
      "cell_type": "code",
      "metadata": {
        "colab": {
          "base_uri": "https://localhost:8080/",
          "height": 195
        },
        "id": "4_OTOibxKGkE",
        "outputId": "125f87c4-59cc-45ac-f977-1e31da2b52e6"
      },
      "source": [
        "data.head()"
      ],
      "execution_count": null,
      "outputs": [
        {
          "output_type": "execute_result",
          "data": {
            "text/html": [
              "<div>\n",
              "<style scoped>\n",
              "    .dataframe tbody tr th:only-of-type {\n",
              "        vertical-align: middle;\n",
              "    }\n",
              "\n",
              "    .dataframe tbody tr th {\n",
              "        vertical-align: top;\n",
              "    }\n",
              "\n",
              "    .dataframe thead th {\n",
              "        text-align: right;\n",
              "    }\n",
              "</style>\n",
              "<table border=\"1\" class=\"dataframe\">\n",
              "  <thead>\n",
              "    <tr style=\"text-align: right;\">\n",
              "      <th></th>\n",
              "      <th>ID</th>\n",
              "      <th>text</th>\n",
              "      <th>label</th>\n",
              "    </tr>\n",
              "  </thead>\n",
              "  <tbody>\n",
              "    <tr>\n",
              "      <th>0</th>\n",
              "      <td>SKCLXCJ</td>\n",
              "      <td>cha3eb fey9elkoum menghir ta7ayoul ou kressi</td>\n",
              "      <td>-1</td>\n",
              "    </tr>\n",
              "    <tr>\n",
              "      <th>1</th>\n",
              "      <td>V1TVXIJ</td>\n",
              "      <td>bereau degage nathef ya slim walahi ya7chiw fi...</td>\n",
              "      <td>-1</td>\n",
              "    </tr>\n",
              "    <tr>\n",
              "      <th>2</th>\n",
              "      <td>U0TTYY8</td>\n",
              "      <td>ak slouma</td>\n",
              "      <td>1</td>\n",
              "    </tr>\n",
              "    <tr>\n",
              "      <th>3</th>\n",
              "      <td>68DX797</td>\n",
              "      <td>entom titmanou lina a7na 3iid moubarik a7na ch...</td>\n",
              "      <td>-1</td>\n",
              "    </tr>\n",
              "    <tr>\n",
              "      <th>4</th>\n",
              "      <td>OSTX8NX</td>\n",
              "      <td>hhhhhhhh blidaa minik ba3d doussieet athika il...</td>\n",
              "      <td>1</td>\n",
              "    </tr>\n",
              "  </tbody>\n",
              "</table>\n",
              "</div>"
            ],
            "text/plain": [
              "        ID                                               text  label\n",
              "0  SKCLXCJ       cha3eb fey9elkoum menghir ta7ayoul ou kressi     -1\n",
              "1  V1TVXIJ  bereau degage nathef ya slim walahi ya7chiw fi...     -1\n",
              "2  U0TTYY8                                          ak slouma      1\n",
              "3  68DX797  entom titmanou lina a7na 3iid moubarik a7na ch...     -1\n",
              "4  OSTX8NX  hhhhhhhh blidaa minik ba3d doussieet athika il...      1"
            ]
          },
          "metadata": {
            "tags": []
          },
          "execution_count": 5
        }
      ]
    },
    {
      "cell_type": "code",
      "metadata": {
        "id": "95wg1iwotiSN"
      },
      "source": [
        "data[\"text\"]=data['text'].apply(lambda x :removeDuplicates(list(x.rstrip())) )"
      ],
      "execution_count": null,
      "outputs": []
    },
    {
      "cell_type": "code",
      "metadata": {
        "id": "BtNlsKQntysv"
      },
      "source": [
        "testset[\"text\"]=testset['text'].apply(lambda x :removeDuplicates(list(x.rstrip())) )"
      ],
      "execution_count": null,
      "outputs": []
    },
    {
      "cell_type": "code",
      "metadata": {
        "colab": {
          "base_uri": "https://localhost:8080/",
          "height": 195
        },
        "id": "sngt3muVKNpk",
        "outputId": "1046b7a8-30df-49a5-8b4d-40df9806c27a"
      },
      "source": [
        "data['text'] = data['text'].apply(lambda x: x.lower())\n",
        "testset['text'] = testset['text'].apply(lambda x: x.lower())\n",
        "# removing special chars\n",
        "data['text'] = data['text'].apply((lambda x: re.sub('[^a-zA-z0-9\\s]','',x)))\n",
        "testset['text'] = testset['text'].apply((lambda x: re.sub('[^a-zA-z0-9\\s]','',x)))\n",
        "#\n",
        "data.head()\n"
      ],
      "execution_count": null,
      "outputs": [
        {
          "output_type": "execute_result",
          "data": {
            "text/html": [
              "<div>\n",
              "<style scoped>\n",
              "    .dataframe tbody tr th:only-of-type {\n",
              "        vertical-align: middle;\n",
              "    }\n",
              "\n",
              "    .dataframe tbody tr th {\n",
              "        vertical-align: top;\n",
              "    }\n",
              "\n",
              "    .dataframe thead th {\n",
              "        text-align: right;\n",
              "    }\n",
              "</style>\n",
              "<table border=\"1\" class=\"dataframe\">\n",
              "  <thead>\n",
              "    <tr style=\"text-align: right;\">\n",
              "      <th></th>\n",
              "      <th>ID</th>\n",
              "      <th>text</th>\n",
              "      <th>label</th>\n",
              "    </tr>\n",
              "  </thead>\n",
              "  <tbody>\n",
              "    <tr>\n",
              "      <th>0</th>\n",
              "      <td>SKCLXCJ</td>\n",
              "      <td>cha3eb fey9elkoum menghir ta7ayoul ou kresi</td>\n",
              "      <td>-1</td>\n",
              "    </tr>\n",
              "    <tr>\n",
              "      <th>1</th>\n",
              "      <td>V1TVXIJ</td>\n",
              "      <td>bereau degage nathef ya slim walahi ya7chiw fi...</td>\n",
              "      <td>-1</td>\n",
              "    </tr>\n",
              "    <tr>\n",
              "      <th>2</th>\n",
              "      <td>U0TTYY8</td>\n",
              "      <td>ak slouma</td>\n",
              "      <td>1</td>\n",
              "    </tr>\n",
              "    <tr>\n",
              "      <th>3</th>\n",
              "      <td>68DX797</td>\n",
              "      <td>entom titmanou lina a7na 3id moubarik a7na cha...</td>\n",
              "      <td>-1</td>\n",
              "    </tr>\n",
              "    <tr>\n",
              "      <th>4</th>\n",
              "      <td>OSTX8NX</td>\n",
              "      <td>h blida minik ba3d dousiet athika ilkol 8nayit...</td>\n",
              "      <td>1</td>\n",
              "    </tr>\n",
              "  </tbody>\n",
              "</table>\n",
              "</div>"
            ],
            "text/plain": [
              "        ID                                               text  label\n",
              "0  SKCLXCJ        cha3eb fey9elkoum menghir ta7ayoul ou kresi     -1\n",
              "1  V1TVXIJ  bereau degage nathef ya slim walahi ya7chiw fi...     -1\n",
              "2  U0TTYY8                                          ak slouma      1\n",
              "3  68DX797  entom titmanou lina a7na 3id moubarik a7na cha...     -1\n",
              "4  OSTX8NX  h blida minik ba3d dousiet athika ilkol 8nayit...      1"
            ]
          },
          "metadata": {
            "tags": []
          },
          "execution_count": 8
        }
      ]
    },
    {
      "cell_type": "code",
      "metadata": {
        "colab": {
          "base_uri": "https://localhost:8080/",
          "height": 195
        },
        "id": "M46OmVrCWGNy",
        "outputId": "03edb72c-2555-45d2-c460-04faddf742a6"
      },
      "source": [
        "testset.head()"
      ],
      "execution_count": null,
      "outputs": [
        {
          "output_type": "execute_result",
          "data": {
            "text/html": [
              "<div>\n",
              "<style scoped>\n",
              "    .dataframe tbody tr th:only-of-type {\n",
              "        vertical-align: middle;\n",
              "    }\n",
              "\n",
              "    .dataframe tbody tr th {\n",
              "        vertical-align: top;\n",
              "    }\n",
              "\n",
              "    .dataframe thead th {\n",
              "        text-align: right;\n",
              "    }\n",
              "</style>\n",
              "<table border=\"1\" class=\"dataframe\">\n",
              "  <thead>\n",
              "    <tr style=\"text-align: right;\">\n",
              "      <th></th>\n",
              "      <th>ID</th>\n",
              "      <th>text</th>\n",
              "    </tr>\n",
              "  </thead>\n",
              "  <tbody>\n",
              "    <tr>\n",
              "      <th>0</th>\n",
              "      <td>2DDHQW9</td>\n",
              "      <td>barcha aindou fiha hak w barcha teflim kadhalik</td>\n",
              "    </tr>\n",
              "    <tr>\n",
              "      <th>1</th>\n",
              "      <td>5HY6UEY</td>\n",
              "      <td>ye gernabou ye 9a7ba</td>\n",
              "    </tr>\n",
              "    <tr>\n",
              "      <th>2</th>\n",
              "      <td>ATNVUJX</td>\n",
              "      <td>saber w bara rabi m3ak 5ouya</td>\n",
              "    </tr>\n",
              "    <tr>\n",
              "      <th>3</th>\n",
              "      <td>Q9XYVOQ</td>\n",
              "      <td>cha3b ta7an tfouh</td>\n",
              "    </tr>\n",
              "    <tr>\n",
              "      <th>4</th>\n",
              "      <td>TOAHLRH</td>\n",
              "      <td>rabi y5alihoulek w yfar7ek bih w inchalah itch...</td>\n",
              "    </tr>\n",
              "  </tbody>\n",
              "</table>\n",
              "</div>"
            ],
            "text/plain": [
              "        ID                                               text\n",
              "0  2DDHQW9    barcha aindou fiha hak w barcha teflim kadhalik\n",
              "1  5HY6UEY                               ye gernabou ye 9a7ba\n",
              "2  ATNVUJX                       saber w bara rabi m3ak 5ouya\n",
              "3  Q9XYVOQ                                  cha3b ta7an tfouh\n",
              "4  TOAHLRH  rabi y5alihoulek w yfar7ek bih w inchalah itch..."
            ]
          },
          "metadata": {
            "tags": []
          },
          "execution_count": 9
        }
      ]
    },
    {
      "cell_type": "code",
      "metadata": {
        "colab": {
          "base_uri": "https://localhost:8080/"
        },
        "id": "tKawamRP33aW",
        "outputId": "c44ca5c6-0904-490f-c442-1bf14881901e"
      },
      "source": [
        "data.label.value_counts()"
      ],
      "execution_count": null,
      "outputs": [
        {
          "output_type": "execute_result",
          "data": {
            "text/plain": [
              " 1    38239\n",
              "-1    29295\n",
              " 0     2466\n",
              "Name: label, dtype: int64"
            ]
          },
          "metadata": {
            "tags": []
          },
          "execution_count": 10
        }
      ]
    },
    {
      "cell_type": "code",
      "metadata": {
        "colab": {
          "base_uri": "https://localhost:8080/",
          "height": 246
        },
        "id": "q17HjqYiKYWu",
        "outputId": "8e054d3a-0e0b-4b18-d281-d70de1894709"
      },
      "source": [
        "print(data[ data['label'] == 1].size)\n",
        "print(data[ data['label'] == -1].size)\n",
        "print(data[ data['label'] == 0].size)\n",
        "\n",
        "for idx,row in data.iterrows():\n",
        "    row[0] = row[0].replace('.','')\n",
        "    row[0] = row[0].replace(\",\",\"\")\n",
        "    row[0] = row[0].replace(\":\",\"\")\n",
        "    row[0] = row[0].replace(\"\\\"\",\"\")\n",
        "    row[0] = row[0].replace(\"!\",\"\")\n",
        "    row[0] = row[0].replace(\"â€œ\",\"\")\n",
        "    row[0] = row[0].replace(\"â€˜\",\"\")\n",
        "    row[0] = row[0].replace(\"*\",\"\")\n",
        "for idx,row in testset.iterrows():\n",
        "    row[0] = row[0].replace('.','')\n",
        "    row[0] = row[0].replace(\",\",\"\")\n",
        "    row[0] = row[0].replace(\":\",\"\")\n",
        "    row[0] = row[0].replace(\"\\\"\",\"\")\n",
        "    row[0] = row[0].replace(\"!\",\"\")\n",
        "    row[0] = row[0].replace(\"â€œ\",\"\")\n",
        "    row[0] = row[0].replace(\"â€˜\",\"\")\n",
        "    row[0] = row[0].replace(\"*\",\"\")   \n",
        "data.head()"
      ],
      "execution_count": null,
      "outputs": [
        {
          "output_type": "stream",
          "text": [
            "114717\n",
            "87885\n",
            "7398\n"
          ],
          "name": "stdout"
        },
        {
          "output_type": "execute_result",
          "data": {
            "text/html": [
              "<div>\n",
              "<style scoped>\n",
              "    .dataframe tbody tr th:only-of-type {\n",
              "        vertical-align: middle;\n",
              "    }\n",
              "\n",
              "    .dataframe tbody tr th {\n",
              "        vertical-align: top;\n",
              "    }\n",
              "\n",
              "    .dataframe thead th {\n",
              "        text-align: right;\n",
              "    }\n",
              "</style>\n",
              "<table border=\"1\" class=\"dataframe\">\n",
              "  <thead>\n",
              "    <tr style=\"text-align: right;\">\n",
              "      <th></th>\n",
              "      <th>ID</th>\n",
              "      <th>text</th>\n",
              "      <th>label</th>\n",
              "    </tr>\n",
              "  </thead>\n",
              "  <tbody>\n",
              "    <tr>\n",
              "      <th>0</th>\n",
              "      <td>SKCLXCJ</td>\n",
              "      <td>cha3eb fey9elkoum menghir ta7ayoul ou kresi</td>\n",
              "      <td>-1</td>\n",
              "    </tr>\n",
              "    <tr>\n",
              "      <th>1</th>\n",
              "      <td>V1TVXIJ</td>\n",
              "      <td>bereau degage nathef ya slim walahi ya7chiw fi...</td>\n",
              "      <td>-1</td>\n",
              "    </tr>\n",
              "    <tr>\n",
              "      <th>2</th>\n",
              "      <td>U0TTYY8</td>\n",
              "      <td>ak slouma</td>\n",
              "      <td>1</td>\n",
              "    </tr>\n",
              "    <tr>\n",
              "      <th>3</th>\n",
              "      <td>68DX797</td>\n",
              "      <td>entom titmanou lina a7na 3id moubarik a7na cha...</td>\n",
              "      <td>-1</td>\n",
              "    </tr>\n",
              "    <tr>\n",
              "      <th>4</th>\n",
              "      <td>OSTX8NX</td>\n",
              "      <td>h blida minik ba3d dousiet athika ilkol 8nayit...</td>\n",
              "      <td>1</td>\n",
              "    </tr>\n",
              "  </tbody>\n",
              "</table>\n",
              "</div>"
            ],
            "text/plain": [
              "        ID                                               text  label\n",
              "0  SKCLXCJ        cha3eb fey9elkoum menghir ta7ayoul ou kresi     -1\n",
              "1  V1TVXIJ  bereau degage nathef ya slim walahi ya7chiw fi...     -1\n",
              "2  U0TTYY8                                          ak slouma      1\n",
              "3  68DX797  entom titmanou lina a7na 3id moubarik a7na cha...     -1\n",
              "4  OSTX8NX  h blida minik ba3d dousiet athika ilkol 8nayit...      1"
            ]
          },
          "metadata": {
            "tags": []
          },
          "execution_count": 11
        }
      ]
    },
    {
      "cell_type": "code",
      "metadata": {
        "id": "jBCZ7cPT381j"
      },
      "source": [
        "data.label+=1"
      ],
      "execution_count": null,
      "outputs": []
    },
    {
      "cell_type": "code",
      "metadata": {
        "colab": {
          "base_uri": "https://localhost:8080/"
        },
        "id": "gttBQeZf3-RO",
        "outputId": "19d7a98a-c879-42db-c46f-c7939ab93972"
      },
      "source": [
        "data.label.value_counts()"
      ],
      "execution_count": null,
      "outputs": [
        {
          "output_type": "execute_result",
          "data": {
            "text/plain": [
              "2    38239\n",
              "0    29295\n",
              "1     2466\n",
              "Name: label, dtype: int64"
            ]
          },
          "metadata": {
            "tags": []
          },
          "execution_count": 13
        }
      ]
    },
    {
      "cell_type": "code",
      "metadata": {
        "id": "g9ptRmPXLG1U",
        "colab": {
          "base_uri": "https://localhost:8080/"
        },
        "outputId": "3152e000-271a-487a-ddc7-071f5b77849c"
      },
      "source": [
        "max_features = 2000\n",
        "tokenizer = Tokenizer(num_words=max_features, split=' ')\n",
        "tokenizer.fit_on_texts(data['text'].values)\n",
        "X = tokenizer.texts_to_sequences(data['text'].values)\n",
        "X = pad_sequences(X)\n",
        "X[:2]"
      ],
      "execution_count": null,
      "outputs": [
        {
          "output_type": "execute_result",
          "data": {
            "text/plain": [
              "array([[  0,   0,   0, ...,   0, 258,  25],\n",
              "       [  0,   0,   0, ..., 119,   2,   6]], dtype=int32)"
            ]
          },
          "metadata": {
            "tags": []
          },
          "execution_count": 14
        }
      ]
    },
    {
      "cell_type": "code",
      "metadata": {
        "id": "x_9PNl69Y3cT"
      },
      "source": [
        "from keras import backend as K\n",
        "\n",
        "def recall_m(y_true, y_pred):\n",
        "    true_positives = K.sum(K.round(K.clip(y_true * y_pred, 0, 1)))\n",
        "    possible_positives = K.sum(K.round(K.clip(y_true, 0, 1)))\n",
        "    recall = true_positives / (possible_positives + K.epsilon())\n",
        "    return recall\n",
        "\n",
        "def precision_m(y_true, y_pred):\n",
        "    true_positives = K.sum(K.round(K.clip(y_true * y_pred, 0, 1)))\n",
        "    predicted_positives = K.sum(K.round(K.clip(y_pred, 0, 1)))\n",
        "    precision = true_positives / (predicted_positives + K.epsilon())\n",
        "    return precision\n",
        "\n",
        "def f1_m(y_true, y_pred):\n",
        "    precision = precision_m(y_true, y_pred)\n",
        "    recall = recall_m(y_true, y_pred)\n",
        "    return 2*((precision*recall)/(precision+recall+K.epsilon()))\n"
      ],
      "execution_count": null,
      "outputs": []
    },
    {
      "cell_type": "code",
      "metadata": {
        "id": "KoDvpJa0LSRe",
        "colab": {
          "base_uri": "https://localhost:8080/"
        },
        "outputId": "d838ac1c-1519-44cc-fa0e-88f03552b4b0"
      },
      "source": [
        "Y = pd.get_dummies(data['label']).values\n",
        "X_train, X_test, Y_train, Y_test = train_test_split(X,Y, test_size = 0.20, random_state = 42)\n",
        "print(X_train.shape,Y_train.shape)\n",
        "print(X_test.shape,Y_test.shape)"
      ],
      "execution_count": null,
      "outputs": [
        {
          "output_type": "stream",
          "text": [
            "(56000, 782) (56000, 3)\n",
            "(14000, 782) (14000, 3)\n"
          ],
          "name": "stdout"
        }
      ]
    },
    {
      "cell_type": "code",
      "metadata": {
        "id": "_e3tin5iLOQt",
        "colab": {
          "base_uri": "https://localhost:8080/"
        },
        "outputId": "82e76cbf-0197-4ec1-d949-0124d33a9293"
      },
      "source": [
        "embed_dim = 128\n",
        "lstm_out = 192\n",
        "\n",
        "model = Sequential()\n",
        "model.add(Embedding(max_features, embed_dim,input_length = X_train.shape[1]))\n",
        "model.add(SpatialDropout1D(0.4))\n",
        "model.add(LSTM(lstm_out, dropout=0.2, recurrent_dropout=0))\n",
        "model.add(Dense(3,activation='softmax'))\n",
        "model.compile(loss = 'categorical_crossentropy', optimizer='adam',metrics = ['accuracy',f1_m,precision_m, recall_m])\n",
        "print(model.summary())"
      ],
      "execution_count": null,
      "outputs": [
        {
          "output_type": "stream",
          "text": [
            "Model: \"sequential\"\n",
            "_________________________________________________________________\n",
            "Layer (type)                 Output Shape              Param #   \n",
            "=================================================================\n",
            "embedding (Embedding)        (None, 782, 128)          256000    \n",
            "_________________________________________________________________\n",
            "spatial_dropout1d (SpatialDr (None, 782, 128)          0         \n",
            "_________________________________________________________________\n",
            "lstm (LSTM)                  (None, 192)               246528    \n",
            "_________________________________________________________________\n",
            "dense (Dense)                (None, 3)                 579       \n",
            "=================================================================\n",
            "Total params: 503,107\n",
            "Trainable params: 503,107\n",
            "Non-trainable params: 0\n",
            "_________________________________________________________________\n",
            "None\n"
          ],
          "name": "stdout"
        }
      ]
    },
    {
      "cell_type": "code",
      "metadata": {
        "id": "0H_ulgW9F-Lu"
      },
      "source": [
        "import os\n",
        "checkpoint_path = \"/content/drive/MyDrive/pcd/training_1/cp.ckpt\"\n",
        "checkpoint_dir = os.path.dirname(checkpoint_path)\n",
        "\n",
        "# Create a callback that saves the model's weights\n",
        "cp_callback = tf.keras.callbacks.ModelCheckpoint(filepath=checkpoint_path,\n",
        "                                                 save_weights_only=True,\n",
        "                                                 verbose=1)"
      ],
      "execution_count": null,
      "outputs": []
    },
    {
      "cell_type": "code",
      "metadata": {
        "id": "-t11ijVmLZvE",
        "colab": {
          "base_uri": "https://localhost:8080/"
        },
        "outputId": "4eb7aab2-dbba-43ca-a413-260901bf661a"
      },
      "source": [
        "batch_size = 128\n",
        "history =model.fit(X_train, Y_train, epochs = 3, batch_size=batch_size, validation_split=0.1,callbacks=[cp_callback])"
      ],
      "execution_count": null,
      "outputs": [
        {
          "output_type": "stream",
          "text": [
            "Epoch 1/3\n",
            "394/394 [==============================] - 107s 261ms/step - loss: 0.7113 - accuracy: 0.6526 - f1_m: 0.5997 - precision_m: 0.6429 - recall_m: 0.5724 - val_loss: 0.5304 - val_accuracy: 0.7755 - val_f1_m: 0.7679 - val_precision_m: 0.8050 - val_recall_m: 0.7343\n",
            "\n",
            "Epoch 00001: saving model to /content/drive/MyDrive/pcd/training_1/cp.ckpt\n",
            "Epoch 2/3\n",
            "394/394 [==============================] - 102s 259ms/step - loss: 0.5213 - accuracy: 0.7709 - f1_m: 0.7668 - precision_m: 0.7991 - recall_m: 0.7372 - val_loss: 0.5164 - val_accuracy: 0.7764 - val_f1_m: 0.7736 - val_precision_m: 0.7942 - val_recall_m: 0.7543\n",
            "\n",
            "Epoch 00002: saving model to /content/drive/MyDrive/pcd/training_1/cp.ckpt\n",
            "Epoch 3/3\n",
            "394/394 [==============================] - 102s 259ms/step - loss: 0.4941 - accuracy: 0.7840 - f1_m: 0.7803 - precision_m: 0.8100 - recall_m: 0.7530 - val_loss: 0.5091 - val_accuracy: 0.7779 - val_f1_m: 0.7734 - val_precision_m: 0.8066 - val_recall_m: 0.7430\n",
            "\n",
            "Epoch 00003: saving model to /content/drive/MyDrive/pcd/training_1/cp.ckpt\n"
          ],
          "name": "stdout"
        }
      ]
    },
    {
      "cell_type": "code",
      "metadata": {
        "id": "CVULAfIzNGgL",
        "colab": {
          "base_uri": "https://localhost:8080/"
        },
        "outputId": "bd74c1bb-8790-4df1-cc5f-bb9fb49cbf6c"
      },
      "source": [
        "Y_pred = model.predict_classes(X_test,batch_size = batch_size)"
      ],
      "execution_count": null,
      "outputs": [
        {
          "output_type": "stream",
          "text": [
            "/usr/local/lib/python3.7/dist-packages/tensorflow/python/keras/engine/sequential.py:450: UserWarning: `model.predict_classes()` is deprecated and will be removed after 2021-01-01. Please use instead:* `np.argmax(model.predict(x), axis=-1)`,   if your model does multi-class classification   (e.g. if it uses a `softmax` last-layer activation).* `(model.predict(x) > 0.5).astype(\"int32\")`,   if your model does binary classification   (e.g. if it uses a `sigmoid` last-layer activation).\n",
            "  warnings.warn('`model.predict_classes()` is deprecated and '\n"
          ],
          "name": "stderr"
        }
      ]
    },
    {
      "cell_type": "code",
      "metadata": {
        "colab": {
          "base_uri": "https://localhost:8080/"
        },
        "id": "US7YwLfAVr7I",
        "outputId": "92b71108-89f3-4d44-a712-1707e8c07256"
      },
      "source": [
        "score = model.evaluate(X_test, Y_test, verbose=1)\n",
        "\n",
        "print(\"Test Score:\", score[0])\n",
        "print(\"Test Accuracy:\", score[1])\n",
        "print(\"f1score: \", score[2])\n",
        "print(\"percision: \", score[3])\n",
        "print(\"recall: \", score[4])"
      ],
      "execution_count": null,
      "outputs": [
        {
          "output_type": "stream",
          "text": [
            "438/438 [==============================] - 26s 59ms/step - loss: 0.5093 - accuracy: 0.7787 - f1_m: 0.7710 - precision_m: 0.8044 - recall_m: 0.7412\n",
            "Test Score: 0.5092791318893433\n",
            "Test Accuracy: 0.7787142992019653\n",
            "f1score:  0.7710169553756714\n",
            "percision:  0.804379403591156\n",
            "recall:  0.7412242889404297\n"
          ],
          "name": "stdout"
        }
      ]
    },
    {
      "cell_type": "code",
      "metadata": {
        "id": "rv6zJYfMZCOm",
        "colab": {
          "base_uri": "https://localhost:8080/",
          "height": 573
        },
        "outputId": "483192fd-4c8e-4204-adce-ac5e6f43f1bb"
      },
      "source": [
        "import matplotlib.pyplot as plt\n",
        "\n",
        "plt.plot(history.history['accuracy'])\n",
        "plt.plot(history.history['val_accuracy'])\n",
        "\n",
        "plt.title('model accuracy')\n",
        "plt.ylabel('accuracy')\n",
        "plt.xlabel('epoch')\n",
        "plt.legend(['train','validation'], loc='upper left')\n",
        "plt.show()\n",
        "\n",
        "plt.plot(history.history['loss'])\n",
        "plt.plot(history.history['val_loss'])\n",
        "\n",
        "plt.title('model loss')\n",
        "plt.ylabel('loss')\n",
        "plt.xlabel('epoch')\n",
        "plt.legend(['train','validation'], loc='upper left')\n",
        "plt.show()"
      ],
      "execution_count": null,
      "outputs": [
        {
          "output_type": "display_data",
          "data": {
            "image/png": "[encoded data removed]",
            "text/plain": [
              "<Figure size 432x288 with 1 Axes>"
            ]
          },
          "metadata": {
            "tags": [],
            "needs_background": "light"
          }
        },
        {
          "output_type": "display_data",
          "data": {
            "image/png": "[encoded data removed]",
            "text/plain": [
              "<Figure size 432x288 with 1 Axes>"
            ]
          },
          "metadata": {
            "tags": [],
            "needs_background": "light"
          }
        }
      ]
    },
    {
      "cell_type": "code",
      "metadata": {
        "id": "b_52n3tvNKbV",
        "colab": {
          "base_uri": "https://localhost:8080/"
        },
        "outputId": "1c34bff9-6037-4b4c-b19d-fc84db35f227"
      },
      "source": [
        "df_test = pd.DataFrame({'true': Y_test.tolist(), 'pred':Y_pred})\n",
        "df_test['true'] = df_test['true'].apply(lambda x: np.argmax(x))\n",
        "print(\"confusion matrix\",confusion_matrix(df_test.true, df_test.pred))\n",
        "print(classification_report(df_test.true, df_test.pred))"
      ],
      "execution_count": null,
      "outputs": [
        {
          "output_type": "stream",
          "text": [
            "confusion matrix [[4901   29  929]\n",
            " [ 273   56  136]\n",
            " [1704   27 5945]]\n",
            "              precision    recall  f1-score   support\n",
            "\n",
            "           0       0.71      0.84      0.77      5859\n",
            "           1       0.50      0.12      0.19       465\n",
            "           2       0.85      0.77      0.81      7676\n",
            "\n",
            "    accuracy                           0.78     14000\n",
            "   macro avg       0.69      0.58      0.59     14000\n",
            "weighted avg       0.78      0.78      0.77     14000\n",
            "\n"
          ],
          "name": "stdout"
        }
      ]
    },
    {
      "cell_type": "code",
      "metadata": {
        "id": "UP9DtzSTVhUI"
      },
      "source": [
        "def predict(text):\n",
        "  #vectorizing the tweet by the pre-fitted tokenizer instance\n",
        "  text = tokenizer.texts_to_sequences(text)\n",
        "  #padding the tweet to have exactly the same shape as `embedding_2` input\n",
        "  text = pad_sequences(text, maxlen=28, dtype='int32', value=0)\n",
        "  sentiment = model.predict(text,batch_size=1,verbose = 2)[0]\n",
        "  if(np.argmax(sentiment) == 0):\n",
        "      print(\"negative\")\n",
        "  elif (np.argmax(sentiment) == 1):\n",
        "      print(\"neutral\")\n",
        "  elif (np.argmax(sentiment) == 2):\n",
        "      print(\"positive\")"
      ],
      "execution_count": null,
      "outputs": []
    },
    {
      "cell_type": "code",
      "metadata": {
        "id": "QuD75hXkfpHs"
      },
      "source": [
        "def prepare_submission():\n",
        "\n",
        "\n",
        "    test_data = testset['text']\n",
        "    test_id = testset['ID']\n",
        "\n",
        "    tokenizer.fit_on_texts(test_data)\n",
        "    sequence = tokenizer.texts_to_sequences(test_data)\n",
        "    test_final = pad_sequences(sequence, maxlen = max_features )\n",
        "    result_final = model.predict(test_final)\n",
        "    print(result_final)\n",
        "    dataf = pd.DataFrame(data = {'id' : test_id ,'text': testset['text'], 'positive' : result_final[:,0] ,'neutral' : result_final[:,1] ,'negative' : result_final[:,2]  })\n",
        "    dataf.to_csv('/content/drive/MyDrive/pcd/resultkerasLSTM.csv')"
      ],
      "execution_count": null,
      "outputs": []
    },
    {
      "cell_type": "code",
      "metadata": {
        "id": "5jwxTan3AcHA",
        "colab": {
          "base_uri": "https://localhost:8080/"
        },
        "outputId": "caf6f973-53b8-4513-cfc4-fa255e44c542"
      },
      "source": [
        "prepare_submission()"
      ],
      "execution_count": null,
      "outputs": [
        {
          "output_type": "stream",
          "text": [
            "WARNING:tensorflow:Model was constructed with shape (None, 782) for input KerasTensor(type_spec=TensorSpec(shape=(None, 782), dtype=tf.float32, name='embedding_input'), name='embedding_input', description=\"created by layer 'embedding_input'\"), but it was called on an input with incompatible shape (None, 2000).\n",
            "[[0.79424584 0.00767358 0.19808058]\n",
            " [0.26700994 0.0878653  0.6451248 ]\n",
            " [0.32498267 0.04075271 0.63426465]\n",
            " ...\n",
            " [0.5354652  0.03829973 0.42623514]\n",
            " [0.6938272  0.06088781 0.24528506]\n",
            " [0.23662704 0.00696154 0.75641143]]\n"
          ],
          "name": "stdout"
        }
      ]
    }
  ]
}